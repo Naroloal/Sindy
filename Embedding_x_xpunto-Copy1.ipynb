{
 "cells": [
  {
   "cell_type": "code",
   "execution_count": 6,
   "metadata": {},
   "outputs": [],
   "source": [
    "import pandas as pd\n",
    "%matplotlib widget\n",
    "%precision 30\n",
    "import copy\n",
    "import matplotlib.pyplot as plt\n",
    "from mpl_toolkits.mplot3d import Axes3D\n",
    "import numpy as np\n",
    "from scipy import cluster\n",
    "from scipy.integrate import cumtrapz,simps\n",
    "import scipy.interpolate\n",
    "from scipy.interpolate import UnivariateSpline\n",
    "\n",
    "from Funciones_auxiliares import plot_branch,get_cluster_indexs,plots_hierarchichal_clustering\n",
    "plt.close('all')"
   ]
  },
  {
   "cell_type": "code",
   "execution_count": 7,
   "metadata": {},
   "outputs": [],
   "source": [
    "data = '//home/lorenzo/Principal/Noise-Neuron discriminator/Datos/PCCIBNMZc'\n",
    "data = pd.read_pickle(data)\n",
    "#df = data[data.PatientExperiment.str.contains('HEC032|HEC031|HEC030')]\n",
    "#df.reset_index(inplace = True)\n",
    "Neurons = data[data.bNoise == 0]\n",
    "Neurons.reset_index(inplace = True)"
   ]
  },
  {
   "cell_type": "code",
   "execution_count": 8,
   "metadata": {
    "scrolled": true
   },
   "outputs": [
    {
     "data": {
      "application/vnd.jupyter.widget-view+json": {
       "model_id": "bcbd64f1700d4338a7e5ecb49e326069",
       "version_major": 2,
       "version_minor": 0
      },
      "text/plain": [
       "Canvas(toolbar=Toolbar(toolitems=[('Home', 'Reset original view', 'home', 'home'), ('Back', 'Back to previous …"
      ]
     },
     "metadata": {},
     "output_type": "display_data"
    },
    {
     "data": {
      "text/plain": [
       "[<matplotlib.lines.Line2D at 0x7fae9d681910>]"
      ]
     },
     "execution_count": 8,
     "metadata": {},
     "output_type": "execute_result"
    }
   ],
   "source": [
    "'''Ejemplo de media neuronal'''\n",
    "neuron = Neurons.loc[32]\n",
    "plt.plot(neuron.Mean)"
   ]
  },
  {
   "cell_type": "code",
   "execution_count": 9,
   "metadata": {},
   "outputs": [
    {
     "data": {
      "application/vnd.jupyter.widget-view+json": {
       "model_id": "ec53e762d10a46f592c21ff2948554ab",
       "version_major": 2,
       "version_minor": 0
      },
      "text/plain": [
       "Canvas(toolbar=Toolbar(toolitems=[('Home', 'Reset original view', 'home', 'home'), ('Back', 'Back to previous …"
      ]
     },
     "metadata": {},
     "output_type": "display_data"
    }
   ],
   "source": [
    "df = Neurons.copy()\n",
    "fig,axes,fl = plots_hierarchichal_clustering(df)\n"
   ]
  },
  {
   "cell_type": "code",
   "execution_count": 22,
   "metadata": {},
   "outputs": [],
   "source": [
    "Cluster_selected = get_cluster_indexs(5,fl)\n",
    "Emb = Neurons.loc[Cluster_selected]\n",
    "x = np.concatenate(Emb.Mean.values)\n",
    "x = x[0:64] #cada senial neuronal tiene 64 puntos.\n",
    "x = (x - np.mean(x))/np.std(x)\n",
    "x = x - x[0]"
   ]
  },
  {
   "cell_type": "code",
   "execution_count": 11,
   "metadata": {},
   "outputs": [
    {
     "data": {
      "application/vnd.jupyter.widget-view+json": {
       "model_id": "c924a1cceaea426ebf8225994903813f",
       "version_major": 2,
       "version_minor": 0
      },
      "text/plain": [
       "Canvas(toolbar=Toolbar(toolitems=[('Home', 'Reset original view', 'home', 'home'), ('Back', 'Back to previous …"
      ]
     },
     "metadata": {},
     "output_type": "display_data"
    },
    {
     "data": {
      "text/plain": [
       "<matplotlib.legend.Legend at 0x7fae9c0d8c90>"
      ]
     },
     "execution_count": 11,
     "metadata": {},
     "output_type": "execute_result"
    }
   ],
   "source": [
    "\n",
    "t = np.linspace(0,len(x) - 1.0001,10000)\n",
    "t2 = np.arange(len(x))\n",
    "x_interp = UnivariateSpline(t2,x,s = 0)\n",
    "x_punto_interp = x_interp.derivative()\n",
    "x_puntopunto_interp = x_interp.derivative(2)\n",
    "\n",
    "x_interp = x_interp(t)\n",
    "x_punto_interp = x_punto_interp(t)\n",
    "x_puntopunto_interp = x_puntopunto_interp(t)\n",
    "\n",
    "\n",
    "x_punto = np.gradient(x)\n",
    "x_puntopunto = np.gradient(x_punto)\n",
    "\n",
    "\n",
    "x_punto_integrated = cumtrapz(x_puntopunto)\n",
    "x_integrated = cumtrapz(x_punto_integrated)\n",
    "\n",
    "x_punto_integrated_interp= cumtrapz(x_puntopunto_interp)\n",
    "x_integrated_interp= cumtrapz(x_punto_integrated_interp)\n",
    "\n",
    "fig = plt.figure()\n",
    "axes = fig.subplots(2,2)\n",
    "axes[0][0].scatter(t2,x,label = 'senial original')\n",
    "axes[0][0].plot(x_integrated,color = 'r',label = 'senial integrada')\n",
    "axes[0][1].scatter(t,x_interp,color = 'g', marker = '.',label = 'senial interpolada')\n",
    "axes[0][1].plot(t[1:-1],x_integrated_interp,color = 'c',label = 'senial interpolada integrada')\n",
    "\n",
    "axes[1][0].plot(x_punto,label = 'x_punto')\n",
    "axes[1][0].plot(x_puntopunto,label = 'x_puntopunto')\n",
    "axes[1][1].plot(t,x_punto_interp,label = 'x_punto interp')\n",
    "axes[1][1].plot(t,x_puntopunto_interp,label = 'x_puntopunto interp')\n",
    "axes[0][0].legend()\n",
    "axes[0][1].legend()\n",
    "axes[1][0].legend()\n",
    "axes[1][1].legend()"
   ]
  },
  {
   "cell_type": "code",
   "execution_count": 12,
   "metadata": {},
   "outputs": [
    {
     "data": {
      "application/vnd.jupyter.widget-view+json": {
       "model_id": "f57a2571f5964f98be1f12c47164d82a",
       "version_major": 2,
       "version_minor": 0
      },
      "text/plain": [
       "Canvas(toolbar=Toolbar(toolitems=[('Home', 'Reset original view', 'home', 'home'), ('Back', 'Back to previous …"
      ]
     },
     "metadata": {},
     "output_type": "display_data"
    },
    {
     "data": {
      "text/plain": [
       "[<matplotlib.lines.Line2D at 0x7fae9b010150>]"
      ]
     },
     "execution_count": 12,
     "metadata": {},
     "output_type": "execute_result"
    }
   ],
   "source": [
    "fig = plt.figure()\n",
    "#ax = fig.gca(projection = '3d')\n",
    "#ax.plot(x_interp,x_punto_interp)\n",
    "#ax.set_xlabel('x')\n",
    "#ax.set_y\n",
    "#label('$\\dot{x}$')\n",
    "plt.plot(x_interp,x_punto_interp)\n"
   ]
  },
  {
   "cell_type": "code",
   "execution_count": 8,
   "metadata": {
    "scrolled": true
   },
   "outputs": [
    {
     "data": {
      "text/html": [
       "<div>\n",
       "<style scoped>\n",
       "    .dataframe tbody tr th:only-of-type {\n",
       "        vertical-align: middle;\n",
       "    }\n",
       "\n",
       "    .dataframe tbody tr th {\n",
       "        vertical-align: top;\n",
       "    }\n",
       "\n",
       "    .dataframe thead th {\n",
       "        text-align: right;\n",
       "    }\n",
       "</style>\n",
       "<table border=\"1\" class=\"dataframe\">\n",
       "  <thead>\n",
       "    <tr style=\"text-align: right;\">\n",
       "      <th></th>\n",
       "      <th>index</th>\n",
       "      <th>PatientExperiment</th>\n",
       "      <th>Channel</th>\n",
       "      <th>Cluster</th>\n",
       "      <th>ISI</th>\n",
       "      <th>Bulk</th>\n",
       "      <th>bNoise</th>\n",
       "      <th>Mean</th>\n",
       "      <th>ZeroCrossings</th>\n",
       "    </tr>\n",
       "  </thead>\n",
       "  <tbody>\n",
       "    <tr>\n",
       "      <th>0</th>\n",
       "      <td>3</td>\n",
       "      <td>HEC016\\016context1\\016context1</td>\n",
       "      <td>1</td>\n",
       "      <td>2</td>\n",
       "      <td>[0, 0, 0, 0, 0, 0, 0, 0, 0, 0, 0, 0, 0, 0, 0, ...</td>\n",
       "      <td>[[-9.910404058695178, -10.706527972656263, -13...</td>\n",
       "      <td>0</td>\n",
       "      <td>[5.549115009633331, 6.0470913803953605, 5.9916...</td>\n",
       "      <td>2</td>\n",
       "    </tr>\n",
       "    <tr>\n",
       "      <th>1</th>\n",
       "      <td>12</td>\n",
       "      <td>HEC016\\016context1\\016context1</td>\n",
       "      <td>2</td>\n",
       "      <td>2</td>\n",
       "      <td>[0, 0, 1, 0, 0, 2, 0, 1, 1, 3, 2, 1, 3, 1, 2, ...</td>\n",
       "      <td>[[13.198738217761697, 11.760198708498171, 8.78...</td>\n",
       "      <td>0</td>\n",
       "      <td>[13.243695374870788, 13.079745522544341, 12.71...</td>\n",
       "      <td>2</td>\n",
       "    </tr>\n",
       "    <tr>\n",
       "      <th>2</th>\n",
       "      <td>34</td>\n",
       "      <td>HEC017\\017context2\\017context2_prescr</td>\n",
       "      <td>113</td>\n",
       "      <td>2</td>\n",
       "      <td>[0, 3, 1, 1, 0, 0, 0, 1, 0, 0, 0, 0, 1, 0, 1, ...</td>\n",
       "      <td>[[18.892933610485304, 15.485716617075768, 8.32...</td>\n",
       "      <td>0</td>\n",
       "      <td>[6.993260836407021, 6.865110211253, 6.51757150...</td>\n",
       "      <td>2</td>\n",
       "    </tr>\n",
       "    <tr>\n",
       "      <th>3</th>\n",
       "      <td>35</td>\n",
       "      <td>HEC017\\017context2\\017context2_prescr</td>\n",
       "      <td>113</td>\n",
       "      <td>3</td>\n",
       "      <td>[0, 0, 0, 0, 0, 1, 0, 1, 0, 0, 0, 0, 0, 0, 0, ...</td>\n",
       "      <td>[[8.607666061103055, 4.40269092990618, 2.82740...</td>\n",
       "      <td>0</td>\n",
       "      <td>[2.722673147546738, 2.3590640477204063, 2.0802...</td>\n",
       "      <td>6</td>\n",
       "    </tr>\n",
       "    <tr>\n",
       "      <th>4</th>\n",
       "      <td>47</td>\n",
       "      <td>HEC017\\017context2\\017context2_prescr</td>\n",
       "      <td>118</td>\n",
       "      <td>3</td>\n",
       "      <td>[0, 4, 1, 0, 2, 0, 0, 0, 0, 0, 0, 1, 0, 0, 0, ...</td>\n",
       "      <td>[[5.702971353263122, 5.288244296823778, 3.4659...</td>\n",
       "      <td>0</td>\n",
       "      <td>[4.340277642514026, 4.058565844662801, 3.92196...</td>\n",
       "      <td>2</td>\n",
       "    </tr>\n",
       "  </tbody>\n",
       "</table>\n",
       "</div>"
      ],
      "text/plain": [
       "   index                      PatientExperiment Channel Cluster  \\\n",
       "0      3         HEC016\\016context1\\016context1       1       2   \n",
       "1     12         HEC016\\016context1\\016context1       2       2   \n",
       "2     34  HEC017\\017context2\\017context2_prescr     113       2   \n",
       "3     35  HEC017\\017context2\\017context2_prescr     113       3   \n",
       "4     47  HEC017\\017context2\\017context2_prescr     118       3   \n",
       "\n",
       "                                                 ISI  \\\n",
       "0  [0, 0, 0, 0, 0, 0, 0, 0, 0, 0, 0, 0, 0, 0, 0, ...   \n",
       "1  [0, 0, 1, 0, 0, 2, 0, 1, 1, 3, 2, 1, 3, 1, 2, ...   \n",
       "2  [0, 3, 1, 1, 0, 0, 0, 1, 0, 0, 0, 0, 1, 0, 1, ...   \n",
       "3  [0, 0, 0, 0, 0, 1, 0, 1, 0, 0, 0, 0, 0, 0, 0, ...   \n",
       "4  [0, 4, 1, 0, 2, 0, 0, 0, 0, 0, 0, 1, 0, 0, 0, ...   \n",
       "\n",
       "                                                Bulk bNoise  \\\n",
       "0  [[-9.910404058695178, -10.706527972656263, -13...      0   \n",
       "1  [[13.198738217761697, 11.760198708498171, 8.78...      0   \n",
       "2  [[18.892933610485304, 15.485716617075768, 8.32...      0   \n",
       "3  [[8.607666061103055, 4.40269092990618, 2.82740...      0   \n",
       "4  [[5.702971353263122, 5.288244296823778, 3.4659...      0   \n",
       "\n",
       "                                                Mean  ZeroCrossings  \n",
       "0  [5.549115009633331, 6.0470913803953605, 5.9916...              2  \n",
       "1  [13.243695374870788, 13.079745522544341, 12.71...              2  \n",
       "2  [6.993260836407021, 6.865110211253, 6.51757150...              2  \n",
       "3  [2.722673147546738, 2.3590640477204063, 2.0802...              6  \n",
       "4  [4.340277642514026, 4.058565844662801, 3.92196...              2  "
      ]
     },
     "execution_count": 8,
     "metadata": {},
     "output_type": "execute_result"
    }
   ],
   "source": [
    "Neurons.head()"
   ]
  },
  {
   "cell_type": "markdown",
   "metadata": {},
   "source": [
    "# Sindy"
   ]
  },
  {
   "cell_type": "markdown",
   "metadata": {},
   "source": [
    "Definimos Theta"
   ]
  },
  {
   "cell_type": "code",
   "execution_count": 9,
   "metadata": {},
   "outputs": [],
   "source": [
    "x = x_interp\n",
    "x_punto = x_punto_interp\n",
    "x_puntopunto = x_puntopunto_interp\n",
    "degree = 10\n",
    "idx = np.arange(1,degree,2)\n",
    "Theta = np.zeros([x.shape[0],degree])\n",
    "Theta[:,0] = np.ones(x.shape[0])\n",
    "Theta[:,1] = x\n",
    "Theta[:,2] = x_punto\n",
    "Theta[:,3] = x*x_punto\n",
    "Theta[:,4] = x_punto**2\n",
    "Theta[:,5] = x**3\n",
    "Theta[:,6] = x**2*x_punto\n",
    "Theta[:,7] = x**2\n",
    "Theta[:,8] = x_punto**3\n",
    "Theta[:,9] = x**4"
   ]
  },
  {
   "cell_type": "markdown",
   "metadata": {},
   "source": [
    "Lasso"
   ]
  },
  {
   "cell_type": "code",
   "execution_count": 10,
   "metadata": {},
   "outputs": [
    {
     "name": "stdout",
     "output_type": "stream",
     "text": [
      "(10000, 10) 10000\n"
     ]
    }
   ],
   "source": [
    "from sklearn.linear_model import Lasso\n",
    "from scipy.integrate import odeint\n",
    "\n",
    "classifier = Lasso(alpha=0.000000000001,max_iter=1000000)\n",
    "classifier.fit(Theta,x_puntopunto)\n",
    "print(Theta.shape,len(x_puntopunto))"
   ]
  },
  {
   "cell_type": "markdown",
   "metadata": {},
   "source": [
    "Vector de coeficientes ($\\eta$)"
   ]
  },
  {
   "cell_type": "code",
   "execution_count": 12,
   "metadata": {},
   "outputs": [
    {
     "name": "stdout",
     "output_type": "stream",
     "text": [
      "[ 0.                    0.042579721327655966  0.29132122218515655\n",
      "  0.20846415560777062  -0.13324995000322043  -0.058470565091640135\n",
      " -0.01316826256110804  -0.06451597101228136  -0.11427323629077762\n",
      " -0.005170770099244098]\n"
     ]
    }
   ],
   "source": [
    "coef_vector = copy.copy(classifier.coef_)\n",
    "print(coef_vector)"
   ]
  },
  {
   "cell_type": "markdown",
   "metadata": {},
   "source": [
    "Ecuaciones diferenciales"
   ]
  },
  {
   "cell_type": "code",
   "execution_count": 13,
   "metadata": {},
   "outputs": [],
   "source": [
    "def f(X,t,coef_vector):\n",
    "    r,rpunto = X\n",
    "    u = np.array([1,r,rpunto,r*rpunto,rpunto**2,r**3,rpunto*r**2,r**2,rpunto**3,r**4])\n",
    "    \n",
    "    drdt = rpunto\n",
    "    drpunto_dt = np.dot(coef_vector,u)\n",
    "    return drdt,drpunto_dt"
   ]
  },
  {
   "cell_type": "markdown",
   "metadata": {},
   "source": [
    "Integramos las ecuaciones y graficamos"
   ]
  },
  {
   "cell_type": "code",
   "execution_count": 14,
   "metadata": {},
   "outputs": [
    {
     "name": "stdout",
     "output_type": "stream",
     "text": [
      "Initial conditions: X =  1.3447872870528276e-20  X_punto =  0.0009942504213135525\n"
     ]
    },
    {
     "data": {
      "application/vnd.jupyter.widget-view+json": {
       "model_id": "458b6244f3c3445eb9746b9c5dc1c1b0",
       "version_major": 2,
       "version_minor": 0
      },
      "text/plain": [
       "Canvas(toolbar=Toolbar(toolitems=[('Home', 'Reset original view', 'home', 'home'), ('Back', 'Back to previous …"
      ]
     },
     "metadata": {},
     "output_type": "display_data"
    },
    {
     "data": {
      "text/plain": [
       "[<matplotlib.lines.Line2D at 0x7f60eac7eb50>]"
      ]
     },
     "execution_count": 14,
     "metadata": {},
     "output_type": "execute_result"
    }
   ],
   "source": [
    "X0 = (x[0],x_punto[0])\n",
    "print('Initial conditions: X = ',X0[0],' X_punto = ',X0[1])\n",
    "t = np.linspace(0,64,100000)\n",
    "t2 = np.linspace(0,64,len(x))\n",
    "tray = odeint(f,X0,t,args = (coef_vector,)).T\n",
    "\n",
    "fig = plt.figure()\n",
    "\n",
    "plt.plot(t,tray[0])\n",
    "plt.plot(t2,x)\n"
   ]
  },
  {
   "cell_type": "code",
   "execution_count": 15,
   "metadata": {},
   "outputs": [
    {
     "data": {
      "application/vnd.jupyter.widget-view+json": {
       "model_id": "160d8ffc21c9432398928c9009054290",
       "version_major": 2,
       "version_minor": 0
      },
      "text/plain": [
       "Canvas(toolbar=Toolbar(toolitems=[('Home', 'Reset original view', 'home', 'home'), ('Back', 'Back to previous …"
      ]
     },
     "metadata": {},
     "output_type": "display_data"
    }
   ],
   "source": [
    "t = np.linspace(0,64,100000)\n",
    "t2 = np.linspace(64,0,1000)\n",
    "\n",
    "X0 = (0,.010)\n",
    "tray = odeint(f,X0,t,args = (coef_vector,)).T\n",
    "\n",
    "X1 = (-1,.01)\n",
    "tray1 = odeint(f,X1,t,args = (coef_vector,)).T\n",
    "\n",
    "X2 = (.1,.01)\n",
    "tray2 = odeint(f,X2,t,args = (coef_vector,)).T\n",
    "\n",
    "X3 = (.2,.01)\n",
    "tray3 = odeint(f,X3,t,args = (coef_vector,)).T\n",
    "\n",
    "X4 = 0.,.01\n",
    "tray4 = odeint(f,X4,t2,args = (coef_vector,)).T\n",
    "\n",
    "plt.figure()\n",
    "plt.plot(tray[0],tray[1])\n",
    "plt.plot(tray1[0],tray1[1])\n",
    "plt.plot(tray2[0],tray2[1])\n",
    "plt.plot(tray3[0],tray3[1])\n",
    "plt.plot(tray4[0],tray4[1])\n",
    "\n",
    "a = tray4[:,-1]\n"
   ]
  },
  {
   "cell_type": "code",
   "execution_count": 16,
   "metadata": {},
   "outputs": [
    {
     "data": {
      "application/vnd.jupyter.widget-view+json": {
       "model_id": "81c8bd85442447baa8af85558bbb0582",
       "version_major": 2,
       "version_minor": 0
      },
      "text/plain": [
       "Canvas(toolbar=Toolbar(toolitems=[('Home', 'Reset original view', 'home', 'home'), ('Back', 'Back to previous …"
      ]
     },
     "metadata": {},
     "output_type": "display_data"
    },
    {
     "data": {
      "text/plain": [
       "<matplotlib.collections.PathCollection at 0x7f60eab358d0>"
      ]
     },
     "execution_count": 16,
     "metadata": {},
     "output_type": "execute_result"
    }
   ],
   "source": [
    "coef_vector = copy.copy(classifier.coef_)\n",
    "#coef_vector[2] = .28\n",
    "#coef_vector[1] = 0.043\n",
    "#coef_vector[3] = .235\n",
    "#coef_vector[8] = -.1\n",
    "t = np.linspace(0,100,10000)\n",
    "cross = (-0.03,0.056)\n",
    "ic = [cross + 0.00*(np.random.random(2) - 1/2) for i in range(1)]\n",
    "plt.close('all')\n",
    "plt.figure(90,figsize = (10,10))\n",
    "for i in ic:\n",
    "    tray = odeint(f,i,t,args = (coef_vector,)).T\n",
    "    plt.plot(tray[0],tray[1])\n",
    "plt.plot(x,x_punto,'red')\n",
    "plt.scatter(cross[0],cross[1],color = 'red')\n"
   ]
  },
  {
   "cell_type": "code",
   "execution_count": 17,
   "metadata": {},
   "outputs": [
    {
     "data": {
      "application/vnd.jupyter.widget-view+json": {
       "model_id": "9b15b1bf93db45f5abde0b2c7767dd7c",
       "version_major": 2,
       "version_minor": 0
      },
      "text/plain": [
       "Canvas(toolbar=Toolbar(toolitems=[('Home', 'Reset original view', 'home', 'home'), ('Back', 'Back to previous …"
      ]
     },
     "metadata": {},
     "output_type": "display_data"
    },
    {
     "name": "stdout",
     "output_type": "stream",
     "text": [
      "0.055283496093749995293\n",
      "0.055283520507812496103\n",
      "0.055283544921874996914\n"
     ]
    },
    {
     "data": {
      "text/plain": [
       "<matplotlib.legend.Legend at 0x7f60e82b9850>"
      ]
     },
     "execution_count": 17,
     "metadata": {},
     "output_type": "execute_result"
    }
   ],
   "source": [
    "cross = (-0.03, 0.056)\n",
    "t = np.linspace(0,100,10000)\n",
    "plt.figure(figsize = (10,10))\n",
    "#Change mu1\n",
    "mu1_list = np.linspace(0.055283496093749995,0.055283544921875,3,dtype = 'float128')\n",
    "for mu1 in mu1_list:\n",
    "    coef_vector[1] = mu1\n",
    "    tray = odeint(f,cross,t,args = (coef_vector,)).T\n",
    "    plt.plot(t,tray[0],label = '$\\mu$ = {}'.format(mu1))\n",
    "    print(mu1)\n",
    "t2 = np.linspace(0,64,10000)\n",
    "plt.plot(t2,x)\n",
    "plt.legend()\n"
   ]
  },
  {
   "cell_type": "code",
   "execution_count": 18,
   "metadata": {
    "scrolled": true
   },
   "outputs": [
    {
     "data": {
      "application/vnd.jupyter.widget-view+json": {
       "model_id": "31322351f7f142519ab1082b35e3dfc3",
       "version_major": 2,
       "version_minor": 0
      },
      "text/plain": [
       "Canvas(toolbar=Toolbar(toolitems=[('Home', 'Reset original view', 'home', 'home'), ('Back', 'Back to previous …"
      ]
     },
     "metadata": {},
     "output_type": "display_data"
    },
    {
     "name": "stderr",
     "output_type": "stream",
     "text": [
      "No handles with labels found to put in legend.\n",
      "No handles with labels found to put in legend.\n",
      "No handles with labels found to put in legend.\n"
     ]
    },
    {
     "name": "stdout",
     "output_type": "stream",
     "text": [
      "0.055283496093749995293 3900 3159\n",
      "0.055283496093749995293 up\n",
      "0.05528350830078124223 4049 3307\n",
      "0.05528350830078124223 up\n",
      "0.055283520507812496103 4543 3799\n",
      "0.055283520507812496103 up\n",
      "0.055283532714843749978 3546 1000000\n",
      "0.055283532714843749978 down\n",
      "0.055283544921874996914 3363 1000000\n",
      "0.055283544921874996914 down\n",
      "mu_min =  0.055283520507812496103 mu_max =  0.055283532714843749978\n",
      "0.055283520507812496103 4543 3799\n",
      "0.055283520507812496103 up\n",
      "0.055283523559570309572 4037 1000000\n",
      "0.055283523559570309572 down\n",
      "0.05528352661132812304 3753 1000000\n",
      "0.05528352661132812304 down\n",
      "0.05528352966308593651 3628 1000000\n",
      "0.05528352966308593651 down\n",
      "0.055283532714843749978 3546 1000000\n",
      "0.055283532714843749978 down\n",
      "mu_min =  0.055283520507812496103 mu_max =  0.055283523559570309572\n",
      "0.055283520507812496103 4543 3799\n",
      "0.055283520507812496103 up\n",
      "0.05528352127075194947 4680 3936\n",
      "0.05528352127075194947 up\n",
      "0.055283522033691402837 5045 4300\n",
      "0.055283522033691402837 up\n",
      "0.055283522796630856205 4242 1000000\n",
      "0.055283522796630856205 down\n",
      "0.055283523559570309572 4037 1000000\n",
      "0.055283523559570309572 down\n",
      "mu_min =  0.055283522033691402837 mu_max =  0.055283522796630856205\n",
      "0.055283522033691402837 5045 4300\n",
      "0.055283522033691402837 up\n"
     ]
    },
    {
     "name": "stderr",
     "output_type": "stream",
     "text": [
      "No handles with labels found to put in legend.\n",
      "No handles with labels found to put in legend.\n",
      "No handles with labels found to put in legend.\n",
      "No handles with labels found to put in legend.\n"
     ]
    },
    {
     "name": "stdout",
     "output_type": "stream",
     "text": [
      "0.05528352222442626618 5636 4890\n",
      "0.05528352222442626618 up\n",
      "0.05528352241516112952 4517 1000000\n",
      "0.05528352241516112952 down\n",
      "0.055283522605895992863 4341 1000000\n",
      "0.055283522605895992863 down\n",
      "0.055283522796630856205 4242 1000000\n",
      "0.055283522796630856205 down\n",
      "mu_min =  0.05528352222442626618 mu_max =  0.05528352241516112952\n",
      "0.05528352222442626618 5636 4890\n",
      "0.05528352222442626618 up\n",
      "0.055283522272109982015 4928 1000000\n",
      "0.055283522272109982015 down\n",
      "0.05528352231979369785 4706 1000000\n",
      "0.05528352231979369785 down\n",
      "0.055283522367477413686 4593 1000000\n",
      "0.055283522367477413686 down\n",
      "0.05528352241516112952 4517 1000000\n",
      "0.05528352241516112952 down\n",
      "mu_min =  0.05528352222442626618 mu_max =  0.055283522272109982015\n",
      "0.05528352222442626618 5636 4890\n",
      "0.05528352222442626618 up\n",
      "0.055283522236347195138 5917 5171\n",
      "0.055283522236347195138 up\n",
      "0.055283522248268124097 5288 1000000\n",
      "0.055283522248268124097 down\n",
      "0.055283522260189053056 5046 1000000\n",
      "0.055283522260189053056 down\n",
      "0.055283522272109982015 4928 1000000\n",
      "0.055283522272109982015 down\n",
      "mu_min =  0.055283522236347195138 mu_max =  0.055283522248268124097\n",
      "0.055283522236347195138 5917 5171\n",
      "0.055283522236347195138 up\n",
      "0.055283522239327427376 6115 5369\n",
      "0.055283522239327427376 up\n",
      "0.055283522242307659618 5818 1000000\n",
      "0.055283522242307659618 down\n",
      "0.05528352224528789186 5428 1000000\n",
      "0.05528352224528789186 down\n",
      "0.055283522248268124097 5288 1000000\n",
      "0.055283522248268124097 down\n",
      "mu_min =  0.055283522239327427376 mu_max =  0.055283522242307659618\n",
      "0.055283522239327427376 6115 5369\n",
      "0.055283522239327427376 up\n",
      "0.055283522240072485437 6209 5463\n",
      "0.055283522240072485437 up\n",
      "0.0552835222408175435 6368 5622\n",
      "0.0552835222408175435 up\n"
     ]
    },
    {
     "name": "stderr",
     "output_type": "stream",
     "text": [
      "No handles with labels found to put in legend.\n",
      "No handles with labels found to put in legend.\n",
      "No handles with labels found to put in legend.\n",
      "No handles with labels found to put in legend.\n",
      "No handles with labels found to put in legend.\n"
     ]
    },
    {
     "name": "stdout",
     "output_type": "stream",
     "text": [
      "0.055283522241562601556 7111 6365\n",
      "0.055283522241562601556 up\n",
      "0.055283522242307659618 5818 1000000\n",
      "0.055283522242307659618 down\n",
      "mu_min =  0.055283522241562601556 mu_max =  0.055283522242307659618\n",
      "0.055283522241562601556 7111 6365\n",
      "0.055283522241562601556 up\n",
      "0.05528352224174886607 6183 1000000\n",
      "0.05528352224174886607 down\n",
      "0.055283522241935130587 5994 1000000\n",
      "0.055283522241935130587 down\n",
      "0.055283522242121395104 5890 1000000\n",
      "0.055283522242121395104 down\n",
      "0.055283522242307659618 5818 1000000\n",
      "0.055283522242307659618 down\n",
      "mu_min =  0.055283522241562601556 mu_max =  0.05528352224174886607\n",
      "0.055283522241562601556 7111 6365\n",
      "0.055283522241562601556 up\n",
      "0.055283522241609167684 6768 1000000\n",
      "0.055283522241609167684 down\n",
      "0.055283522241655733815 6406 1000000\n",
      "0.055283522241655733815 down\n",
      "0.055283522241702299942 6269 1000000\n",
      "0.055283522241702299942 down\n",
      "0.05528352224174886607 6183 1000000\n",
      "0.05528352224174886607 down\n",
      "mu_min =  0.055283522241562601556 mu_max =  0.055283522241609167684\n",
      "0.055283522241562601556 7111 6365\n",
      "0.055283522241562601556 up\n",
      "0.05528352224157424309 7212 6466\n",
      "0.05528352224157424309 up\n",
      "0.05528352224158588462 7387 6641\n",
      "0.05528352224158588462 up\n",
      "0.05528352224159752615 7339 1000000\n",
      "0.05528352224159752615 down\n",
      "0.055283522241609167684 6768 1000000\n",
      "0.055283522241609167684 down\n",
      "mu_min =  0.05528352224158588462 mu_max =  0.05528352224159752615\n",
      "0.05528352224158588462 7387 6641\n",
      "0.05528352224158588462 up\n",
      "0.055283522241588795003 7468 6722\n",
      "0.055283522241588795003 up\n",
      "0.055283522241591705385 7581 6835\n",
      "0.055283522241591705385 up\n",
      "0.055283522241594615766 1000000 7063\n",
      "0.055283522241594615766 up\n",
      "0.05528352224159752615 7339 1000000\n",
      "0.05528352224159752615 down\n",
      "mu_min =  0.055283522241594615766 mu_max =  0.05528352224159752615\n"
     ]
    },
    {
     "name": "stderr",
     "output_type": "stream",
     "text": [
      "No handles with labels found to put in legend.\n",
      "No handles with labels found to put in legend.\n",
      "No handles with labels found to put in legend.\n",
      "No handles with labels found to put in legend.\n",
      "No handles with labels found to put in legend.\n"
     ]
    },
    {
     "name": "stdout",
     "output_type": "stream",
     "text": [
      "0.055283522241594615766 1000000 7063\n",
      "0.055283522241594615766 up\n",
      "0.05528352224159534336 1000000 7167\n",
      "0.05528352224159534336 up\n",
      "0.05528352224159607096 1000000 7519\n",
      "0.05528352224159607096 up\n",
      "0.055283522241596798557 7585 1000000\n",
      "0.055283522241596798557 down\n",
      "0.05528352224159752615 7339 1000000\n",
      "0.05528352224159752615 down\n",
      "mu_min =  0.05528352224159607096 mu_max =  0.055283522241596798557\n",
      "0.05528352224159607096 1000000 7519\n",
      "0.05528352224159607096 up\n",
      "0.055283522241596252857 1000000 7592\n",
      "0.055283522241596252857 up\n",
      "0.05528352224159643476 1000000 1000000\n",
      "0.05528352224159643476 stable\n",
      "0.055283522241596616658 7648 1000000\n",
      "0.055283522241596616658 down\n",
      "0.055283522241596798557 7585 1000000\n",
      "0.055283522241596798557 down\n",
      "mu_min =  0.055283522241596252857 mu_max =  0.055283522241596616658\n",
      "0.055283522241596252857 1000000 7592\n",
      "0.055283522241596252857 up\n",
      "0.05528352224159634381 1000000 7593\n",
      "0.05528352224159634381 up\n",
      "0.05528352224159643476 1000000 1000000\n",
      "0.05528352224159643476 stable\n",
      "0.055283522241596525707 7693 1000000\n",
      "0.055283522241596525707 down\n",
      "0.055283522241596616658 7648 1000000\n",
      "0.055283522241596616658 down\n",
      "mu_min =  0.05528352224159634381 mu_max =  0.055283522241596525707\n",
      "0.05528352224159634381 1000000 7593\n",
      "0.05528352224159634381 up\n",
      "0.055283522241596389284 1000000 1000000\n",
      "0.055283522241596389284 stable\n",
      "0.05528352224159643476 1000000 1000000\n",
      "0.05528352224159643476 stable\n",
      "0.05528352224159648023 1000000 1000000\n",
      "0.05528352224159648023 stable\n",
      "0.055283522241596525707 7693 1000000\n",
      "0.055283522241596525707 down\n",
      "mu_min =  0.05528352224159634381 mu_max =  0.055283522241596525707\n",
      "0.05528352224159634381 1000000 7593\n",
      "0.05528352224159634381 up\n",
      "0.055283522241596389284 1000000 1000000\n",
      "0.055283522241596389284 stable\n",
      "0.05528352224159643476 1000000 1000000\n",
      "0.05528352224159643476 stable\n",
      "0.05528352224159648023 1000000 1000000\n",
      "0.05528352224159648023 stable\n",
      "0.055283522241596525707 7693 1000000\n",
      "0.055283522241596525707 down\n",
      "mu_min =  0.05528352224159634381 mu_max =  0.055283522241596525707\n"
     ]
    },
    {
     "name": "stderr",
     "output_type": "stream",
     "text": [
      "No handles with labels found to put in legend.\n",
      "No handles with labels found to put in legend.\n",
      "No handles with labels found to put in legend.\n",
      "No handles with labels found to put in legend.\n"
     ]
    },
    {
     "name": "stdout",
     "output_type": "stream",
     "text": [
      "0.05528352224159634381 1000000 7593\n",
      "0.05528352224159634381 up\n",
      "0.055283522241596389284 1000000 1000000\n",
      "0.055283522241596389284 stable\n",
      "0.05528352224159643476 1000000 1000000\n",
      "0.05528352224159643476 stable\n",
      "0.05528352224159648023 1000000 1000000\n",
      "0.05528352224159648023 stable\n",
      "0.055283522241596525707 7693 1000000\n",
      "0.055283522241596525707 down\n",
      "mu_min =  0.05528352224159634381 mu_max =  0.055283522241596525707\n",
      "0.05528352224159634381 1000000 7593\n",
      "0.05528352224159634381 up\n",
      "0.055283522241596389284 1000000 1000000\n",
      "0.055283522241596389284 stable\n",
      "0.05528352224159643476 1000000 1000000\n",
      "0.05528352224159643476 stable\n",
      "0.05528352224159648023 1000000 1000000\n",
      "0.05528352224159648023 stable\n",
      "0.055283522241596525707 7693 1000000\n",
      "0.055283522241596525707 down\n",
      "mu_min =  0.05528352224159634381 mu_max =  0.055283522241596525707\n",
      "0.05528352224159634381 1000000 7593\n",
      "0.05528352224159634381 up\n",
      "0.055283522241596389284 1000000 1000000\n",
      "0.055283522241596389284 stable\n",
      "0.05528352224159643476 1000000 1000000\n",
      "0.05528352224159643476 stable\n",
      "0.05528352224159648023 1000000 1000000\n",
      "0.05528352224159648023 stable\n",
      "0.055283522241596525707 7693 1000000\n",
      "0.055283522241596525707 down\n",
      "mu_min =  0.05528352224159634381 mu_max =  0.055283522241596525707\n",
      "0.05528352224159634381 1000000 7593\n",
      "0.05528352224159634381 up\n",
      "0.055283522241596389284 1000000 1000000\n",
      "0.055283522241596389284 stable\n",
      "0.05528352224159643476 1000000 1000000\n",
      "0.05528352224159643476 stable\n",
      "0.05528352224159648023 1000000 1000000\n",
      "0.05528352224159648023 stable\n",
      "0.055283522241596525707 7693 1000000\n",
      "0.055283522241596525707 down\n",
      "mu_min =  0.05528352224159634381 mu_max =  0.055283522241596525707\n",
      "0.05528352224159634381 1000000 7593\n",
      "0.05528352224159634381 up\n",
      "0.055283522241596389284 1000000 1000000\n",
      "0.055283522241596389284 stable\n"
     ]
    },
    {
     "name": "stderr",
     "output_type": "stream",
     "text": [
      "No handles with labels found to put in legend.\n",
      "No handles with labels found to put in legend.\n",
      "No handles with labels found to put in legend.\n",
      "No handles with labels found to put in legend.\n",
      "No handles with labels found to put in legend.\n"
     ]
    },
    {
     "name": "stdout",
     "output_type": "stream",
     "text": [
      "0.05528352224159643476 1000000 1000000\n",
      "0.05528352224159643476 stable\n",
      "0.05528352224159648023 1000000 1000000\n",
      "0.05528352224159648023 stable\n",
      "0.055283522241596525707 7693 1000000\n",
      "0.055283522241596525707 down\n",
      "mu_min =  0.05528352224159634381 mu_max =  0.055283522241596525707\n",
      "0.05528352224159634381 1000000 7593\n",
      "0.05528352224159634381 up\n",
      "0.055283522241596389284 1000000 1000000\n",
      "0.055283522241596389284 stable\n",
      "0.05528352224159643476 1000000 1000000\n",
      "0.05528352224159643476 stable\n",
      "0.05528352224159648023 1000000 1000000\n",
      "0.05528352224159648023 stable\n",
      "0.055283522241596525707 7693 1000000\n",
      "0.055283522241596525707 down\n",
      "mu_min =  0.05528352224159634381 mu_max =  0.055283522241596525707\n",
      "0.05528352224159634381 1000000 7593\n",
      "0.05528352224159634381 up\n",
      "0.055283522241596389284 1000000 1000000\n",
      "0.055283522241596389284 stable\n",
      "0.05528352224159643476 1000000 1000000\n",
      "0.05528352224159643476 stable\n",
      "0.05528352224159648023 1000000 1000000\n",
      "0.05528352224159648023 stable\n",
      "0.055283522241596525707 7693 1000000\n",
      "0.055283522241596525707 down\n",
      "mu_min =  0.05528352224159634381 mu_max =  0.055283522241596525707\n",
      "0.05528352224159634381 1000000 7593\n",
      "0.05528352224159634381 up\n",
      "0.055283522241596389284 1000000 1000000\n",
      "0.055283522241596389284 stable\n",
      "0.05528352224159643476 1000000 1000000\n",
      "0.05528352224159643476 stable\n",
      "0.05528352224159648023 1000000 1000000\n",
      "0.05528352224159648023 stable\n",
      "0.055283522241596525707 7693 1000000\n",
      "0.055283522241596525707 down\n",
      "mu_min =  0.05528352224159634381 mu_max =  0.055283522241596525707\n",
      "0.05528352224159634381 1000000 7593\n",
      "0.05528352224159634381 up\n",
      "0.055283522241596389284 1000000 1000000\n",
      "0.055283522241596389284 stable\n",
      "0.05528352224159643476 1000000 1000000\n",
      "0.05528352224159643476 stable\n",
      "0.05528352224159648023 1000000 1000000\n",
      "0.05528352224159648023 stable\n",
      "0.055283522241596525707 7693 1000000\n",
      "0.055283522241596525707 down\n",
      "mu_min =  0.05528352224159634381 mu_max =  0.055283522241596525707\n",
      "0.05528352224159634381 1000000 7593\n",
      "0.05528352224159634381 up\n"
     ]
    },
    {
     "name": "stderr",
     "output_type": "stream",
     "text": [
      "No handles with labels found to put in legend.\n",
      "No handles with labels found to put in legend.\n",
      "No handles with labels found to put in legend.\n",
      "No handles with labels found to put in legend.\n",
      "No handles with labels found to put in legend.\n"
     ]
    },
    {
     "name": "stdout",
     "output_type": "stream",
     "text": [
      "0.055283522241596389284 1000000 1000000\n",
      "0.055283522241596389284 stable\n",
      "0.05528352224159643476 1000000 1000000\n",
      "0.05528352224159643476 stable\n",
      "0.05528352224159648023 1000000 1000000\n",
      "0.05528352224159648023 stable\n",
      "0.055283522241596525707 7693 1000000\n",
      "0.055283522241596525707 down\n",
      "mu_min =  0.05528352224159634381 mu_max =  0.055283522241596525707\n",
      "0.05528352224159634381 1000000 7593\n",
      "0.05528352224159634381 up\n",
      "0.055283522241596389284 1000000 1000000\n",
      "0.055283522241596389284 stable\n",
      "0.05528352224159643476 1000000 1000000\n",
      "0.05528352224159643476 stable\n",
      "0.05528352224159648023 1000000 1000000\n",
      "0.05528352224159648023 stable\n",
      "0.055283522241596525707 7693 1000000\n",
      "0.055283522241596525707 down\n",
      "mu_min =  0.05528352224159634381 mu_max =  0.055283522241596525707\n",
      "0.05528352224159634381 1000000 7593\n",
      "0.05528352224159634381 up\n",
      "0.055283522241596389284 1000000 1000000\n",
      "0.055283522241596389284 stable\n",
      "0.05528352224159643476 1000000 1000000\n",
      "0.05528352224159643476 stable\n",
      "0.05528352224159648023 1000000 1000000\n",
      "0.05528352224159648023 stable\n",
      "0.055283522241596525707 7693 1000000\n",
      "0.055283522241596525707 down\n",
      "mu_min =  0.05528352224159634381 mu_max =  0.055283522241596525707\n",
      "0.05528352224159634381 1000000 7593\n",
      "0.05528352224159634381 up\n",
      "0.055283522241596389284 1000000 1000000\n",
      "0.055283522241596389284 stable\n",
      "0.05528352224159643476 1000000 1000000\n",
      "0.05528352224159643476 stable\n",
      "0.05528352224159648023 1000000 1000000\n",
      "0.05528352224159648023 stable\n",
      "0.055283522241596525707 7693 1000000\n",
      "0.055283522241596525707 down\n",
      "mu_min =  0.05528352224159634381 mu_max =  0.055283522241596525707\n",
      "0.05528352224159634381 1000000 7593\n",
      "0.05528352224159634381 up\n",
      "0.055283522241596389284 1000000 1000000\n",
      "0.055283522241596389284 stable\n",
      "0.05528352224159643476 1000000 1000000\n",
      "0.05528352224159643476 stable\n",
      "0.05528352224159648023 1000000 1000000\n",
      "0.05528352224159648023 stable\n",
      "0.055283522241596525707 7693 1000000\n",
      "0.055283522241596525707 down\n",
      "mu_min =  0.05528352224159634381 mu_max =  0.055283522241596525707\n"
     ]
    },
    {
     "name": "stderr",
     "output_type": "stream",
     "text": [
      "No handles with labels found to put in legend.\n",
      "No handles with labels found to put in legend.\n",
      "No handles with labels found to put in legend.\n",
      "No handles with labels found to put in legend.\n",
      "No handles with labels found to put in legend.\n"
     ]
    },
    {
     "name": "stdout",
     "output_type": "stream",
     "text": [
      "0.05528352224159634381 1000000 7593\n",
      "0.05528352224159634381 up\n",
      "0.055283522241596389284 1000000 1000000\n",
      "0.055283522241596389284 stable\n",
      "0.05528352224159643476 1000000 1000000\n",
      "0.05528352224159643476 stable\n",
      "0.05528352224159648023 1000000 1000000\n",
      "0.05528352224159648023 stable\n",
      "0.055283522241596525707 7693 1000000\n",
      "0.055283522241596525707 down\n",
      "mu_min =  0.05528352224159634381 mu_max =  0.055283522241596525707\n",
      "0.05528352224159634381 1000000 7593\n",
      "0.05528352224159634381 up\n",
      "0.055283522241596389284 1000000 1000000\n",
      "0.055283522241596389284 stable\n",
      "0.05528352224159643476 1000000 1000000\n",
      "0.05528352224159643476 stable\n",
      "0.05528352224159648023 1000000 1000000\n",
      "0.05528352224159648023 stable\n",
      "0.055283522241596525707 7693 1000000\n",
      "0.055283522241596525707 down\n",
      "mu_min =  0.05528352224159634381 mu_max =  0.055283522241596525707\n",
      "0.05528352224159634381 1000000 7593\n",
      "0.05528352224159634381 up\n",
      "0.055283522241596389284 1000000 1000000\n",
      "0.055283522241596389284 stable\n",
      "0.05528352224159643476 1000000 1000000\n",
      "0.05528352224159643476 stable\n",
      "0.05528352224159648023 1000000 1000000\n",
      "0.05528352224159648023 stable\n",
      "0.055283522241596525707 7693 1000000\n",
      "0.055283522241596525707 down\n",
      "mu_min =  0.05528352224159634381 mu_max =  0.055283522241596525707\n",
      "0.05528352224159634381 1000000 7593\n",
      "0.05528352224159634381 up\n",
      "0.055283522241596389284 1000000 1000000\n",
      "0.055283522241596389284 stable\n",
      "0.05528352224159643476 1000000 1000000\n",
      "0.05528352224159643476 stable\n",
      "0.05528352224159648023 1000000 1000000\n",
      "0.05528352224159648023 stable\n",
      "0.055283522241596525707 7693 1000000\n",
      "0.055283522241596525707 down\n",
      "mu_min =  0.05528352224159634381 mu_max =  0.055283522241596525707\n",
      "0.05528352224159634381 1000000 7593\n",
      "0.05528352224159634381 up\n",
      "0.055283522241596389284 1000000 1000000\n",
      "0.055283522241596389284 stable\n",
      "0.05528352224159643476 1000000 1000000\n",
      "0.05528352224159643476 stable\n",
      "0.05528352224159648023 1000000 1000000\n",
      "0.05528352224159648023 stable\n",
      "0.055283522241596525707 7693 1000000\n",
      "0.055283522241596525707 down\n",
      "mu_min =  0.05528352224159634381 mu_max =  0.055283522241596525707\n"
     ]
    },
    {
     "name": "stderr",
     "output_type": "stream",
     "text": [
      "No handles with labels found to put in legend.\n",
      "No handles with labels found to put in legend.\n",
      "No handles with labels found to put in legend.\n",
      "No handles with labels found to put in legend.\n"
     ]
    },
    {
     "name": "stdout",
     "output_type": "stream",
     "text": [
      "0.05528352224159634381 1000000 7593\n",
      "0.05528352224159634381 up\n",
      "0.055283522241596389284 1000000 1000000\n",
      "0.055283522241596389284 stable\n",
      "0.05528352224159643476 1000000 1000000\n",
      "0.05528352224159643476 stable\n",
      "0.05528352224159648023 1000000 1000000\n",
      "0.05528352224159648023 stable\n",
      "0.055283522241596525707 7693 1000000\n",
      "0.055283522241596525707 down\n",
      "mu_min =  0.05528352224159634381 mu_max =  0.055283522241596525707\n",
      "0.05528352224159634381 1000000 7593\n",
      "0.05528352224159634381 up\n",
      "0.055283522241596389284 1000000 1000000\n",
      "0.055283522241596389284 stable\n",
      "0.05528352224159643476 1000000 1000000\n",
      "0.05528352224159643476 stable\n",
      "0.05528352224159648023 1000000 1000000\n",
      "0.05528352224159648023 stable\n",
      "0.055283522241596525707 7693 1000000\n",
      "0.055283522241596525707 down\n",
      "mu_min =  0.05528352224159634381 mu_max =  0.055283522241596525707\n",
      "0.05528352224159634381 1000000 7593\n",
      "0.05528352224159634381 up\n",
      "0.055283522241596389284 1000000 1000000\n",
      "0.055283522241596389284 stable\n",
      "0.05528352224159643476 1000000 1000000\n",
      "0.05528352224159643476 stable\n",
      "0.05528352224159648023 1000000 1000000\n",
      "0.05528352224159648023 stable\n",
      "0.055283522241596525707 7693 1000000\n",
      "0.055283522241596525707 down\n",
      "mu_min =  0.05528352224159634381 mu_max =  0.055283522241596525707\n",
      "0.05528352224159634381 1000000 7593\n",
      "0.05528352224159634381 up\n",
      "0.055283522241596389284 1000000 1000000\n",
      "0.055283522241596389284 stable\n",
      "0.05528352224159643476 1000000 1000000\n",
      "0.05528352224159643476 stable\n",
      "0.05528352224159648023 1000000 1000000\n",
      "0.05528352224159648023 stable\n",
      "0.055283522241596525707 7693 1000000\n",
      "0.055283522241596525707 down\n",
      "mu_min =  0.05528352224159634381 mu_max =  0.055283522241596525707\n",
      "0.05528352224159643\n"
     ]
    },
    {
     "data": {
      "text/plain": [
       "[<matplotlib.lines.Line2D at 0x7f60e81c3710>]"
      ]
     },
     "execution_count": 18,
     "metadata": {},
     "output_type": "execute_result"
    }
   ],
   "source": [
    "def mov_parameter(function,n,initial_parameters,initial_condition,coef_vector):\n",
    "        t = np.linspace(0,100,10000)\n",
    "        mu_min,mu_max = initial_parameters\n",
    "      \n",
    "        up_down = []\n",
    "                 \n",
    "        threshold_inf = -1\n",
    "        threshold_sup = .5\n",
    "        for mu in np.linspace(mu_min,mu_max,5,dtype = 'float128'): \n",
    "            inf = 0\n",
    "            sup = 0\n",
    "            coef_vector[n] = mu\n",
    "            tray = odeint(function,initial_condition,t,(coef_vector,)).T\n",
    "            s = np.where(t > 22)[0]\n",
    "            r = tray[0][s] #I don't care about the begining\n",
    "            sup = np.where(r>threshold_sup)[0] #Find when r is higher than sup_threshold (if it is possible)\n",
    "            \n",
    "            if not len(sup) == 0:#maybe r just go down, never surpases threshold_sup and sup is empty\n",
    "                sup = sup[0]\n",
    "            else:\n",
    "                sup = 100*10000\n",
    "                \n",
    "            inf = np.where(r<threshold_inf)[0] #Find when r is lower than threshold_inf (if it is possible)\n",
    "            if not len(inf)== 0:\n",
    "                inf = inf[0]\n",
    "            else:\n",
    "                inf = 100*10000\n",
    "            print(mu,inf,sup)\n",
    "            \n",
    "            if sup<inf:\n",
    "                a = 'up' \n",
    "                print(mu,a)\n",
    "            elif inf<sup:\n",
    "                a = 'down'\n",
    "                print(mu,a)\n",
    "            else:\n",
    "                a = 'stable'    \n",
    "                print(mu,a)\n",
    "\n",
    "            if (a == 'up' and mu > mu_min): mu_min = mu\n",
    "            if (a == 'down' and mu < mu_max): mu_max = mu\n",
    "            if a == 'stable': continue\n",
    "        plt.legend()\n",
    "        return mu_min,mu_max\n",
    "    \n",
    "plt.figure()\n",
    "mu_min = 0.055283496093749995\n",
    "mu_max = 0.055283544921875\n",
    "for i in range(40):        \n",
    "    mu_min,mu_max = mov_parameter(f,1,[mu_min,mu_max],cross,coef_vector)\n",
    "    print('mu_min = ',mu_min,'mu_max = ',mu_max)\n",
    "            \n",
    "t = np.linspace(0,64,1000)\n",
    "\n",
    "coef_vector[1] = mu_max/2 + mu_min/2\n",
    "print(coef_vector[1])\n",
    "coef_vector[1] = 0.055283522241596389284\n",
    "tray = odeint(f,cross,t,args = (coef_vector,)).T\n",
    "plt.plot(t,tray[0])"
   ]
  },
  {
   "cell_type": "code",
   "execution_count": 19,
   "metadata": {
    "scrolled": true
   },
   "outputs": [
    {
     "data": {
      "application/vnd.jupyter.widget-view+json": {
       "model_id": "9a04fba0a6674dceb71634709f6c4754",
       "version_major": 2,
       "version_minor": 0
      },
      "text/plain": [
       "Canvas(toolbar=Toolbar(toolitems=[('Home', 'Reset original view', 'home', 'home'), ('Back', 'Back to previous …"
      ]
     },
     "metadata": {},
     "output_type": "display_data"
    },
    {
     "data": {
      "application/vnd.jupyter.widget-view+json": {
       "model_id": "1c645110927f4e7da54f51e5f5ea2e8f",
       "version_major": 2,
       "version_minor": 0
      },
      "text/plain": [
       "Canvas(toolbar=Toolbar(toolitems=[('Home', 'Reset original view', 'home', 'home'), ('Back', 'Back to previous …"
      ]
     },
     "metadata": {},
     "output_type": "display_data"
    },
    {
     "name": "stdout",
     "output_type": "stream",
     "text": [
      "0.28000000000000002665 down\n",
      "0.28222222222222226318 down\n",
      "0.2844444444444444442 down\n",
      "0.28666666666666668073 down\n",
      "0.28888888888888891726 down\n",
      "0.29111111111111109828 down\n",
      "0.29333333333333333481 up\n",
      "0.29555555555555557135 up\n",
      "0.29777777777777775237 up\n",
      "0.2999999999999999889 up\n",
      "0.29111111111111109828 0.29333333333333333481\n"
     ]
    },
    {
     "data": {
      "application/vnd.jupyter.widget-view+json": {
       "model_id": "2a72a96ebbed4c5eb8383917dff72c2b",
       "version_major": 2,
       "version_minor": 0
      },
      "text/plain": [
       "Canvas(toolbar=Toolbar(toolitems=[('Home', 'Reset original view', 'home', 'home'), ('Back', 'Back to previous …"
      ]
     },
     "metadata": {},
     "output_type": "display_data"
    },
    {
     "name": "stdout",
     "output_type": "stream",
     "text": [
      "0.29111111111111109828 down\n",
      "0.29135802469135801344 up\n",
      "0.29160493827160492863 up\n",
      "0.29185185185185184378 up\n",
      "0.29209876543209875897 up\n",
      "0.29234567901234567413 up\n",
      "0.2925925925925925893 up\n",
      "0.29283950617283950447 up\n",
      "0.29308641975308641966 up\n",
      "0.29333333333333333481 up\n",
      "0.29111111111111109828 0.29135802469135801344\n"
     ]
    },
    {
     "data": {
      "application/vnd.jupyter.widget-view+json": {
       "model_id": "7ab39927f57a4b2bbbac19ce5c831380",
       "version_major": 2,
       "version_minor": 0
      },
      "text/plain": [
       "Canvas(toolbar=Toolbar(toolitems=[('Home', 'Reset original view', 'home', 'home'), ('Back', 'Back to previous …"
      ]
     },
     "metadata": {},
     "output_type": "display_data"
    },
    {
     "name": "stdout",
     "output_type": "stream",
     "text": [
      "0.29111111111111109828 down\n",
      "0.29113854595336075552 down\n",
      "0.29116598079561041275 down\n",
      "0.29119341563786007 down\n",
      "0.29122085048010972724 down\n",
      "0.29124828532235938448 down\n",
      "0.2912757201646090417 down\n",
      "0.29130315500685869897 down\n",
      "0.2913305898491083562 up\n",
      "0.29135802469135801344 up\n",
      "0.29130315500685869897 0.2913305898491083562\n"
     ]
    },
    {
     "data": {
      "application/vnd.jupyter.widget-view+json": {
       "model_id": "78ab7e8304c2480d8763bd323809c2d6",
       "version_major": 2,
       "version_minor": 0
      },
      "text/plain": [
       "Canvas(toolbar=Toolbar(toolitems=[('Home', 'Reset original view', 'home', 'home'), ('Back', 'Back to previous …"
      ]
     },
     "metadata": {},
     "output_type": "display_data"
    },
    {
     "name": "stdout",
     "output_type": "stream",
     "text": [
      "0.29130315500685869897 down\n",
      "0.29130620332266421644 down\n",
      "0.2913092516384697339 down\n",
      "0.29131229995427525137 down\n",
      "0.29131534827008076884 down\n",
      "0.29131839658588628634 down\n",
      "0.2913214449016918038 up\n",
      "0.29132449321749732127 up\n",
      "0.29132754153330283874 up\n",
      "0.2913305898491083562 up\n",
      "0.29131839658588628634 0.2913214449016918038\n"
     ]
    },
    {
     "data": {
      "application/vnd.jupyter.widget-view+json": {
       "model_id": "dd5ed8b3ab134a448a814af7c031f729",
       "version_major": 2,
       "version_minor": 0
      },
      "text/plain": [
       "Canvas(toolbar=Toolbar(toolitems=[('Home', 'Reset original view', 'home', 'home'), ('Back', 'Back to previous …"
      ]
     },
     "metadata": {},
     "output_type": "display_data"
    },
    {
     "name": "stdout",
     "output_type": "stream",
     "text": [
      "0.29131839658588628634 down\n",
      "0.29131873528764245496 down\n",
      "0.29131907398939862355 down\n",
      "0.29131941269115479217 down\n",
      "0.29131975139291096076 down\n",
      "0.29132009009466712938 down\n",
      "0.29132042879642329797 down\n",
      "0.2913207674981794666 down\n",
      "0.29132110619993563518 down\n",
      "0.2913214449016918038 up\n",
      "0.29132110619993563518 0.2913214449016918038\n"
     ]
    },
    {
     "data": {
      "application/vnd.jupyter.widget-view+json": {
       "model_id": "281d9795ece14f429f0f2bd137b4c601",
       "version_major": 2,
       "version_minor": 0
      },
      "text/plain": [
       "Canvas(toolbar=Toolbar(toolitems=[('Home', 'Reset original view', 'home', 'home'), ('Back', 'Back to previous …"
      ]
     },
     "metadata": {},
     "output_type": "display_data"
    },
    {
     "name": "stdout",
     "output_type": "stream",
     "text": [
      "0.29132110619993563518 down\n",
      "0.29132114383346409837 down\n",
      "0.29132118146699256155 down\n",
      "0.29132121910052102473 down\n",
      "0.29132125673404948792 up\n",
      "0.29132129436757795107 up\n",
      "0.29132133200110641426 up\n",
      "0.29132136963463487744 up\n",
      "0.29132140726816334062 up\n",
      "0.2913214449016918038 up\n",
      "0.29132121910052102473 0.29132125673404948792\n"
     ]
    },
    {
     "data": {
      "application/vnd.jupyter.widget-view+json": {
       "model_id": "d15491c6d210437791cb408349320176",
       "version_major": 2,
       "version_minor": 0
      },
      "text/plain": [
       "Canvas(toolbar=Toolbar(toolitems=[('Home', 'Reset original view', 'home', 'home'), ('Back', 'Back to previous …"
      ]
     },
     "metadata": {},
     "output_type": "display_data"
    },
    {
     "name": "stdout",
     "output_type": "stream",
     "text": [
      "0.29132121910052102473 down\n",
      "0.2913212232820241873 up\n",
      "0.2913212274635273499 up\n",
      "0.29132123164503051247 up\n",
      "0.29132123582653367505 up\n",
      "0.2913212400080368376 up\n",
      "0.29132124418954000018 up\n",
      "0.29132124837104316276 up\n",
      "0.29132125255254632534 up\n",
      "0.29132125673404948792 up\n",
      "0.29132121910052102473 0.2913212232820241873\n"
     ]
    },
    {
     "data": {
      "application/vnd.jupyter.widget-view+json": {
       "model_id": "174551568eed4f2eb402e3d6b791c140",
       "version_major": 2,
       "version_minor": 0
      },
      "text/plain": [
       "Canvas(toolbar=Toolbar(toolitems=[('Home', 'Reset original view', 'home', 'home'), ('Back', 'Back to previous …"
      ]
     },
     "metadata": {},
     "output_type": "display_data"
    },
    {
     "name": "stdout",
     "output_type": "stream",
     "text": [
      "0.29132121910052102473 down\n",
      "0.29132121956513248724 down\n",
      "0.29132122002974394974 down\n",
      "0.29132122049435541227 down\n",
      "0.29132122095896687477 down\n",
      "0.29132122142357833727 down\n",
      "0.29132122188818979978 down\n",
      "0.2913212223528012623 up\n",
      "0.2913212228174127248 up\n",
      "0.2913212232820241873 up\n",
      "0.29132122188818979978 0.2913212223528012623\n"
     ]
    },
    {
     "data": {
      "application/vnd.jupyter.widget-view+json": {
       "model_id": "bd850b2c5fc146a786e2b29869b6f6a8",
       "version_major": 2,
       "version_minor": 0
      },
      "text/plain": [
       "Canvas(toolbar=Toolbar(toolitems=[('Home', 'Reset original view', 'home', 'home'), ('Back', 'Back to previous …"
      ]
     },
     "metadata": {},
     "output_type": "display_data"
    },
    {
     "name": "stdout",
     "output_type": "stream",
     "text": [
      "0.29132122188818979978 down\n",
      "0.29132122193981329562 down\n",
      "0.29132122199143679146 down\n",
      "0.29132122204306028728 down\n",
      "0.29132122209468378312 down\n",
      "0.29132122214630727896 down\n",
      "0.2913212221979307748 up\n",
      "0.29132122224955427062 up\n",
      "0.29132122230117776646 up\n",
      "0.2913212223528012623 up\n",
      "0.29132122214630727896 0.2913212221979307748\n"
     ]
    },
    {
     "data": {
      "application/vnd.jupyter.widget-view+json": {
       "model_id": "bb81e7451a7041c2a141f1672f09575d",
       "version_major": 2,
       "version_minor": 0
      },
      "text/plain": [
       "Canvas(toolbar=Toolbar(toolitems=[('Home', 'Reset original view', 'home', 'home'), ('Back', 'Back to previous …"
      ]
     },
     "metadata": {},
     "output_type": "display_data"
    },
    {
     "name": "stdout",
     "output_type": "stream",
     "text": [
      "0.29132122214630727896 down\n",
      "0.29132122215204322294 down\n",
      "0.29132122215777916694 down\n",
      "0.2913212221635151109 down\n",
      "0.29132122216925105488 down\n",
      "0.29132122217498699888 down\n",
      "0.29132122218072294286 down\n",
      "0.29132122218645888683 up\n",
      "0.29132122219219483083 up\n",
      "0.2913212221979307748 up\n",
      "0.29132122218072294286 0.29132122218645888683\n"
     ]
    },
    {
     "data": {
      "application/vnd.jupyter.widget-view+json": {
       "model_id": "a4d8409b469f40cf94609537d5227090",
       "version_major": 2,
       "version_minor": 0
      },
      "text/plain": [
       "Canvas(toolbar=Toolbar(toolitems=[('Home', 'Reset original view', 'home', 'home'), ('Back', 'Back to previous …"
      ]
     },
     "metadata": {},
     "output_type": "display_data"
    },
    {
     "name": "stdout",
     "output_type": "stream",
     "text": [
      "0.29132122218072294286 down\n",
      "0.29132122218136026996 down\n",
      "0.29132122218199759707 down\n",
      "0.29132122218263492417 down\n",
      "0.29132122218327225128 down\n",
      "0.2913212221839095784 down\n",
      "0.29132122218454690552 down\n",
      "0.29132122218518423262 up\n",
      "0.29132122218582155973 up\n",
      "0.29132122218645888683 up\n",
      "0.29132122218454690552 0.29132122218518423262\n"
     ]
    },
    {
     "data": {
      "application/vnd.jupyter.widget-view+json": {
       "model_id": "d5f90132f6e64c368fd6d72f1573de3a",
       "version_major": 2,
       "version_minor": 0
      },
      "text/plain": [
       "Canvas(toolbar=Toolbar(toolitems=[('Home', 'Reset original view', 'home', 'home'), ('Back', 'Back to previous …"
      ]
     },
     "metadata": {},
     "output_type": "display_data"
    },
    {
     "name": "stdout",
     "output_type": "stream",
     "text": [
      "0.29132122218454690552 down\n",
      "0.29132122218461771964 down\n",
      "0.29132122218468853376 down\n",
      "0.29132122218475934788 down\n",
      "0.291321222184830162 down\n",
      "0.29132122218490097613 down\n",
      "0.29132122218497179025 down\n",
      "0.29132122218504260438 down\n",
      "0.2913212221851134185 down\n",
      "0.29132122218518423262 up\n",
      "0.2913212221851134185 0.29132122218518423262\n"
     ]
    },
    {
     "data": {
      "application/vnd.jupyter.widget-view+json": {
       "model_id": "dc6b8954ef314654aea8b146a4a5e3f8",
       "version_major": 2,
       "version_minor": 0
      },
      "text/plain": [
       "Canvas(toolbar=Toolbar(toolitems=[('Home', 'Reset original view', 'home', 'home'), ('Back', 'Back to previous …"
      ]
     },
     "metadata": {},
     "output_type": "display_data"
    },
    {
     "name": "stdout",
     "output_type": "stream",
     "text": [
      "0.2913212221851134185 down\n",
      "0.29132122218512128674 down\n",
      "0.29132122218512915496 down\n",
      "0.2913212221851370232 down\n",
      "0.29132122218514489145 down\n",
      "0.29132122218515275967 down\n",
      "0.29132122218516062791 up\n",
      "0.29132122218516849616 up\n",
      "0.29132122218517636438 up\n",
      "0.29132122218518423262 up\n",
      "0.29132122218515275967 0.29132122218516062791\n"
     ]
    },
    {
     "data": {
      "application/vnd.jupyter.widget-view+json": {
       "model_id": "36d700c06f974d7cb08adcd77fa06a8c",
       "version_major": 2,
       "version_minor": 0
      },
      "text/plain": [
       "Canvas(toolbar=Toolbar(toolitems=[('Home', 'Reset original view', 'home', 'home'), ('Back', 'Back to previous …"
      ]
     },
     "metadata": {},
     "output_type": "display_data"
    },
    {
     "name": "stdout",
     "output_type": "stream",
     "text": [
      "0.29132122218515275967 down\n",
      "0.29132122218515363392 down\n",
      "0.29132122218515450816 down\n",
      "0.2913212221851553824 down\n",
      "0.29132122218515625665 down\n",
      "0.29132122218515713093 stable\n",
      "0.29132122218515800517 up\n",
      "0.29132122218515887942 up\n",
      "0.29132122218515975367 up\n",
      "0.29132122218516062791 up\n",
      "0.29132122218515625665 0.29132122218515800517\n"
     ]
    },
    {
     "data": {
      "application/vnd.jupyter.widget-view+json": {
       "model_id": "8bc91ad48ad44f1994d537c3e7825ac3",
       "version_major": 2,
       "version_minor": 0
      },
      "text/plain": [
       "Canvas(toolbar=Toolbar(toolitems=[('Home', 'Reset original view', 'home', 'home'), ('Back', 'Back to previous …"
      ]
     },
     "metadata": {},
     "output_type": "display_data"
    },
    {
     "name": "stdout",
     "output_type": "stream",
     "text": [
      "0.29132122218515625665 down\n",
      "0.29132122218515645094 down\n",
      "0.2913212221851566452 stable\n",
      "0.2913212221851568395 stable\n",
      "0.29132122218515703378 up\n",
      "0.29132122218515722805 stable\n",
      "0.29132122218515742233 stable\n",
      "0.29132122218515761662 up\n",
      "0.29132122218515781089 up\n",
      "0.29132122218515800517 up\n",
      "0.29132122218515645094 0.29132122218515703378\n"
     ]
    },
    {
     "data": {
      "application/vnd.jupyter.widget-view+json": {
       "model_id": "551303be4187497a94a71d881a340911",
       "version_major": 2,
       "version_minor": 0
      },
      "text/plain": [
       "Canvas(toolbar=Toolbar(toolitems=[('Home', 'Reset original view', 'home', 'home'), ('Back', 'Back to previous …"
      ]
     },
     "metadata": {},
     "output_type": "display_data"
    },
    {
     "name": "stdout",
     "output_type": "stream",
     "text": [
      "0.29132122218515645094 down\n",
      "0.2913212221851565157 down\n",
      "0.29132122218515658045 stable\n",
      "0.29132122218515664523 stable\n",
      "0.29132122218515671 stable\n",
      "0.29132122218515677474 stable\n",
      "0.2913212221851568395 stable\n",
      "0.29132122218515690428 stable\n",
      "0.29132122218515696903 stable\n",
      "0.29132122218515703378 up\n",
      "0.2913212221851565157 0.29132122218515703378\n"
     ]
    },
    {
     "name": "stderr",
     "output_type": "stream",
     "text": [
      "/home/lorenzo/anaconda3/lib/python3.7/site-packages/ipykernel_launcher.py:10: RuntimeWarning: More than 20 figures have been opened. Figures created through the pyplot interface (`matplotlib.pyplot.figure`) are retained until explicitly closed and may consume too much memory. (To control this warning, see the rcParam `figure.max_open_warning`).\n",
      "  # Remove the CWD from sys.path while we load stuff.\n"
     ]
    },
    {
     "data": {
      "application/vnd.jupyter.widget-view+json": {
       "model_id": "7357a118ea084b1cb9f0e51429c9aa54",
       "version_major": 2,
       "version_minor": 0
      },
      "text/plain": [
       "Canvas(toolbar=Toolbar(toolitems=[('Home', 'Reset original view', 'home', 'home'), ('Back', 'Back to previous …"
      ]
     },
     "metadata": {},
     "output_type": "display_data"
    },
    {
     "name": "stdout",
     "output_type": "stream",
     "text": [
      "0.2913212221851565157 down\n",
      "0.29132122218515657327 stable\n",
      "0.29132122218515663084 stable\n",
      "0.29132122218515668838 stable\n",
      "0.29132122218515674596 stable\n",
      "0.29132122218515680353 stable\n",
      "0.2913212221851568611 stable\n",
      "0.29132122218515691864 stable\n",
      "0.2913212221851569762 stable\n",
      "0.29132122218515703378 up\n",
      "0.2913212221851565157 0.29132122218515703378\n"
     ]
    },
    {
     "name": "stderr",
     "output_type": "stream",
     "text": [
      "/home/lorenzo/anaconda3/lib/python3.7/site-packages/ipykernel_launcher.py:10: RuntimeWarning: More than 20 figures have been opened. Figures created through the pyplot interface (`matplotlib.pyplot.figure`) are retained until explicitly closed and may consume too much memory. (To control this warning, see the rcParam `figure.max_open_warning`).\n",
      "  # Remove the CWD from sys.path while we load stuff.\n"
     ]
    },
    {
     "data": {
      "application/vnd.jupyter.widget-view+json": {
       "model_id": "8d03964a420f499a9c2b5af39d1e7514",
       "version_major": 2,
       "version_minor": 0
      },
      "text/plain": [
       "Canvas(toolbar=Toolbar(toolitems=[('Home', 'Reset original view', 'home', 'home'), ('Back', 'Back to previous …"
      ]
     },
     "metadata": {},
     "output_type": "display_data"
    },
    {
     "name": "stdout",
     "output_type": "stream",
     "text": [
      "0.2913212221851565157 down\n",
      "0.29132122218515657327 stable\n",
      "0.29132122218515663084 stable\n",
      "0.29132122218515668838 stable\n",
      "0.29132122218515674596 stable\n",
      "0.29132122218515680353 stable\n",
      "0.2913212221851568611 stable\n",
      "0.29132122218515691864 stable\n",
      "0.2913212221851569762 stable\n",
      "0.29132122218515703378 up\n",
      "0.2913212221851565157 0.29132122218515703378\n"
     ]
    },
    {
     "name": "stderr",
     "output_type": "stream",
     "text": [
      "/home/lorenzo/anaconda3/lib/python3.7/site-packages/ipykernel_launcher.py:10: RuntimeWarning: More than 20 figures have been opened. Figures created through the pyplot interface (`matplotlib.pyplot.figure`) are retained until explicitly closed and may consume too much memory. (To control this warning, see the rcParam `figure.max_open_warning`).\n",
      "  # Remove the CWD from sys.path while we load stuff.\n"
     ]
    },
    {
     "data": {
      "application/vnd.jupyter.widget-view+json": {
       "model_id": "761985a3281941789d54194031fea2d6",
       "version_major": 2,
       "version_minor": 0
      },
      "text/plain": [
       "Canvas(toolbar=Toolbar(toolitems=[('Home', 'Reset original view', 'home', 'home'), ('Back', 'Back to previous …"
      ]
     },
     "metadata": {},
     "output_type": "display_data"
    },
    {
     "name": "stdout",
     "output_type": "stream",
     "text": [
      "0.2913212221851565157 down\n",
      "0.29132122218515657327 stable\n",
      "0.29132122218515663084 stable\n",
      "0.29132122218515668838 stable\n",
      "0.29132122218515674596 stable\n",
      "0.29132122218515680353 stable\n",
      "0.2913212221851568611 stable\n",
      "0.29132122218515691864 stable\n",
      "0.2913212221851569762 stable\n",
      "0.29132122218515703378 up\n",
      "0.2913212221851565157 0.29132122218515703378\n"
     ]
    },
    {
     "name": "stderr",
     "output_type": "stream",
     "text": [
      "/home/lorenzo/anaconda3/lib/python3.7/site-packages/ipykernel_launcher.py:10: RuntimeWarning: More than 20 figures have been opened. Figures created through the pyplot interface (`matplotlib.pyplot.figure`) are retained until explicitly closed and may consume too much memory. (To control this warning, see the rcParam `figure.max_open_warning`).\n",
      "  # Remove the CWD from sys.path while we load stuff.\n"
     ]
    },
    {
     "data": {
      "application/vnd.jupyter.widget-view+json": {
       "model_id": "d055467c23c1441e8ce4b0c59abb261f",
       "version_major": 2,
       "version_minor": 0
      },
      "text/plain": [
       "Canvas(toolbar=Toolbar(toolitems=[('Home', 'Reset original view', 'home', 'home'), ('Back', 'Back to previous …"
      ]
     },
     "metadata": {},
     "output_type": "display_data"
    },
    {
     "name": "stdout",
     "output_type": "stream",
     "text": [
      "0.2913212221851565157 down\n",
      "0.29132122218515657327 stable\n",
      "0.29132122218515663084 stable\n",
      "0.29132122218515668838 stable\n",
      "0.29132122218515674596 stable\n",
      "0.29132122218515680353 stable\n",
      "0.2913212221851568611 stable\n",
      "0.29132122218515691864 stable\n",
      "0.2913212221851569762 stable\n",
      "0.29132122218515703378 up\n",
      "0.2913212221851565157 0.29132122218515703378\n"
     ]
    },
    {
     "name": "stderr",
     "output_type": "stream",
     "text": [
      "/home/lorenzo/anaconda3/lib/python3.7/site-packages/ipykernel_launcher.py:10: RuntimeWarning: More than 20 figures have been opened. Figures created through the pyplot interface (`matplotlib.pyplot.figure`) are retained until explicitly closed and may consume too much memory. (To control this warning, see the rcParam `figure.max_open_warning`).\n",
      "  # Remove the CWD from sys.path while we load stuff.\n"
     ]
    },
    {
     "data": {
      "application/vnd.jupyter.widget-view+json": {
       "model_id": "023598235fab4137828218f8dc236896",
       "version_major": 2,
       "version_minor": 0
      },
      "text/plain": [
       "Canvas(toolbar=Toolbar(toolitems=[('Home', 'Reset original view', 'home', 'home'), ('Back', 'Back to previous …"
      ]
     },
     "metadata": {},
     "output_type": "display_data"
    },
    {
     "name": "stdout",
     "output_type": "stream",
     "text": [
      "0.2913212221851565157 down\n",
      "0.29132122218515657327 stable\n",
      "0.29132122218515663084 stable\n",
      "0.29132122218515668838 stable\n",
      "0.29132122218515674596 stable\n",
      "0.29132122218515680353 stable\n",
      "0.2913212221851568611 stable\n",
      "0.29132122218515691864 stable\n",
      "0.2913212221851569762 stable\n",
      "0.29132122218515703378 up\n",
      "0.2913212221851565157 0.29132122218515703378\n"
     ]
    },
    {
     "name": "stderr",
     "output_type": "stream",
     "text": [
      "/home/lorenzo/anaconda3/lib/python3.7/site-packages/ipykernel_launcher.py:10: RuntimeWarning: More than 20 figures have been opened. Figures created through the pyplot interface (`matplotlib.pyplot.figure`) are retained until explicitly closed and may consume too much memory. (To control this warning, see the rcParam `figure.max_open_warning`).\n",
      "  # Remove the CWD from sys.path while we load stuff.\n"
     ]
    },
    {
     "data": {
      "application/vnd.jupyter.widget-view+json": {
       "model_id": "36ea804e29c24f9e9006ee7fba6564bf",
       "version_major": 2,
       "version_minor": 0
      },
      "text/plain": [
       "Canvas(toolbar=Toolbar(toolitems=[('Home', 'Reset original view', 'home', 'home'), ('Back', 'Back to previous …"
      ]
     },
     "metadata": {},
     "output_type": "display_data"
    },
    {
     "name": "stdout",
     "output_type": "stream",
     "text": [
      "0.2913212221851565157 down\n",
      "0.29132122218515657327 stable\n",
      "0.29132122218515663084 stable\n",
      "0.29132122218515668838 stable\n",
      "0.29132122218515674596 stable\n",
      "0.29132122218515680353 stable\n",
      "0.2913212221851568611 stable\n",
      "0.29132122218515691864 stable\n",
      "0.2913212221851569762 stable\n",
      "0.29132122218515703378 up\n",
      "0.2913212221851565157 0.29132122218515703378\n"
     ]
    },
    {
     "name": "stderr",
     "output_type": "stream",
     "text": [
      "/home/lorenzo/anaconda3/lib/python3.7/site-packages/ipykernel_launcher.py:10: RuntimeWarning: More than 20 figures have been opened. Figures created through the pyplot interface (`matplotlib.pyplot.figure`) are retained until explicitly closed and may consume too much memory. (To control this warning, see the rcParam `figure.max_open_warning`).\n",
      "  # Remove the CWD from sys.path while we load stuff.\n"
     ]
    },
    {
     "data": {
      "application/vnd.jupyter.widget-view+json": {
       "model_id": "1d0245107c2a42418023de2c9d022c72",
       "version_major": 2,
       "version_minor": 0
      },
      "text/plain": [
       "Canvas(toolbar=Toolbar(toolitems=[('Home', 'Reset original view', 'home', 'home'), ('Back', 'Back to previous …"
      ]
     },
     "metadata": {},
     "output_type": "display_data"
    },
    {
     "name": "stdout",
     "output_type": "stream",
     "text": [
      "0.2913212221851565157 down\n",
      "0.29132122218515657327 stable\n",
      "0.29132122218515663084 stable\n",
      "0.29132122218515668838 stable\n",
      "0.29132122218515674596 stable\n",
      "0.29132122218515680353 stable\n",
      "0.2913212221851568611 stable\n",
      "0.29132122218515691864 stable\n",
      "0.2913212221851569762 stable\n",
      "0.29132122218515703378 up\n",
      "0.2913212221851565157 0.29132122218515703378\n"
     ]
    },
    {
     "name": "stderr",
     "output_type": "stream",
     "text": [
      "/home/lorenzo/anaconda3/lib/python3.7/site-packages/ipykernel_launcher.py:10: RuntimeWarning: More than 20 figures have been opened. Figures created through the pyplot interface (`matplotlib.pyplot.figure`) are retained until explicitly closed and may consume too much memory. (To control this warning, see the rcParam `figure.max_open_warning`).\n",
      "  # Remove the CWD from sys.path while we load stuff.\n"
     ]
    },
    {
     "data": {
      "application/vnd.jupyter.widget-view+json": {
       "model_id": "7f29a1022f8a4f6687e97ed7e67f8a26",
       "version_major": 2,
       "version_minor": 0
      },
      "text/plain": [
       "Canvas(toolbar=Toolbar(toolitems=[('Home', 'Reset original view', 'home', 'home'), ('Back', 'Back to previous …"
      ]
     },
     "metadata": {},
     "output_type": "display_data"
    },
    {
     "name": "stdout",
     "output_type": "stream",
     "text": [
      "0.2913212221851565157 down\n",
      "0.29132122218515657327 stable\n",
      "0.29132122218515663084 stable\n",
      "0.29132122218515668838 stable\n",
      "0.29132122218515674596 stable\n",
      "0.29132122218515680353 stable\n",
      "0.2913212221851568611 stable\n",
      "0.29132122218515691864 stable\n",
      "0.2913212221851569762 stable\n",
      "0.29132122218515703378 up\n",
      "0.2913212221851565157 0.29132122218515703378\n"
     ]
    },
    {
     "name": "stderr",
     "output_type": "stream",
     "text": [
      "/home/lorenzo/anaconda3/lib/python3.7/site-packages/ipykernel_launcher.py:10: RuntimeWarning: More than 20 figures have been opened. Figures created through the pyplot interface (`matplotlib.pyplot.figure`) are retained until explicitly closed and may consume too much memory. (To control this warning, see the rcParam `figure.max_open_warning`).\n",
      "  # Remove the CWD from sys.path while we load stuff.\n"
     ]
    },
    {
     "data": {
      "application/vnd.jupyter.widget-view+json": {
       "model_id": "c4445147fd8c4ef3b82074386928383c",
       "version_major": 2,
       "version_minor": 0
      },
      "text/plain": [
       "Canvas(toolbar=Toolbar(toolitems=[('Home', 'Reset original view', 'home', 'home'), ('Back', 'Back to previous …"
      ]
     },
     "metadata": {},
     "output_type": "display_data"
    },
    {
     "name": "stdout",
     "output_type": "stream",
     "text": [
      "0.2913212221851565157 down\n",
      "0.29132122218515657327 stable\n",
      "0.29132122218515663084 stable\n",
      "0.29132122218515668838 stable\n",
      "0.29132122218515674596 stable\n",
      "0.29132122218515680353 stable\n",
      "0.2913212221851568611 stable\n",
      "0.29132122218515691864 stable\n",
      "0.2913212221851569762 stable\n",
      "0.29132122218515703378 up\n",
      "0.2913212221851565157 0.29132122218515703378\n"
     ]
    },
    {
     "name": "stderr",
     "output_type": "stream",
     "text": [
      "/home/lorenzo/anaconda3/lib/python3.7/site-packages/ipykernel_launcher.py:10: RuntimeWarning: More than 20 figures have been opened. Figures created through the pyplot interface (`matplotlib.pyplot.figure`) are retained until explicitly closed and may consume too much memory. (To control this warning, see the rcParam `figure.max_open_warning`).\n",
      "  # Remove the CWD from sys.path while we load stuff.\n"
     ]
    },
    {
     "data": {
      "application/vnd.jupyter.widget-view+json": {
       "model_id": "e852686ea46c48e889aeb5f23935f638",
       "version_major": 2,
       "version_minor": 0
      },
      "text/plain": [
       "Canvas(toolbar=Toolbar(toolitems=[('Home', 'Reset original view', 'home', 'home'), ('Back', 'Back to previous …"
      ]
     },
     "metadata": {},
     "output_type": "display_data"
    },
    {
     "name": "stdout",
     "output_type": "stream",
     "text": [
      "0.2913212221851565157 down\n",
      "0.29132122218515657327 stable\n",
      "0.29132122218515663084 stable\n",
      "0.29132122218515668838 stable\n",
      "0.29132122218515674596 stable\n",
      "0.29132122218515680353 stable\n",
      "0.2913212221851568611 stable\n",
      "0.29132122218515691864 stable\n",
      "0.2913212221851569762 stable\n",
      "0.29132122218515703378 up\n",
      "0.2913212221851565157 0.29132122218515703378\n"
     ]
    },
    {
     "name": "stderr",
     "output_type": "stream",
     "text": [
      "/home/lorenzo/anaconda3/lib/python3.7/site-packages/ipykernel_launcher.py:10: RuntimeWarning: More than 20 figures have been opened. Figures created through the pyplot interface (`matplotlib.pyplot.figure`) are retained until explicitly closed and may consume too much memory. (To control this warning, see the rcParam `figure.max_open_warning`).\n",
      "  # Remove the CWD from sys.path while we load stuff.\n"
     ]
    },
    {
     "data": {
      "application/vnd.jupyter.widget-view+json": {
       "model_id": "90dc5512c8274b458ae63188c440a4d7",
       "version_major": 2,
       "version_minor": 0
      },
      "text/plain": [
       "Canvas(toolbar=Toolbar(toolitems=[('Home', 'Reset original view', 'home', 'home'), ('Back', 'Back to previous …"
      ]
     },
     "metadata": {},
     "output_type": "display_data"
    },
    {
     "name": "stdout",
     "output_type": "stream",
     "text": [
      "0.2913212221851565157 down\n",
      "0.29132122218515657327 stable\n",
      "0.29132122218515663084 stable\n",
      "0.29132122218515668838 stable\n",
      "0.29132122218515674596 stable\n",
      "0.29132122218515680353 stable\n",
      "0.2913212221851568611 stable\n",
      "0.29132122218515691864 stable\n",
      "0.2913212221851569762 stable\n",
      "0.29132122218515703378 up\n",
      "0.2913212221851565157 0.29132122218515703378\n"
     ]
    },
    {
     "name": "stderr",
     "output_type": "stream",
     "text": [
      "/home/lorenzo/anaconda3/lib/python3.7/site-packages/ipykernel_launcher.py:10: RuntimeWarning: More than 20 figures have been opened. Figures created through the pyplot interface (`matplotlib.pyplot.figure`) are retained until explicitly closed and may consume too much memory. (To control this warning, see the rcParam `figure.max_open_warning`).\n",
      "  # Remove the CWD from sys.path while we load stuff.\n"
     ]
    },
    {
     "data": {
      "application/vnd.jupyter.widget-view+json": {
       "model_id": "23a071e1bc3d45288de189f3b8d18a39",
       "version_major": 2,
       "version_minor": 0
      },
      "text/plain": [
       "Canvas(toolbar=Toolbar(toolitems=[('Home', 'Reset original view', 'home', 'home'), ('Back', 'Back to previous …"
      ]
     },
     "metadata": {},
     "output_type": "display_data"
    },
    {
     "name": "stdout",
     "output_type": "stream",
     "text": [
      "0.2913212221851565157 down\n",
      "0.29132122218515657327 stable\n",
      "0.29132122218515663084 stable\n",
      "0.29132122218515668838 stable\n",
      "0.29132122218515674596 stable\n",
      "0.29132122218515680353 stable\n",
      "0.2913212221851568611 stable\n",
      "0.29132122218515691864 stable\n",
      "0.2913212221851569762 stable\n",
      "0.29132122218515703378 up\n",
      "0.2913212221851565157 0.29132122218515703378\n"
     ]
    },
    {
     "name": "stderr",
     "output_type": "stream",
     "text": [
      "/home/lorenzo/anaconda3/lib/python3.7/site-packages/ipykernel_launcher.py:10: RuntimeWarning: More than 20 figures have been opened. Figures created through the pyplot interface (`matplotlib.pyplot.figure`) are retained until explicitly closed and may consume too much memory. (To control this warning, see the rcParam `figure.max_open_warning`).\n",
      "  # Remove the CWD from sys.path while we load stuff.\n"
     ]
    },
    {
     "data": {
      "application/vnd.jupyter.widget-view+json": {
       "model_id": "2c714c24e64f4bf6a417c38e72fda4c7",
       "version_major": 2,
       "version_minor": 0
      },
      "text/plain": [
       "Canvas(toolbar=Toolbar(toolitems=[('Home', 'Reset original view', 'home', 'home'), ('Back', 'Back to previous …"
      ]
     },
     "metadata": {},
     "output_type": "display_data"
    },
    {
     "name": "stdout",
     "output_type": "stream",
     "text": [
      "0.2913212221851565157 down\n",
      "0.29132122218515657327 stable\n",
      "0.29132122218515663084 stable\n",
      "0.29132122218515668838 stable\n",
      "0.29132122218515674596 stable\n",
      "0.29132122218515680353 stable\n",
      "0.2913212221851568611 stable\n",
      "0.29132122218515691864 stable\n",
      "0.2913212221851569762 stable\n",
      "0.29132122218515703378 up\n",
      "0.2913212221851565157 0.29132122218515703378\n"
     ]
    },
    {
     "name": "stderr",
     "output_type": "stream",
     "text": [
      "/home/lorenzo/anaconda3/lib/python3.7/site-packages/ipykernel_launcher.py:10: RuntimeWarning: More than 20 figures have been opened. Figures created through the pyplot interface (`matplotlib.pyplot.figure`) are retained until explicitly closed and may consume too much memory. (To control this warning, see the rcParam `figure.max_open_warning`).\n",
      "  # Remove the CWD from sys.path while we load stuff.\n"
     ]
    },
    {
     "data": {
      "application/vnd.jupyter.widget-view+json": {
       "model_id": "d7dd696398ad43cc8361be6643f9c860",
       "version_major": 2,
       "version_minor": 0
      },
      "text/plain": [
       "Canvas(toolbar=Toolbar(toolitems=[('Home', 'Reset original view', 'home', 'home'), ('Back', 'Back to previous …"
      ]
     },
     "metadata": {},
     "output_type": "display_data"
    },
    {
     "name": "stdout",
     "output_type": "stream",
     "text": [
      "0.2913212221851565157 down\n",
      "0.29132122218515657327 stable\n",
      "0.29132122218515663084 stable\n",
      "0.29132122218515668838 stable\n",
      "0.29132122218515674596 stable\n",
      "0.29132122218515680353 stable\n",
      "0.2913212221851568611 stable\n",
      "0.29132122218515691864 stable\n",
      "0.2913212221851569762 stable\n",
      "0.29132122218515703378 up\n",
      "0.2913212221851565157 0.29132122218515703378\n"
     ]
    },
    {
     "name": "stderr",
     "output_type": "stream",
     "text": [
      "/home/lorenzo/anaconda3/lib/python3.7/site-packages/ipykernel_launcher.py:10: RuntimeWarning: More than 20 figures have been opened. Figures created through the pyplot interface (`matplotlib.pyplot.figure`) are retained until explicitly closed and may consume too much memory. (To control this warning, see the rcParam `figure.max_open_warning`).\n",
      "  # Remove the CWD from sys.path while we load stuff.\n"
     ]
    },
    {
     "data": {
      "application/vnd.jupyter.widget-view+json": {
       "model_id": "6dec4d4c430048c6b8d5335e91c196e7",
       "version_major": 2,
       "version_minor": 0
      },
      "text/plain": [
       "Canvas(toolbar=Toolbar(toolitems=[('Home', 'Reset original view', 'home', 'home'), ('Back', 'Back to previous …"
      ]
     },
     "metadata": {},
     "output_type": "display_data"
    },
    {
     "name": "stdout",
     "output_type": "stream",
     "text": [
      "0.2913212221851565157 down\n",
      "0.29132122218515657327 stable\n",
      "0.29132122218515663084 stable\n",
      "0.29132122218515668838 stable\n",
      "0.29132122218515674596 stable\n",
      "0.29132122218515680353 stable\n",
      "0.2913212221851568611 stable\n",
      "0.29132122218515691864 stable\n",
      "0.2913212221851569762 stable\n",
      "0.29132122218515703378 up\n",
      "0.2913212221851565157 0.29132122218515703378\n"
     ]
    },
    {
     "name": "stderr",
     "output_type": "stream",
     "text": [
      "/home/lorenzo/anaconda3/lib/python3.7/site-packages/ipykernel_launcher.py:10: RuntimeWarning: More than 20 figures have been opened. Figures created through the pyplot interface (`matplotlib.pyplot.figure`) are retained until explicitly closed and may consume too much memory. (To control this warning, see the rcParam `figure.max_open_warning`).\n",
      "  # Remove the CWD from sys.path while we load stuff.\n"
     ]
    },
    {
     "data": {
      "application/vnd.jupyter.widget-view+json": {
       "model_id": "e91f35566df144ab824b7d435a336355",
       "version_major": 2,
       "version_minor": 0
      },
      "text/plain": [
       "Canvas(toolbar=Toolbar(toolitems=[('Home', 'Reset original view', 'home', 'home'), ('Back', 'Back to previous …"
      ]
     },
     "metadata": {},
     "output_type": "display_data"
    },
    {
     "name": "stdout",
     "output_type": "stream",
     "text": [
      "0.2913212221851565157 down\n",
      "0.29132122218515657327 stable\n",
      "0.29132122218515663084 stable\n",
      "0.29132122218515668838 stable\n",
      "0.29132122218515674596 stable\n",
      "0.29132122218515680353 stable\n",
      "0.2913212221851568611 stable\n",
      "0.29132122218515691864 stable\n",
      "0.2913212221851569762 stable\n",
      "0.29132122218515703378 up\n",
      "0.2913212221851565157 0.29132122218515703378\n"
     ]
    },
    {
     "name": "stderr",
     "output_type": "stream",
     "text": [
      "/home/lorenzo/anaconda3/lib/python3.7/site-packages/ipykernel_launcher.py:10: RuntimeWarning: More than 20 figures have been opened. Figures created through the pyplot interface (`matplotlib.pyplot.figure`) are retained until explicitly closed and may consume too much memory. (To control this warning, see the rcParam `figure.max_open_warning`).\n",
      "  # Remove the CWD from sys.path while we load stuff.\n"
     ]
    },
    {
     "data": {
      "application/vnd.jupyter.widget-view+json": {
       "model_id": "5810455e058e41f59d3b9fe4931b0e07",
       "version_major": 2,
       "version_minor": 0
      },
      "text/plain": [
       "Canvas(toolbar=Toolbar(toolitems=[('Home', 'Reset original view', 'home', 'home'), ('Back', 'Back to previous …"
      ]
     },
     "metadata": {},
     "output_type": "display_data"
    },
    {
     "name": "stdout",
     "output_type": "stream",
     "text": [
      "0.2913212221851565157 down\n",
      "0.29132122218515657327 stable\n",
      "0.29132122218515663084 stable\n",
      "0.29132122218515668838 stable\n",
      "0.29132122218515674596 stable\n",
      "0.29132122218515680353 stable\n",
      "0.2913212221851568611 stable\n",
      "0.29132122218515691864 stable\n",
      "0.2913212221851569762 stable\n",
      "0.29132122218515703378 up\n",
      "0.2913212221851565157 0.29132122218515703378\n"
     ]
    },
    {
     "name": "stderr",
     "output_type": "stream",
     "text": [
      "/home/lorenzo/anaconda3/lib/python3.7/site-packages/ipykernel_launcher.py:10: RuntimeWarning: More than 20 figures have been opened. Figures created through the pyplot interface (`matplotlib.pyplot.figure`) are retained until explicitly closed and may consume too much memory. (To control this warning, see the rcParam `figure.max_open_warning`).\n",
      "  # Remove the CWD from sys.path while we load stuff.\n"
     ]
    },
    {
     "data": {
      "application/vnd.jupyter.widget-view+json": {
       "model_id": "1065607c3c274081bb1ddfb81b5248e5",
       "version_major": 2,
       "version_minor": 0
      },
      "text/plain": [
       "Canvas(toolbar=Toolbar(toolitems=[('Home', 'Reset original view', 'home', 'home'), ('Back', 'Back to previous …"
      ]
     },
     "metadata": {},
     "output_type": "display_data"
    },
    {
     "name": "stdout",
     "output_type": "stream",
     "text": [
      "0.2913212221851565157 down\n",
      "0.29132122218515657327 stable\n",
      "0.29132122218515663084 stable\n",
      "0.29132122218515668838 stable\n",
      "0.29132122218515674596 stable\n",
      "0.29132122218515680353 stable\n",
      "0.2913212221851568611 stable\n",
      "0.29132122218515691864 stable\n",
      "0.2913212221851569762 stable\n",
      "0.29132122218515703378 up\n",
      "0.2913212221851565157 0.29132122218515703378\n"
     ]
    },
    {
     "name": "stderr",
     "output_type": "stream",
     "text": [
      "/home/lorenzo/anaconda3/lib/python3.7/site-packages/ipykernel_launcher.py:10: RuntimeWarning: More than 20 figures have been opened. Figures created through the pyplot interface (`matplotlib.pyplot.figure`) are retained until explicitly closed and may consume too much memory. (To control this warning, see the rcParam `figure.max_open_warning`).\n",
      "  # Remove the CWD from sys.path while we load stuff.\n"
     ]
    },
    {
     "data": {
      "application/vnd.jupyter.widget-view+json": {
       "model_id": "1632462ac8a6453ebfeaf09f32e4989b",
       "version_major": 2,
       "version_minor": 0
      },
      "text/plain": [
       "Canvas(toolbar=Toolbar(toolitems=[('Home', 'Reset original view', 'home', 'home'), ('Back', 'Back to previous …"
      ]
     },
     "metadata": {},
     "output_type": "display_data"
    },
    {
     "name": "stdout",
     "output_type": "stream",
     "text": [
      "0.2913212221851565157 down\n",
      "0.29132122218515657327 stable\n",
      "0.29132122218515663084 stable\n",
      "0.29132122218515668838 stable\n",
      "0.29132122218515674596 stable\n",
      "0.29132122218515680353 stable\n",
      "0.2913212221851568611 stable\n",
      "0.29132122218515691864 stable\n",
      "0.2913212221851569762 stable\n",
      "0.29132122218515703378 up\n",
      "0.2913212221851565157 0.29132122218515703378\n"
     ]
    },
    {
     "name": "stderr",
     "output_type": "stream",
     "text": [
      "/home/lorenzo/anaconda3/lib/python3.7/site-packages/ipykernel_launcher.py:10: RuntimeWarning: More than 20 figures have been opened. Figures created through the pyplot interface (`matplotlib.pyplot.figure`) are retained until explicitly closed and may consume too much memory. (To control this warning, see the rcParam `figure.max_open_warning`).\n",
      "  # Remove the CWD from sys.path while we load stuff.\n"
     ]
    },
    {
     "data": {
      "application/vnd.jupyter.widget-view+json": {
       "model_id": "a6f89df7dffc4cc8b5d39fd00e9b223c",
       "version_major": 2,
       "version_minor": 0
      },
      "text/plain": [
       "Canvas(toolbar=Toolbar(toolitems=[('Home', 'Reset original view', 'home', 'home'), ('Back', 'Back to previous …"
      ]
     },
     "metadata": {},
     "output_type": "display_data"
    },
    {
     "name": "stdout",
     "output_type": "stream",
     "text": [
      "0.2913212221851565157 down\n",
      "0.29132122218515657327 stable\n",
      "0.29132122218515663084 stable\n",
      "0.29132122218515668838 stable\n",
      "0.29132122218515674596 stable\n",
      "0.29132122218515680353 stable\n",
      "0.2913212221851568611 stable\n",
      "0.29132122218515691864 stable\n",
      "0.2913212221851569762 stable\n",
      "0.29132122218515703378 up\n",
      "0.2913212221851565157 0.29132122218515703378\n"
     ]
    },
    {
     "name": "stderr",
     "output_type": "stream",
     "text": [
      "/home/lorenzo/anaconda3/lib/python3.7/site-packages/ipykernel_launcher.py:10: RuntimeWarning: More than 20 figures have been opened. Figures created through the pyplot interface (`matplotlib.pyplot.figure`) are retained until explicitly closed and may consume too much memory. (To control this warning, see the rcParam `figure.max_open_warning`).\n",
      "  # Remove the CWD from sys.path while we load stuff.\n"
     ]
    },
    {
     "data": {
      "application/vnd.jupyter.widget-view+json": {
       "model_id": "0427e8182d524584b74f111c9832c0f3",
       "version_major": 2,
       "version_minor": 0
      },
      "text/plain": [
       "Canvas(toolbar=Toolbar(toolitems=[('Home', 'Reset original view', 'home', 'home'), ('Back', 'Back to previous …"
      ]
     },
     "metadata": {},
     "output_type": "display_data"
    },
    {
     "name": "stdout",
     "output_type": "stream",
     "text": [
      "0.2913212221851565157 down\n",
      "0.29132122218515657327 stable\n",
      "0.29132122218515663084 stable\n",
      "0.29132122218515668838 stable\n",
      "0.29132122218515674596 stable\n",
      "0.29132122218515680353 stable\n",
      "0.2913212221851568611 stable\n",
      "0.29132122218515691864 stable\n",
      "0.2913212221851569762 stable\n",
      "0.29132122218515703378 up\n",
      "0.2913212221851565157 0.29132122218515703378\n"
     ]
    },
    {
     "name": "stderr",
     "output_type": "stream",
     "text": [
      "/home/lorenzo/anaconda3/lib/python3.7/site-packages/ipykernel_launcher.py:10: RuntimeWarning: More than 20 figures have been opened. Figures created through the pyplot interface (`matplotlib.pyplot.figure`) are retained until explicitly closed and may consume too much memory. (To control this warning, see the rcParam `figure.max_open_warning`).\n",
      "  # Remove the CWD from sys.path while we load stuff.\n"
     ]
    },
    {
     "data": {
      "application/vnd.jupyter.widget-view+json": {
       "model_id": "68e9a8b3b4f4423d87fb6c34fda4c9f7",
       "version_major": 2,
       "version_minor": 0
      },
      "text/plain": [
       "Canvas(toolbar=Toolbar(toolitems=[('Home', 'Reset original view', 'home', 'home'), ('Back', 'Back to previous …"
      ]
     },
     "metadata": {},
     "output_type": "display_data"
    },
    {
     "name": "stdout",
     "output_type": "stream",
     "text": [
      "0.2913212221851565157 down\n",
      "0.29132122218515657327 stable\n",
      "0.29132122218515663084 stable\n",
      "0.29132122218515668838 stable\n",
      "0.29132122218515674596 stable\n",
      "0.29132122218515680353 stable\n",
      "0.2913212221851568611 stable\n",
      "0.29132122218515691864 stable\n",
      "0.2913212221851569762 stable\n",
      "0.29132122218515703378 up\n",
      "0.2913212221851565157 0.29132122218515703378\n"
     ]
    },
    {
     "name": "stderr",
     "output_type": "stream",
     "text": [
      "/home/lorenzo/anaconda3/lib/python3.7/site-packages/ipykernel_launcher.py:10: RuntimeWarning: More than 20 figures have been opened. Figures created through the pyplot interface (`matplotlib.pyplot.figure`) are retained until explicitly closed and may consume too much memory. (To control this warning, see the rcParam `figure.max_open_warning`).\n",
      "  # Remove the CWD from sys.path while we load stuff.\n"
     ]
    },
    {
     "data": {
      "application/vnd.jupyter.widget-view+json": {
       "model_id": "961970a2a2dc463894c52d3f63f0f3eb",
       "version_major": 2,
       "version_minor": 0
      },
      "text/plain": [
       "Canvas(toolbar=Toolbar(toolitems=[('Home', 'Reset original view', 'home', 'home'), ('Back', 'Back to previous …"
      ]
     },
     "metadata": {},
     "output_type": "display_data"
    },
    {
     "name": "stdout",
     "output_type": "stream",
     "text": [
      "0.2913212221851565157 down\n",
      "0.29132122218515657327 stable\n",
      "0.29132122218515663084 stable\n",
      "0.29132122218515668838 stable\n",
      "0.29132122218515674596 stable\n",
      "0.29132122218515680353 stable\n",
      "0.2913212221851568611 stable\n",
      "0.29132122218515691864 stable\n",
      "0.2913212221851569762 stable\n",
      "0.29132122218515703378 up\n",
      "0.2913212221851565157 0.29132122218515703378\n"
     ]
    },
    {
     "name": "stderr",
     "output_type": "stream",
     "text": [
      "/home/lorenzo/anaconda3/lib/python3.7/site-packages/ipykernel_launcher.py:10: RuntimeWarning: More than 20 figures have been opened. Figures created through the pyplot interface (`matplotlib.pyplot.figure`) are retained until explicitly closed and may consume too much memory. (To control this warning, see the rcParam `figure.max_open_warning`).\n",
      "  # Remove the CWD from sys.path while we load stuff.\n"
     ]
    },
    {
     "data": {
      "application/vnd.jupyter.widget-view+json": {
       "model_id": "4f46a02df902461a842e3ec02a2a996c",
       "version_major": 2,
       "version_minor": 0
      },
      "text/plain": [
       "Canvas(toolbar=Toolbar(toolitems=[('Home', 'Reset original view', 'home', 'home'), ('Back', 'Back to previous …"
      ]
     },
     "metadata": {},
     "output_type": "display_data"
    },
    {
     "name": "stdout",
     "output_type": "stream",
     "text": [
      "0.2913212221851565157 down\n",
      "0.29132122218515657327 stable\n",
      "0.29132122218515663084 stable\n",
      "0.29132122218515668838 stable\n",
      "0.29132122218515674596 stable\n",
      "0.29132122218515680353 stable\n",
      "0.2913212221851568611 stable\n",
      "0.29132122218515691864 stable\n",
      "0.2913212221851569762 stable\n"
     ]
    },
    {
     "name": "stderr",
     "output_type": "stream",
     "text": [
      "/home/lorenzo/anaconda3/lib/python3.7/site-packages/ipykernel_launcher.py:10: RuntimeWarning: More than 20 figures have been opened. Figures created through the pyplot interface (`matplotlib.pyplot.figure`) are retained until explicitly closed and may consume too much memory. (To control this warning, see the rcParam `figure.max_open_warning`).\n",
      "  # Remove the CWD from sys.path while we load stuff.\n"
     ]
    },
    {
     "name": "stdout",
     "output_type": "stream",
     "text": [
      "0.29132122218515703378 up\n",
      "0.2913212221851565157 0.29132122218515703378\n"
     ]
    },
    {
     "data": {
      "application/vnd.jupyter.widget-view+json": {
       "model_id": "acb33f277f814cba9ac90715d46898b5",
       "version_major": 2,
       "version_minor": 0
      },
      "text/plain": [
       "Canvas(toolbar=Toolbar(toolitems=[('Home', 'Reset original view', 'home', 'home'), ('Back', 'Back to previous …"
      ]
     },
     "metadata": {},
     "output_type": "display_data"
    },
    {
     "name": "stdout",
     "output_type": "stream",
     "text": [
      "0.2913212221851565157 down\n",
      "0.29132122218515657327 stable\n",
      "0.29132122218515663084 stable\n",
      "0.29132122218515668838 stable\n",
      "0.29132122218515674596 stable\n",
      "0.29132122218515680353 stable\n",
      "0.2913212221851568611 stable\n",
      "0.29132122218515691864 stable\n",
      "0.2913212221851569762 stable\n",
      "0.29132122218515703378 up\n",
      "0.2913212221851565157 0.29132122218515703378\n"
     ]
    },
    {
     "name": "stderr",
     "output_type": "stream",
     "text": [
      "/home/lorenzo/anaconda3/lib/python3.7/site-packages/ipykernel_launcher.py:10: RuntimeWarning: More than 20 figures have been opened. Figures created through the pyplot interface (`matplotlib.pyplot.figure`) are retained until explicitly closed and may consume too much memory. (To control this warning, see the rcParam `figure.max_open_warning`).\n",
      "  # Remove the CWD from sys.path while we load stuff.\n"
     ]
    },
    {
     "data": {
      "application/vnd.jupyter.widget-view+json": {
       "model_id": "5963b83d2a9142ed9b1490a1e80f3f20",
       "version_major": 2,
       "version_minor": 0
      },
      "text/plain": [
       "Canvas(toolbar=Toolbar(toolitems=[('Home', 'Reset original view', 'home', 'home'), ('Back', 'Back to previous …"
      ]
     },
     "metadata": {},
     "output_type": "display_data"
    },
    {
     "name": "stdout",
     "output_type": "stream",
     "text": [
      "0.2913212221851565157 down\n",
      "0.29132122218515657327 stable\n",
      "0.29132122218515663084 stable\n",
      "0.29132122218515668838 stable\n",
      "0.29132122218515674596 stable\n",
      "0.29132122218515680353 stable\n",
      "0.2913212221851568611 stable\n",
      "0.29132122218515691864 stable\n",
      "0.2913212221851569762 stable\n",
      "0.29132122218515703378 up\n",
      "0.2913212221851565157 0.29132122218515703378\n"
     ]
    },
    {
     "name": "stderr",
     "output_type": "stream",
     "text": [
      "/home/lorenzo/anaconda3/lib/python3.7/site-packages/ipykernel_launcher.py:10: RuntimeWarning: More than 20 figures have been opened. Figures created through the pyplot interface (`matplotlib.pyplot.figure`) are retained until explicitly closed and may consume too much memory. (To control this warning, see the rcParam `figure.max_open_warning`).\n",
      "  # Remove the CWD from sys.path while we load stuff.\n"
     ]
    },
    {
     "data": {
      "application/vnd.jupyter.widget-view+json": {
       "model_id": "8913e2a77e644fb9881f1506e8547470",
       "version_major": 2,
       "version_minor": 0
      },
      "text/plain": [
       "Canvas(toolbar=Toolbar(toolitems=[('Home', 'Reset original view', 'home', 'home'), ('Back', 'Back to previous …"
      ]
     },
     "metadata": {},
     "output_type": "display_data"
    },
    {
     "name": "stdout",
     "output_type": "stream",
     "text": [
      "0.2913212221851565157 down\n",
      "0.29132122218515657327 stable\n",
      "0.29132122218515663084 stable\n",
      "0.29132122218515668838 stable\n",
      "0.29132122218515674596 stable\n",
      "0.29132122218515680353 stable\n",
      "0.2913212221851568611 stable\n",
      "0.29132122218515691864 stable\n",
      "0.2913212221851569762 stable\n",
      "0.29132122218515703378 up\n",
      "0.2913212221851565157 0.29132122218515703378\n"
     ]
    },
    {
     "name": "stderr",
     "output_type": "stream",
     "text": [
      "/home/lorenzo/anaconda3/lib/python3.7/site-packages/ipykernel_launcher.py:10: RuntimeWarning: More than 20 figures have been opened. Figures created through the pyplot interface (`matplotlib.pyplot.figure`) are retained until explicitly closed and may consume too much memory. (To control this warning, see the rcParam `figure.max_open_warning`).\n",
      "  # Remove the CWD from sys.path while we load stuff.\n"
     ]
    },
    {
     "data": {
      "application/vnd.jupyter.widget-view+json": {
       "model_id": "59bca4bedfb049829960e24b4b30ade1",
       "version_major": 2,
       "version_minor": 0
      },
      "text/plain": [
       "Canvas(toolbar=Toolbar(toolitems=[('Home', 'Reset original view', 'home', 'home'), ('Back', 'Back to previous …"
      ]
     },
     "metadata": {},
     "output_type": "display_data"
    },
    {
     "name": "stdout",
     "output_type": "stream",
     "text": [
      "0.2913212221851565157 down\n",
      "0.29132122218515657327 stable\n",
      "0.29132122218515663084 stable\n",
      "0.29132122218515668838 stable\n",
      "0.29132122218515674596 stable\n",
      "0.29132122218515680353 stable\n",
      "0.2913212221851568611 stable\n",
      "0.29132122218515691864 stable\n",
      "0.2913212221851569762 stable\n",
      "0.29132122218515703378 up\n",
      "0.2913212221851565157 0.29132122218515703378\n"
     ]
    },
    {
     "name": "stderr",
     "output_type": "stream",
     "text": [
      "/home/lorenzo/anaconda3/lib/python3.7/site-packages/ipykernel_launcher.py:10: RuntimeWarning: More than 20 figures have been opened. Figures created through the pyplot interface (`matplotlib.pyplot.figure`) are retained until explicitly closed and may consume too much memory. (To control this warning, see the rcParam `figure.max_open_warning`).\n",
      "  # Remove the CWD from sys.path while we load stuff.\n"
     ]
    },
    {
     "data": {
      "application/vnd.jupyter.widget-view+json": {
       "model_id": "05355ce2ae9f4db1a58483b8ee2be666",
       "version_major": 2,
       "version_minor": 0
      },
      "text/plain": [
       "Canvas(toolbar=Toolbar(toolitems=[('Home', 'Reset original view', 'home', 'home'), ('Back', 'Back to previous …"
      ]
     },
     "metadata": {},
     "output_type": "display_data"
    },
    {
     "name": "stdout",
     "output_type": "stream",
     "text": [
      "0.2913212221851565157 down\n",
      "0.29132122218515657327 stable\n",
      "0.29132122218515663084 stable\n",
      "0.29132122218515668838 stable\n",
      "0.29132122218515674596 stable\n",
      "0.29132122218515680353 stable\n",
      "0.2913212221851568611 stable\n",
      "0.29132122218515691864 stable\n",
      "0.2913212221851569762 stable\n",
      "0.29132122218515703378 up\n",
      "0.2913212221851565157 0.29132122218515703378\n"
     ]
    },
    {
     "name": "stderr",
     "output_type": "stream",
     "text": [
      "/home/lorenzo/anaconda3/lib/python3.7/site-packages/ipykernel_launcher.py:10: RuntimeWarning: More than 20 figures have been opened. Figures created through the pyplot interface (`matplotlib.pyplot.figure`) are retained until explicitly closed and may consume too much memory. (To control this warning, see the rcParam `figure.max_open_warning`).\n",
      "  # Remove the CWD from sys.path while we load stuff.\n"
     ]
    },
    {
     "data": {
      "application/vnd.jupyter.widget-view+json": {
       "model_id": "e3338cf4b4ef43c9a5685a96223f7e68",
       "version_major": 2,
       "version_minor": 0
      },
      "text/plain": [
       "Canvas(toolbar=Toolbar(toolitems=[('Home', 'Reset original view', 'home', 'home'), ('Back', 'Back to previous …"
      ]
     },
     "metadata": {},
     "output_type": "display_data"
    },
    {
     "name": "stdout",
     "output_type": "stream",
     "text": [
      "0.2913212221851565157 down\n",
      "0.29132122218515657327 stable\n",
      "0.29132122218515663084 stable\n",
      "0.29132122218515668838 stable\n",
      "0.29132122218515674596 stable\n",
      "0.29132122218515680353 stable\n",
      "0.2913212221851568611 stable\n",
      "0.29132122218515691864 stable\n",
      "0.2913212221851569762 stable\n",
      "0.29132122218515703378 up\n",
      "0.2913212221851565157 0.29132122218515703378\n"
     ]
    },
    {
     "name": "stderr",
     "output_type": "stream",
     "text": [
      "/home/lorenzo/anaconda3/lib/python3.7/site-packages/ipykernel_launcher.py:10: RuntimeWarning: More than 20 figures have been opened. Figures created through the pyplot interface (`matplotlib.pyplot.figure`) are retained until explicitly closed and may consume too much memory. (To control this warning, see the rcParam `figure.max_open_warning`).\n",
      "  # Remove the CWD from sys.path while we load stuff.\n"
     ]
    },
    {
     "data": {
      "application/vnd.jupyter.widget-view+json": {
       "model_id": "28f9563d4e184e8bbeb744057e76f373",
       "version_major": 2,
       "version_minor": 0
      },
      "text/plain": [
       "Canvas(toolbar=Toolbar(toolitems=[('Home', 'Reset original view', 'home', 'home'), ('Back', 'Back to previous …"
      ]
     },
     "metadata": {},
     "output_type": "display_data"
    },
    {
     "name": "stdout",
     "output_type": "stream",
     "text": [
      "0.2913212221851565157 down\n",
      "0.29132122218515657327 stable\n",
      "0.29132122218515663084 stable\n",
      "0.29132122218515668838 stable\n",
      "0.29132122218515674596 stable\n",
      "0.29132122218515680353 stable\n",
      "0.2913212221851568611 stable\n",
      "0.29132122218515691864 stable\n",
      "0.2913212221851569762 stable\n",
      "0.29132122218515703378 up\n",
      "0.2913212221851565157 0.29132122218515703378\n"
     ]
    },
    {
     "name": "stderr",
     "output_type": "stream",
     "text": [
      "/home/lorenzo/anaconda3/lib/python3.7/site-packages/ipykernel_launcher.py:10: RuntimeWarning: More than 20 figures have been opened. Figures created through the pyplot interface (`matplotlib.pyplot.figure`) are retained until explicitly closed and may consume too much memory. (To control this warning, see the rcParam `figure.max_open_warning`).\n",
      "  # Remove the CWD from sys.path while we load stuff.\n"
     ]
    },
    {
     "data": {
      "application/vnd.jupyter.widget-view+json": {
       "model_id": "860caaaaba9c4585811cba860770f2d1",
       "version_major": 2,
       "version_minor": 0
      },
      "text/plain": [
       "Canvas(toolbar=Toolbar(toolitems=[('Home', 'Reset original view', 'home', 'home'), ('Back', 'Back to previous …"
      ]
     },
     "metadata": {},
     "output_type": "display_data"
    },
    {
     "name": "stdout",
     "output_type": "stream",
     "text": [
      "0.2913212221851565157 down\n",
      "0.29132122218515657327 stable\n",
      "0.29132122218515663084 stable\n",
      "0.29132122218515668838 stable\n",
      "0.29132122218515674596 stable\n",
      "0.29132122218515680353 stable\n",
      "0.2913212221851568611 stable\n",
      "0.29132122218515691864 stable\n",
      "0.2913212221851569762 stable\n",
      "0.29132122218515703378 up\n",
      "0.2913212221851565157 0.29132122218515703378\n"
     ]
    },
    {
     "name": "stderr",
     "output_type": "stream",
     "text": [
      "/home/lorenzo/anaconda3/lib/python3.7/site-packages/ipykernel_launcher.py:10: RuntimeWarning: More than 20 figures have been opened. Figures created through the pyplot interface (`matplotlib.pyplot.figure`) are retained until explicitly closed and may consume too much memory. (To control this warning, see the rcParam `figure.max_open_warning`).\n",
      "  # Remove the CWD from sys.path while we load stuff.\n"
     ]
    },
    {
     "data": {
      "application/vnd.jupyter.widget-view+json": {
       "model_id": "2ae3d0b9c19e47738f7ef6c1038bca4c",
       "version_major": 2,
       "version_minor": 0
      },
      "text/plain": [
       "Canvas(toolbar=Toolbar(toolitems=[('Home', 'Reset original view', 'home', 'home'), ('Back', 'Back to previous …"
      ]
     },
     "metadata": {},
     "output_type": "display_data"
    },
    {
     "name": "stdout",
     "output_type": "stream",
     "text": [
      "0.2913212221851565157 down\n",
      "0.29132122218515657327 stable\n",
      "0.29132122218515663084 stable\n",
      "0.29132122218515668838 stable\n",
      "0.29132122218515674596 stable\n",
      "0.29132122218515680353 stable\n",
      "0.2913212221851568611 stable\n",
      "0.29132122218515691864 stable\n",
      "0.2913212221851569762 stable\n",
      "0.29132122218515703378 up\n",
      "0.2913212221851565157 0.29132122218515703378\n"
     ]
    },
    {
     "name": "stderr",
     "output_type": "stream",
     "text": [
      "/home/lorenzo/anaconda3/lib/python3.7/site-packages/ipykernel_launcher.py:10: RuntimeWarning: More than 20 figures have been opened. Figures created through the pyplot interface (`matplotlib.pyplot.figure`) are retained until explicitly closed and may consume too much memory. (To control this warning, see the rcParam `figure.max_open_warning`).\n",
      "  # Remove the CWD from sys.path while we load stuff.\n"
     ]
    },
    {
     "data": {
      "application/vnd.jupyter.widget-view+json": {
       "model_id": "d2e27549910e45a396acce88d5156f58",
       "version_major": 2,
       "version_minor": 0
      },
      "text/plain": [
       "Canvas(toolbar=Toolbar(toolitems=[('Home', 'Reset original view', 'home', 'home'), ('Back', 'Back to previous …"
      ]
     },
     "metadata": {},
     "output_type": "display_data"
    },
    {
     "name": "stdout",
     "output_type": "stream",
     "text": [
      "0.2913212221851565157 down\n",
      "0.29132122218515657327 stable\n",
      "0.29132122218515663084 stable\n",
      "0.29132122218515668838 stable\n",
      "0.29132122218515674596 stable\n",
      "0.29132122218515680353 stable\n",
      "0.2913212221851568611 stable\n",
      "0.29132122218515691864 stable\n",
      "0.2913212221851569762 stable\n",
      "0.29132122218515703378 up\n",
      "0.2913212221851565157 0.29132122218515703378\n",
      "0.29132122218515677\n"
     ]
    },
    {
     "data": {
      "text/plain": [
       "[<matplotlib.lines.Line2D at 0x7f60e4c22e90>]"
      ]
     },
     "execution_count": 19,
     "metadata": {},
     "output_type": "execute_result"
    }
   ],
   "source": [
    "def mov_parameter(function,n,initial_parameters,initial_condition,coef_vector):\n",
    "        max_t = 100\n",
    "        t = np.linspace(0,max_t,10000)\n",
    "        mu_min,mu_max = initial_parameters\n",
    "      \n",
    "        up_down = []\n",
    "                 \n",
    "        threshold_inf = -1\n",
    "        threshold_sup = 1\n",
    "        plt.figure()\n",
    "        for mu in np.linspace(mu_min,mu_max,10,dtype = 'float128'): \n",
    "            coef_vector[n] = mu\n",
    "            tray = odeint(function,initial_condition,t,(coef_vector,)).T\n",
    "            s = np.where(t > 22)[0]\n",
    "            r = tray[0][s] #I don't care about the beggining\n",
    "            plt.plot(s,r,label = str(mu))\n",
    "            sup = np.where(r>threshold_sup)[0] #Find when r is higher than sup_threshold (if it is possible)\n",
    "            \n",
    "            if not len(sup) == 0:#maybe r just go down, never surpases threshold_sup and sup is empty\n",
    "                sup = sup[0]\n",
    "            else:\n",
    "                sup = max_t*100\n",
    "                \n",
    "            inf = np.where(r<threshold_inf)[0] #Find when r is lower than threshold_inf (if it is possible)\n",
    "            if not len(inf)== 0:\n",
    "                inf = inf[0]\n",
    "            else:\n",
    "                inf = max_t*100\n",
    "            \n",
    "            if sup<inf:\n",
    "                a = 'up' #if firt\n",
    "                print(mu,a)\n",
    "            elif inf<sup:\n",
    "                a = 'down'\n",
    "                print(mu,a)\n",
    "            else:\n",
    "                a = 'stable'    \n",
    "                print(mu,a)\n",
    "\n",
    " #           if (a == 'up' and mu > mu_min): mu_min = mu\n",
    "#            if (a == 'down' and mu < mu_max): mu_max = mu\n",
    " #           if a == 'stable': continue\n",
    "                \n",
    "            if (a == 'down' and mu > mu_min): mu_min = mu\n",
    "            if (a == 'up' and mu < mu_max): mu_max = mu\n",
    "            if a == 'stable': continue\n",
    "        plt.legend()\n",
    "        return mu_min,mu_max\n",
    "    \n",
    "coef_vector = classifier.coef_\n",
    "coef_vector[1] = 0.055283522241596389284\n",
    "\n",
    "plt.figure()\n",
    "mu_min = 0.28\n",
    "mu_max = 0.3\n",
    "for i in range(50):        \n",
    "    mu_min,mu_max = mov_parameter(f,2,[mu_min,mu_max],cross,coef_vector)\n",
    "    print(mu_min,mu_max)\n",
    "            \n",
    "t = np.linspace(0,65,1000)\n",
    "\n",
    "coef_vector[2] = mu_max/2 + mu_min/2\n",
    "print(coef_vector[2])\n",
    "tray = odeint(f,cross,t,args = (coef_vector,)).T\n",
    "plt.plot(t,tray[0])"
   ]
  },
  {
   "cell_type": "code",
   "execution_count": 20,
   "metadata": {},
   "outputs": [
    {
     "name": "stderr",
     "output_type": "stream",
     "text": [
      "/home/lorenzo/anaconda3/lib/python3.7/site-packages/ipykernel_launcher.py:3: RuntimeWarning: More than 20 figures have been opened. Figures created through the pyplot interface (`matplotlib.pyplot.figure`) are retained until explicitly closed and may consume too much memory. (To control this warning, see the rcParam `figure.max_open_warning`).\n",
      "  This is separate from the ipykernel package so we can avoid doing imports until\n"
     ]
    },
    {
     "data": {
      "application/vnd.jupyter.widget-view+json": {
       "model_id": "603adbba996f41039f971d27b6d5cb59",
       "version_major": 2,
       "version_minor": 0
      },
      "text/plain": [
       "Canvas(toolbar=Toolbar(toolitems=[('Home', 'Reset original view', 'home', 'home'), ('Back', 'Back to previous …"
      ]
     },
     "metadata": {},
     "output_type": "display_data"
    },
    {
     "name": "stderr",
     "output_type": "stream",
     "text": [
      "/home/lorenzo/anaconda3/lib/python3.7/site-packages/ipykernel_launcher.py:8: RuntimeWarning: More than 20 figures have been opened. Figures created through the pyplot interface (`matplotlib.pyplot.figure`) are retained until explicitly closed and may consume too much memory. (To control this warning, see the rcParam `figure.max_open_warning`).\n",
      "  \n"
     ]
    },
    {
     "data": {
      "application/vnd.jupyter.widget-view+json": {
       "model_id": "5bbba31c688446d881bc0808ac9ae447",
       "version_major": 2,
       "version_minor": 0
      },
      "text/plain": [
       "Canvas(toolbar=Toolbar(toolitems=[('Home', 'Reset original view', 'home', 'home'), ('Back', 'Back to previous …"
      ]
     },
     "metadata": {},
     "output_type": "display_data"
    },
    {
     "data": {
      "text/plain": [
       "<Figure size 640x480 with 0 Axes>"
      ]
     },
     "execution_count": 20,
     "metadata": {},
     "output_type": "execute_result"
    }
   ],
   "source": [
    "t = np.linspace(0,100,10000)\n",
    "\n",
    "plt.figure()\n",
    "coef_vector[1] = 0.055283522241596389284\n",
    "coef_vector[2] = 0.2913212221851568611\n",
    "tray = odeint(f,cross,t,args = (coef_vector,)).T\n",
    "plt.plot(t,tray[0])\n",
    "plt.figure()\n"
   ]
  },
  {
   "cell_type": "code",
   "execution_count": 21,
   "metadata": {},
   "outputs": [
    {
     "name": "stdout",
     "output_type": "stream",
     "text": [
      "[ 0.                    0.05528352224159639   0.2913212221851569\n",
      "  0.20846415560777062  -0.13324995000322043  -0.058470565091640135\n",
      " -0.01316826256110804  -0.06451597101228136  -0.11427323629077762\n",
      " -0.005170770099244098]\n"
     ]
    },
    {
     "ename": "NameError",
     "evalue": "name 'mu2_list' is not defined",
     "output_type": "error",
     "traceback": [
      "\u001b[0;31m---------------------------------------------------------------------------\u001b[0m",
      "\u001b[0;31mNameError\u001b[0m                                 Traceback (most recent call last)",
      "\u001b[0;32m<ipython-input-21-dbd2b1e1fd7d>\u001b[0m in \u001b[0;36m<module>\u001b[0;34m\u001b[0m\n\u001b[1;32m      2\u001b[0m \u001b[0mt\u001b[0m \u001b[0;34m=\u001b[0m \u001b[0mnp\u001b[0m\u001b[0;34m.\u001b[0m\u001b[0mlinspace\u001b[0m\u001b[0;34m(\u001b[0m\u001b[0;36m0\u001b[0m\u001b[0;34m,\u001b[0m\u001b[0;36m100\u001b[0m\u001b[0;34m,\u001b[0m\u001b[0;36m10000\u001b[0m\u001b[0;34m)\u001b[0m\u001b[0;34m\u001b[0m\u001b[0;34m\u001b[0m\u001b[0m\n\u001b[1;32m      3\u001b[0m \u001b[0mprint\u001b[0m\u001b[0;34m(\u001b[0m\u001b[0mcoef_vector\u001b[0m\u001b[0;34m)\u001b[0m\u001b[0;34m\u001b[0m\u001b[0;34m\u001b[0m\u001b[0m\n\u001b[0;32m----> 4\u001b[0;31m \u001b[0mprint\u001b[0m\u001b[0;34m(\u001b[0m\u001b[0mmu2_list\u001b[0m\u001b[0;34m)\u001b[0m\u001b[0;34m\u001b[0m\u001b[0;34m\u001b[0m\u001b[0m\n\u001b[0m\u001b[1;32m      5\u001b[0m \u001b[0mplt\u001b[0m\u001b[0;34m.\u001b[0m\u001b[0mfigure\u001b[0m\u001b[0;34m(\u001b[0m\u001b[0mfigsize\u001b[0m \u001b[0;34m=\u001b[0m \u001b[0;34m(\u001b[0m\u001b[0;36m10\u001b[0m\u001b[0;34m,\u001b[0m\u001b[0;36m10\u001b[0m\u001b[0;34m)\u001b[0m\u001b[0;34m)\u001b[0m\u001b[0;34m\u001b[0m\u001b[0;34m\u001b[0m\u001b[0m\n\u001b[1;32m      6\u001b[0m \u001b[0;31m#Change mu1\u001b[0m\u001b[0;34m\u001b[0m\u001b[0;34m\u001b[0m\u001b[0;34m\u001b[0m\u001b[0m\n",
      "\u001b[0;31mNameError\u001b[0m: name 'mu2_list' is not defined"
     ]
    }
   ],
   "source": [
    "cross = (-0.03, 0.056)\n",
    "t = np.linspace(0,100,10000)\n",
    "print(coef_vector)\n",
    "print(mu2_list)\n",
    "plt.figure(figsize = (10,10))\n",
    "#Change mu1\n",
    "mu2_list = np.linspace(0.291320000,  0.29132803125000006,3)\n",
    "for mu2 in mu2_list:\n",
    "    coef_vector[2] = mu2\n",
    "    tray = odeint(f,cross,t,args = (coef_vector,)).T\n",
    "    plt.plot(t,tray[0],label = '$\\mu$ = {}'.format(mu2))\n",
    "\n",
    "t2 = np.linspace(0,64,10000)\n",
    "plt.plot(t2,x)\n",
    "plt.legend()"
   ]
  },
  {
   "cell_type": "code",
   "execution_count": 22,
   "metadata": {},
   "outputs": [
    {
     "name": "stderr",
     "output_type": "stream",
     "text": [
      "/home/lorenzo/anaconda3/lib/python3.7/site-packages/ipykernel_launcher.py:19: RuntimeWarning: More than 20 figures have been opened. Figures created through the pyplot interface (`matplotlib.pyplot.figure`) are retained until explicitly closed and may consume too much memory. (To control this warning, see the rcParam `figure.max_open_warning`).\n"
     ]
    },
    {
     "data": {
      "application/vnd.jupyter.widget-view+json": {
       "model_id": "ea66ae22a7264e2caf2049a177d74d40",
       "version_major": 2,
       "version_minor": 0
      },
      "text/plain": [
       "Canvas(toolbar=Toolbar(toolitems=[('Home', 'Reset original view', 'home', 'home'), ('Back', 'Back to previous …"
      ]
     },
     "metadata": {},
     "output_type": "display_data"
    },
    {
     "data": {
      "text/plain": [
       "[<matplotlib.lines.Line2D at 0x7f60e3e2c2d0>]"
      ]
     },
     "execution_count": 22,
     "metadata": {},
     "output_type": "execute_result"
    }
   ],
   "source": [
    "t = np.linspace(0,64,100000)\n",
    "t2 = np.linspace(64,0,1000)\n",
    "\n",
    "X0 = (0,.010)\n",
    "tray = odeint(f,X0,t,args = (coef_vector,)).T\n",
    "\n",
    "X1 = (-1,.01)\n",
    "tray1 = odeint(f,X1,t,args = (coef_vector,)).T\n",
    "\n",
    "X2 = (.1,.01)\n",
    "tray2 = odeint(f,X2,t,args = (coef_vector,)).T\n",
    "\n",
    "X3 = (.2,.01)\n",
    "tray3 = odeint(f,X3,t,args = (coef_vector,)).T\n",
    "\n",
    "X4 = 0.,.01\n",
    "tray4 = odeint(f,X4,t2,args = (coef_vector,)).T\n",
    "\n",
    "plt.figure()\n",
    "plt.plot(tray[0],tray[1])\n",
    "plt.plot(tray1[0],tray1[1])\n",
    "plt.plot(tray2[0],tray2[1])\n",
    "plt.plot(tray3[0],tray3[1])\n",
    "plt.plot(tray4[0],tray4[1])"
   ]
  },
  {
   "cell_type": "code",
   "execution_count": 207,
   "metadata": {},
   "outputs": [
    {
     "name": "stderr",
     "output_type": "stream",
     "text": [
      "/home/lorenzo/anaconda3/lib/python3.7/site-packages/ipykernel_launcher.py:5: RuntimeWarning: More than 20 figures have been opened. Figures created through the pyplot interface (`matplotlib.pyplot.figure`) are retained until explicitly closed and may consume too much memory. (To control this warning, see the rcParam `figure.max_open_warning`).\n",
      "  \"\"\"\n"
     ]
    },
    {
     "data": {
      "application/vnd.jupyter.widget-view+json": {
       "model_id": "34933cef7c4d4698937fa998f68833ee",
       "version_major": 2,
       "version_minor": 0
      },
      "text/plain": [
       "Canvas(toolbar=Toolbar(toolitems=[('Home', 'Reset original view', 'home', 'home'), ('Back', 'Back to previous …"
      ]
     },
     "metadata": {},
     "output_type": "display_data"
    },
    {
     "data": {
      "text/plain": [
       "[<matplotlib.lines.Line2D at 0x7f96830ef890>]"
      ]
     },
     "execution_count": 207,
     "metadata": {},
     "output_type": "execute_result"
    }
   ],
   "source": [
    "a = tray4[0][-1],tray4[1][-1]\n",
    "x = np.concatenate([tray4[0],tray[0]],axis = 0)\n",
    "y = np.concatenate([tray4[1],tray[1]])\n",
    "\n",
    "plt.figure()\n",
    "#plt.plot(x,x_punto)\n",
    "plt.plot(x,y)"
   ]
  },
  {
   "cell_type": "code",
   "execution_count": 185,
   "metadata": {},
   "outputs": [],
   "source": [
    "x = x_interp\n",
    "x_punto = x_punto_interp\n",
    "x_puntopunto = x_puntopunto_interp\n",
    "degree = 7\n",
    "idx = np.arange(1,degree,2)\n",
    "Theta = np.zeros([x.shape[0],degree])\n",
    "Theta[:,0] = np.ones(x.shape[0])\n",
    "Theta[:,1] = x\n",
    "Theta[:,2] = x_punto\n",
    "Theta[:,3] = x*x_punto\n",
    "Theta[:,4] = x_punto**2\n",
    "Theta[:,5] = x**3\n",
    "Theta[:,6] = x**2*x_punto"
   ]
  },
  {
   "cell_type": "code",
   "execution_count": 19,
   "metadata": {},
   "outputs": [
    {
     "name": "stdout",
     "output_type": "stream",
     "text": [
      "(10000, 7) 10000\n"
     ]
    }
   ],
   "source": [
    "classifier = Lasso(alpha=0.000000001,max_iter=10000000)\n",
    "classifier.fit(Theta,x_puntopunto)\n",
    "print(Theta.shape,len(x_puntopunto))"
   ]
  },
  {
   "cell_type": "code",
   "execution_count": 20,
   "metadata": {},
   "outputs": [
    {
     "name": "stdout",
     "output_type": "stream",
     "text": [
      "[ 0.         -0.09843611 -0.11180471  0.29717996 -0.18435317 -0.01180283\n",
      "  0.04806139]\n"
     ]
    }
   ],
   "source": [
    "coef_vector = classifier.coef_\n",
    "print(coef_vector)"
   ]
  },
  {
   "cell_type": "code",
   "execution_count": 21,
   "metadata": {},
   "outputs": [],
   "source": [
    "def f(X,t):\n",
    "    r,rpunto = X\n",
    "    u = np.array([1,r,rpunto,r*rpunto,rpunto**2,r**3,rpunto*r**2])\n",
    "    \n",
    "    drdt = rpunto\n",
    "    drpunto_dt = np.dot(coef_vector,u)\n",
    "    return drdt,drpunto_dt"
   ]
  },
  {
   "cell_type": "code",
   "execution_count": 22,
   "metadata": {},
   "outputs": [
    {
     "name": "stdout",
     "output_type": "stream",
     "text": [
      "Initial conditions: X =  1.3447872870528276e-20  X_punto =  0.0009942504213135525\n"
     ]
    },
    {
     "data": {
      "application/vnd.jupyter.widget-view+json": {
       "model_id": "3a0e10bf531e4a07b10e5c727bcea9c4",
       "version_major": 2,
       "version_minor": 0
      },
      "text/plain": [
       "Canvas(toolbar=Toolbar(toolitems=[('Home', 'Reset original view', 'home', 'home'), ('Back', 'Back to previous …"
      ]
     },
     "metadata": {},
     "output_type": "display_data"
    },
    {
     "data": {
      "text/plain": [
       "[<matplotlib.lines.Line2D at 0x7f2ce7a96ad0>]"
      ]
     },
     "execution_count": 22,
     "metadata": {},
     "output_type": "execute_result"
    }
   ],
   "source": [
    "X0 = (x[0],x_punto[0])\n",
    "print('Initial conditions: X = ',X0[0],' X_punto = ',X0[1])\n",
    "t = np.linspace(0,64,100000)\n",
    "t2 = np.linspace(0,64,len(x))\n",
    "tray = odeint(f,X0,t).T\n",
    "\n",
    "fig = plt.figure()\n",
    "\n",
    "plt.plot(t,tray[0])\n",
    "plt.plot(t2,x)\n"
   ]
  },
  {
   "cell_type": "code",
   "execution_count": null,
   "metadata": {},
   "outputs": [],
   "source": []
  },
  {
   "cell_type": "code",
   "execution_count": 23,
   "metadata": {},
   "outputs": [
    {
     "data": {
      "application/vnd.jupyter.widget-view+json": {
       "model_id": "a919108798dd47bcb4e9f7472119cd49",
       "version_major": 2,
       "version_minor": 0
      },
      "text/plain": [
       "Canvas(toolbar=Toolbar(toolitems=[('Home', 'Reset original view', 'home', 'home'), ('Back', 'Back to previous …"
      ]
     },
     "metadata": {},
     "output_type": "display_data"
    },
    {
     "data": {
      "text/plain": [
       "[<matplotlib.lines.Line2D at 0x7f2ce7a430d0>]"
      ]
     },
     "execution_count": 23,
     "metadata": {},
     "output_type": "execute_result"
    }
   ],
   "source": [
    "t = np.linspace(0,64,10000)\n",
    "t2 = np.linspace(90,0,10000)\n",
    "X0 = (-1.1,.010)\n",
    "tray = odeint(f,X0,t).T\n",
    "\n",
    "X1 = (-1,.01)\n",
    "tray1 = odeint(f,X1,t).T\n",
    "\n",
    "X2 = (-.9,.01)\n",
    "tray2 = odeint(f,X2,t).T\n",
    "\n",
    "X3 = (-2,-1)\n",
    "tray3 = odeint(f,X3,t).T\n",
    "\n",
    "x4 = tray[:,-1]\n",
    "tray4 = odeint(f,x4,t2).T\n",
    "\n",
    "\n",
    "plt.figure()\n",
    "plt.plot(tray[0],tray[1])\n",
    "plt.plot(tray1[0],tray1[1])\n",
    "plt.plot(tray2[0],tray2[1])\n",
    "plt.plot(tray3[0],tray3[1])\n",
    "plt.plot(tray4[0],tray4[1])\n",
    "\n",
    "plt.plot(x,x_punto)"
   ]
  },
  {
   "cell_type": "markdown",
   "metadata": {},
   "source": [
    "# Probemos con otra neurona"
   ]
  },
  {
   "cell_type": "code",
   "execution_count": 24,
   "metadata": {},
   "outputs": [],
   "source": [
    "Cluster_selected = get_cluster_indexs(10,fl)\n",
    "Emb = Neurons.loc[Cluster_selected]\n",
    "x = np.concatenate(Emb.Mean.values)\n",
    "x = x[1:64]\n",
    "x = (x - np.mean(x))/np.std(x)\n",
    "x = x - x[0]\n"
   ]
  },
  {
   "cell_type": "code",
   "execution_count": 25,
   "metadata": {},
   "outputs": [
    {
     "data": {
      "application/vnd.jupyter.widget-view+json": {
       "model_id": "b6957e96eb7f4f15849f140fc3379416",
       "version_major": 2,
       "version_minor": 0
      },
      "text/plain": [
       "Canvas(toolbar=Toolbar(toolitems=[('Home', 'Reset original view', 'home', 'home'), ('Back', 'Back to previous …"
      ]
     },
     "metadata": {},
     "output_type": "display_data"
    },
    {
     "data": {
      "text/plain": [
       "<matplotlib.legend.Legend at 0x7f2ce7889710>"
      ]
     },
     "execution_count": 25,
     "metadata": {},
     "output_type": "execute_result"
    }
   ],
   "source": [
    "\n",
    "t = np.linspace(0,len(x),100000)\n",
    "t2 = np.arange(len(x))\n",
    "x_interp = UnivariateSpline(t2,x,s = 0)\n",
    "x_punto_interp = x_interp.derivative()\n",
    "x_puntopunto_interp = x_interp.derivative(2)\n",
    "\n",
    "x_interp = x_interp(t)\n",
    "x_punto_interp = x_punto_interp(t)\n",
    "x_puntopunto_interp = x_puntopunto_interp(t)\n",
    "\n",
    "\n",
    "x_punto = np.gradient(x)\n",
    "x_puntopunto = np.gradient(x_punto)\n",
    "\n",
    "\n",
    "x_punto_integrated = cumtrapz(x_puntopunto)\n",
    "x_integrated = cumtrapz(x_punto_integrated)\n",
    "\n",
    "x_punto_integrated_interp= cumtrapz(x_puntopunto_interp)\n",
    "x_integrated_interp= cumtrapz(x_punto_integrated_interp)\n",
    "\n",
    "fig = plt.figure()\n",
    "axes = fig.subplots(2,2)\n",
    "axes[0][0].scatter(t2,x,label = 'senial original')\n",
    "axes[0][0].plot(x_integrated,color = 'r',label = 'senial integrada')\n",
    "axes[0][1].scatter(t,x_interp,color = 'g', marker = '.',label = 'senial interpolada')\n",
    "axes[0][1].plot(t[1:-1],x_integrated_interp,color = 'c',label = 'senial interpolada integrada')\n",
    "\n",
    "axes[1][0].plot(x_punto,label = 'x_punto')\n",
    "axes[1][0].plot(x_puntopunto,label = 'x_puntopunto')\n",
    "axes[1][1].plot(t,x_punto_interp,label = 'x_punto interp')\n",
    "axes[1][1].plot(t,x_puntopunto_interp,label = 'x_puntopunto interp')\n",
    "axes[0][0].legend()\n",
    "axes[0][1].legend()\n",
    "axes[1][0].legend()\n",
    "axes[1][1].legend()"
   ]
  },
  {
   "cell_type": "code",
   "execution_count": 26,
   "metadata": {},
   "outputs": [],
   "source": [
    "x = x_interp\n",
    "x_punto = x_punto_interp\n",
    "x_puntopunto = x_puntopunto_interp\n",
    "degree = 10\n",
    "idx = np.arange(1,degree,2)\n",
    "Theta = np.zeros([x.shape[0],degree])\n",
    "Theta[:,0] = np.ones(x.shape[0])\n",
    "Theta[:,1] = x\n",
    "Theta[:,2] = x_punto\n",
    "Theta[:,3] = x*x_punto\n",
    "Theta[:,4] = x_punto**2\n",
    "Theta[:,5] = x**3\n",
    "Theta[:,6] = x**2*x_punto\n",
    "Theta[:,7] = x**2\n",
    "Theta[:,8] = x_punto**3\n",
    "Theta[:,9] = x**4"
   ]
  },
  {
   "cell_type": "markdown",
   "metadata": {},
   "source": [
    "Lasso"
   ]
  },
  {
   "cell_type": "code",
   "execution_count": 27,
   "metadata": {},
   "outputs": [
    {
     "name": "stdout",
     "output_type": "stream",
     "text": [
      "(100000, 10) 100000\n"
     ]
    }
   ],
   "source": [
    "from sklearn.linear_model import Lasso\n",
    "from scipy.integrate import odeint\n",
    "classifier = Lasso(alpha=0.000001,max_iter=1000000)\n",
    "classifier.fit(Theta,x_puntopunto)\n",
    "print(Theta.shape,len(x_puntopunto))"
   ]
  },
  {
   "cell_type": "markdown",
   "metadata": {},
   "source": [
    "Vector de coeficientes ($\\eta$)"
   ]
  },
  {
   "cell_type": "code",
   "execution_count": 28,
   "metadata": {},
   "outputs": [
    {
     "name": "stdout",
     "output_type": "stream",
     "text": [
      "[ 0.          0.05155227  0.44021962  0.07512939 -0.43876236 -0.04946516\n",
      " -0.03408778 -0.0546355  -0.81142663 -0.00512404]\n"
     ]
    }
   ],
   "source": [
    "coef_vector = classifier.coef_\n",
    "print(coef_vector)"
   ]
  },
  {
   "cell_type": "markdown",
   "metadata": {},
   "source": [
    "Ecuaciones diferenciales"
   ]
  },
  {
   "cell_type": "code",
   "execution_count": 29,
   "metadata": {},
   "outputs": [],
   "source": [
    "def f(X,t):\n",
    "    r,rpunto = X\n",
    "    u = np.array([1,r,rpunto,r*rpunto,rpunto**2,r**3,rpunto*r**2,r**2,rpunto**3,r**4])\n",
    "    \n",
    "    drdt = rpunto\n",
    "    drpunto_dt = np.dot(coef_vector,u)\n",
    "    return drdt,drpunto_dt"
   ]
  },
  {
   "cell_type": "markdown",
   "metadata": {},
   "source": [
    "Integramos las ecuaciones y graficamos"
   ]
  },
  {
   "cell_type": "code",
   "execution_count": 30,
   "metadata": {},
   "outputs": [
    {
     "name": "stdout",
     "output_type": "stream",
     "text": [
      "Initial conditions: X =  -2.689574574105655e-19  X_punto =  -0.04288473923798376\n"
     ]
    },
    {
     "data": {
      "application/vnd.jupyter.widget-view+json": {
       "model_id": "9416e03da59f44689ad5fd0b521685e1",
       "version_major": 2,
       "version_minor": 0
      },
      "text/plain": [
       "Canvas(toolbar=Toolbar(toolitems=[('Home', 'Reset original view', 'home', 'home'), ('Back', 'Back to previous …"
      ]
     },
     "metadata": {},
     "output_type": "display_data"
    },
    {
     "data": {
      "text/plain": [
       "[<matplotlib.lines.Line2D at 0x7f2ce78b0450>]"
      ]
     },
     "execution_count": 30,
     "metadata": {},
     "output_type": "execute_result"
    }
   ],
   "source": [
    "X0 = (x[0],x_punto[0])\n",
    "print('Initial conditions: X = ',X0[0],' X_punto = ',X0[1])\n",
    "t = np.linspace(0,64,100000)\n",
    "t2 = np.linspace(0,64,len(x))\n",
    "tray = odeint(f,X0,t).T\n",
    "\n",
    "fig = plt.figure()\n",
    "\n",
    "plt.plot(t,tray[0])\n",
    "plt.plot(t2,x)\n"
   ]
  },
  {
   "cell_type": "code",
   "execution_count": 31,
   "metadata": {},
   "outputs": [
    {
     "data": {
      "application/vnd.jupyter.widget-view+json": {
       "model_id": "ef0a0e2c5a7a4ae48a28b0713f5af2de",
       "version_major": 2,
       "version_minor": 0
      },
      "text/plain": [
       "Canvas(toolbar=Toolbar(toolitems=[('Home', 'Reset original view', 'home', 'home'), ('Back', 'Back to previous …"
      ]
     },
     "metadata": {},
     "output_type": "display_data"
    }
   ],
   "source": [
    "t = np.linspace(0,64,1000)\n",
    "t2 = np.linspace(64,0,1000)\n",
    "\n",
    "t = t2\n",
    "X0 = (x[0],x_punto[0])\n",
    "tray = odeint(f,X0,t).T\n",
    "\n",
    "X1 = (-.1,.01)\n",
    "tray1 = odeint(f,X1,t).T\n",
    "\n",
    "X2 = (1,.01)\n",
    "tray2 = odeint(f,X2,t).T\n",
    "\n",
    "X3 = (-.5,.01)\n",
    "tray3 = odeint(f,X3,t).T\n",
    "\n",
    "\n",
    "\n",
    "plt.figure()\n",
    "plt.plot(tray[0],tray[1])\n",
    "plt.plot(tray1[0],tray1[1])\n",
    "plt.plot(tray2[0],tray2[1])\n",
    "plt.plot(tray3[0],tray3[1])\n",
    "\n",
    "a = tray[:,-1]\n",
    "a2 = tray3[:,-1]\n"
   ]
  },
  {
   "cell_type": "code",
   "execution_count": 32,
   "metadata": {},
   "outputs": [
    {
     "data": {
      "application/vnd.jupyter.widget-view+json": {
       "model_id": "7f3c3668773e40c2a034d373643859e9",
       "version_major": 2,
       "version_minor": 0
      },
      "text/plain": [
       "Canvas(toolbar=Toolbar(toolitems=[('Home', 'Reset original view', 'home', 'home'), ('Back', 'Back to previous …"
      ]
     },
     "metadata": {},
     "output_type": "display_data"
    }
   ],
   "source": [
    "t = np.linspace(0,1000,10000)\n",
    "ic = [a + 0.4*(np.random.random(2) - 1/2) for i in range(10)]\n",
    "plt.close('all')\n",
    "plt.figure(90)\n",
    "for i in ic:\n",
    "    tray = odeint(f,i,t).T\n",
    "    plt.plot(tray[0],tray[1])\n",
    "    \n",
    "t = np.linspace(0,1000,10000)\n",
    "ic = [a2 +.5*(np.random.random(2) - 1/2) for i in range(10)]\n",
    "for i in ic:\n",
    "    tray = odeint(f,i,t).T\n",
    "    plt.plot(tray[0],tray[1])"
   ]
  },
  {
   "cell_type": "markdown",
   "metadata": {},
   "source": [
    "EL foco es un foco repulsor"
   ]
  },
  {
   "cell_type": "code",
   "execution_count": 33,
   "metadata": {},
   "outputs": [
    {
     "data": {
      "application/vnd.jupyter.widget-view+json": {
       "model_id": "d90315055044445588674771dd4e54cb",
       "version_major": 2,
       "version_minor": 0
      },
      "text/plain": [
       "Canvas(toolbar=Toolbar(toolitems=[('Home', 'Reset original view', 'home', 'home'), ('Back', 'Back to previous …"
      ]
     },
     "metadata": {},
     "output_type": "display_data"
    },
    {
     "data": {
      "text/plain": [
       "[<matplotlib.lines.Line2D at 0x7f2ce43cea50>]"
      ]
     },
     "execution_count": 33,
     "metadata": {},
     "output_type": "execute_result"
    }
   ],
   "source": [
    "t = np.linspace(0,100,100000)\n",
    "ic = [a + 0.4*(np.random.random(2) - 1/2) for i in range(1)]\n",
    "plt.close('all')\n",
    "plt.figure(90)\n",
    "for i in ic:\n",
    "    tray = odeint(f,i,t).T\n",
    "    plt.plot(t,tray[0])\n",
    "\n",
    "ic = [a2 +1*(np.random.random(2) - 1/2) for i in range(1)]\n",
    "for i in ic:\n",
    "    tray = odeint(f,i,t).T\n",
    "    plt.plot(t,tray[0])\n",
    "plt.plot(t,x)"
   ]
  },
  {
   "cell_type": "markdown",
   "metadata": {},
   "source": [
    "# Una neurona mas"
   ]
  },
  {
   "cell_type": "code",
   "execution_count": 34,
   "metadata": {},
   "outputs": [],
   "source": [
    "Cluster_selected = get_cluster_indexs(24,fl)\n",
    "Emb = Neurons.loc[Cluster_selected]\n",
    "x = np.concatenate(Emb.Mean.values)\n",
    "x = x[1:64]\n",
    "x = (x - np.mean(x))/np.std(x)\n",
    "x = x - x[0]\n"
   ]
  },
  {
   "cell_type": "code",
   "execution_count": 35,
   "metadata": {},
   "outputs": [
    {
     "data": {
      "application/vnd.jupyter.widget-view+json": {
       "model_id": "b166da0ead9849658e3e864a833b0d14",
       "version_major": 2,
       "version_minor": 0
      },
      "text/plain": [
       "Canvas(toolbar=Toolbar(toolitems=[('Home', 'Reset original view', 'home', 'home'), ('Back', 'Back to previous …"
      ]
     },
     "metadata": {},
     "output_type": "display_data"
    },
    {
     "data": {
      "text/plain": [
       "<matplotlib.legend.Legend at 0x7f2ce4222610>"
      ]
     },
     "execution_count": 35,
     "metadata": {},
     "output_type": "execute_result"
    }
   ],
   "source": [
    "\n",
    "t = np.linspace(0,len(x),100000)\n",
    "t2 = np.arange(len(x))\n",
    "x_interp = UnivariateSpline(t2,x,s = 0)\n",
    "x_punto_interp = x_interp.derivative()\n",
    "x_puntopunto_interp = x_interp.derivative(2)\n",
    "\n",
    "x_interp = x_interp(t)\n",
    "x_punto_interp = x_punto_interp(t)\n",
    "x_puntopunto_interp = x_puntopunto_interp(t)\n",
    "\n",
    "\n",
    "x_punto = np.gradient(x)\n",
    "x_puntopunto = np.gradient(x_punto)\n",
    "\n",
    "\n",
    "x_punto_integrated = cumtrapz(x_puntopunto)\n",
    "x_integrated = cumtrapz(x_punto_integrated)\n",
    "\n",
    "x_punto_integrated_interp= cumtrapz(x_puntopunto_interp)\n",
    "x_integrated_interp= cumtrapz(x_punto_integrated_interp)\n",
    "\n",
    "fig = plt.figure()\n",
    "axes = fig.subplots(2,2)\n",
    "axes[0][0].scatter(t2,x,label = 'senial original')\n",
    "axes[0][0].plot(x_integrated,color = 'r',label = 'senial integrada')\n",
    "axes[0][1].scatter(t,x_interp,color = 'g', marker = '.',label = 'senial interpolada')\n",
    "axes[0][1].plot(t[1:-1],x_integrated_interp,color = 'c',label = 'senial interpolada integrada')\n",
    "\n",
    "axes[1][0].plot(x_punto,label = 'x_punto')\n",
    "axes[1][0].plot(x_puntopunto,label = 'x_puntopunto')\n",
    "axes[1][1].plot(t,x_punto_interp,label = 'x_punto interp')\n",
    "axes[1][1].plot(t,x_puntopunto_interp,label = 'x_puntopunto interp')\n",
    "axes[0][0].legend()\n",
    "axes[0][1].legend()\n",
    "axes[1][0].legend()\n",
    "axes[1][1].legend()"
   ]
  },
  {
   "cell_type": "code",
   "execution_count": 36,
   "metadata": {},
   "outputs": [],
   "source": [
    "x = x_interp\n",
    "x_punto = x_punto_interp\n",
    "x_puntopunto = x_puntopunto_interp\n",
    "degree = 10\n",
    "idx = np.arange(1,degree,2)\n",
    "Theta = np.zeros([x.shape[0],degree])\n",
    "Theta[:,0] = np.ones(x.shape[0])\n",
    "Theta[:,1] = x\n",
    "Theta[:,2] = x_punto\n",
    "Theta[:,3] = x*x_punto\n",
    "Theta[:,4] = x_punto**2\n",
    "Theta[:,5] = x**3\n",
    "Theta[:,6] = x**2*x_punto\n",
    "Theta[:,7] = x**2\n",
    "Theta[:,8] = x_punto**3\n",
    "Theta[:,9] = x**4"
   ]
  },
  {
   "cell_type": "markdown",
   "metadata": {},
   "source": [
    "Lasso"
   ]
  },
  {
   "cell_type": "code",
   "execution_count": 37,
   "metadata": {},
   "outputs": [
    {
     "name": "stdout",
     "output_type": "stream",
     "text": [
      "(100000, 10) 100000\n"
     ]
    },
    {
     "name": "stderr",
     "output_type": "stream",
     "text": [
      "/home/lorenzo/anaconda3/lib/python3.7/site-packages/sklearn/linear_model/_coordinate_descent.py:476: ConvergenceWarning: Objective did not converge. You might want to increase the number of iterations. Duality gap: 21.04400919268219, tolerance: 0.13212147197042645\n",
      "  positive)\n"
     ]
    }
   ],
   "source": [
    "from sklearn.linear_model import Lasso\n",
    "from scipy.integrate import odeint\n",
    "classifier = Lasso(alpha=0.0000001,max_iter=100000)\n",
    "classifier.fit(Theta,x_puntopunto)\n",
    "print(Theta.shape,len(x_puntopunto))"
   ]
  },
  {
   "cell_type": "markdown",
   "metadata": {},
   "source": [
    "Vector de coeficientes ($\\eta$)"
   ]
  },
  {
   "cell_type": "code",
   "execution_count": 38,
   "metadata": {},
   "outputs": [
    {
     "name": "stdout",
     "output_type": "stream",
     "text": [
      "[ 0.         -0.05209535  0.34361056  0.28813098 -0.58926565 -0.10090937\n",
      "  0.04591659 -0.16573967 -0.2793489  -0.01342172]\n"
     ]
    }
   ],
   "source": [
    "coef_vector = classifier.coef_\n",
    "print(coef_vector)"
   ]
  },
  {
   "cell_type": "markdown",
   "metadata": {},
   "source": [
    "Ecuaciones diferenciales"
   ]
  },
  {
   "cell_type": "code",
   "execution_count": 39,
   "metadata": {},
   "outputs": [],
   "source": [
    "def f(X,t):\n",
    "    r,rpunto = X\n",
    "    u = np.array([1,r,rpunto,r*rpunto,rpunto**2,r**3,rpunto*r**2,r**2,rpunto**3,r**4])\n",
    "    \n",
    "    drdt = rpunto\n",
    "    drpunto_dt = np.dot(coef_vector,u)\n",
    "    return drdt,drpunto_dt"
   ]
  },
  {
   "cell_type": "markdown",
   "metadata": {},
   "source": [
    "Integramos las ecuaciones y graficamos"
   ]
  },
  {
   "cell_type": "code",
   "execution_count": 40,
   "metadata": {},
   "outputs": [
    {
     "name": "stdout",
     "output_type": "stream",
     "text": [
      "Initial conditions: X =  -0.001  X_punto =  3e-06\n"
     ]
    },
    {
     "data": {
      "application/vnd.jupyter.widget-view+json": {
       "model_id": "bdb427c786b64cfd991f3fc80f22a7f9",
       "version_major": 2,
       "version_minor": 0
      },
      "text/plain": [
       "Canvas(toolbar=Toolbar(toolitems=[('Home', 'Reset original view', 'home', 'home'), ('Back', 'Back to previous …"
      ]
     },
     "metadata": {},
     "output_type": "display_data"
    },
    {
     "data": {
      "text/plain": [
       "[<matplotlib.lines.Line2D at 0x7f2ce4249490>]"
      ]
     },
     "execution_count": 40,
     "metadata": {},
     "output_type": "execute_result"
    }
   ],
   "source": [
    "X0 = (-.001, 0.000003)\n",
    "print('Initial conditions: X = ',X0[0],' X_punto = ',X0[1])\n",
    "t = np.linspace(0,64,10000)\n",
    "t2 = np.linspace(0,64,len(x))\n",
    "tray = odeint(f,X0,t).T\n",
    "\n",
    "fig = plt.figure()\n",
    "\n",
    "plt.plot(t,tray[0])\n",
    "plt.plot(t2,x)\n"
   ]
  },
  {
   "cell_type": "code",
   "execution_count": 41,
   "metadata": {},
   "outputs": [
    {
     "data": {
      "application/vnd.jupyter.widget-view+json": {
       "model_id": "387cd19ca486473a84bd15e31a8f6255",
       "version_major": 2,
       "version_minor": 0
      },
      "text/plain": [
       "Canvas(toolbar=Toolbar(toolitems=[('Home', 'Reset original view', 'home', 'home'), ('Back', 'Back to previous …"
      ]
     },
     "metadata": {},
     "output_type": "display_data"
    }
   ],
   "source": [
    "t = np.linspace(0,1,1000)\n",
    "t2 = np.linspace(150,0,1000)\n",
    "\n",
    "\n",
    "X0 = (x[0],x_punto[0])\n",
    "tray = odeint(f,X0,t2).T\n",
    "\n",
    "X1 = (-.1,.01)\n",
    "tray1 = odeint(f,X1,t2).T\n",
    "\n",
    "X2 = (1,.01)\n",
    "tray2 = odeint(f,X2,t).T\n",
    "\n",
    "X3 = (-.5,.01)\n",
    "tray3 = odeint(f,X3,t2).T\n",
    "\n",
    "\n",
    "\n",
    "plt.figure()\n",
    "plt.plot(tray[0],tray[1])\n",
    "plt.plot(tray1[0],tray1[1])\n",
    "plt.plot(tray2[0],tray2[1])\n",
    "plt.plot(tray3[0],tray3[1])\n",
    "\n",
    "a = tray[:,-1]\n",
    "a2 = tray3[:,-1]\n"
   ]
  },
  {
   "cell_type": "code",
   "execution_count": 34,
   "metadata": {},
   "outputs": [
    {
     "data": {
      "text/plain": [
       "2000"
      ]
     },
     "execution_count": 34,
     "metadata": {},
     "output_type": "execute_result"
    }
   ],
   "source": [
    "np.where(t > 20)[0][0]"
   ]
  },
  {
   "cell_type": "code",
   "execution_count": 35,
   "metadata": {},
   "outputs": [],
   "source": [
    "r = np.linspace(0,100,100)"
   ]
  },
  {
   "cell_type": "code",
   "execution_count": 43,
   "metadata": {},
   "outputs": [
    {
     "ename": "SyntaxError",
     "evalue": "invalid syntax (<ipython-input-43-2121d736330b>, line 3)",
     "output_type": "error",
     "traceback": [
      "\u001b[0;36m  File \u001b[0;32m\"<ipython-input-43-2121d736330b>\"\u001b[0;36m, line \u001b[0;32m3\u001b[0m\n\u001b[0;31m    else\u001b[0m\n\u001b[0m        ^\u001b[0m\n\u001b[0;31mSyntaxError\u001b[0m\u001b[0;31m:\u001b[0m invalid syntax\n"
     ]
    }
   ],
   "source": [
    "if 2 == 1:\n",
    "    print(1)\n",
    "else\n",
    "    print(0)"
   ]
  },
  {
   "cell_type": "code",
   "execution_count": 154,
   "metadata": {},
   "outputs": [
    {
     "data": {
      "text/plain": [
       "array([1.2111341e-07, 1.2111342e-07, 1.2111343e-07])"
      ]
     },
     "execution_count": 154,
     "metadata": {},
     "output_type": "execute_result"
    }
   ],
   "source": [
    "np.linspace(0.00000012111341,0.00000012111343,3)"
   ]
  },
  {
   "cell_type": "code",
   "execution_count": 163,
   "metadata": {},
   "outputs": [
    {
     "data": {
      "text/plain": [
       "array([0.05528352, 0.05528352, 0.05528352])"
      ]
     },
     "execution_count": 163,
     "metadata": {},
     "output_type": "execute_result"
    }
   ],
   "source": [
    "np.linspace(0.055283522234,0.055283522267,3)"
   ]
  },
  {
   "cell_type": "code",
   "execution_count": 184,
   "metadata": {},
   "outputs": [
    {
     "name": "stderr",
     "output_type": "stream",
     "text": [
      "/home/lorenzo/anaconda3/lib/python3.7/site-packages/ipykernel_launcher.py:1: RuntimeWarning: More than 20 figures have been opened. Figures created through the pyplot interface (`matplotlib.pyplot.figure`) are retained until explicitly closed and may consume too much memory. (To control this warning, see the rcParam `figure.max_open_warning`).\n",
      "  \"\"\"Entry point for launching an IPython kernel.\n"
     ]
    },
    {
     "data": {
      "application/vnd.jupyter.widget-view+json": {
       "model_id": "a704f1a08c9a49d48efa0a035f80e63a",
       "version_major": 2,
       "version_minor": 0
      },
      "text/plain": [
       "Canvas(toolbar=Toolbar(toolitems=[('Home', 'Reset original view', 'home', 'home'), ('Back', 'Back to previous …"
      ]
     },
     "metadata": {},
     "output_type": "display_data"
    },
    {
     "data": {
      "text/plain": [
       "[<matplotlib.lines.Line2D at 0x7f2589deafd0>]"
      ]
     },
     "execution_count": 184,
     "metadata": {},
     "output_type": "execute_result"
    }
   ],
   "source": [
    "plt.figure()\n",
    "plt.plot(tray[0])"
   ]
  },
  {
   "cell_type": "code",
   "execution_count": 5,
   "metadata": {},
   "outputs": [
    {
     "ename": "NameError",
     "evalue": "name 'x' is not defined",
     "output_type": "error",
     "traceback": [
      "\u001b[0;31m---------------------------------------------------------------------------\u001b[0m",
      "\u001b[0;31mNameError\u001b[0m                                 Traceback (most recent call last)",
      "\u001b[0;32m<ipython-input-5-6fcf9dfbd479>\u001b[0m in \u001b[0;36m<module>\u001b[0;34m\u001b[0m\n\u001b[0;32m----> 1\u001b[0;31m \u001b[0mx\u001b[0m\u001b[0;34m\u001b[0m\u001b[0;34m\u001b[0m\u001b[0m\n\u001b[0m",
      "\u001b[0;31mNameError\u001b[0m: name 'x' is not defined"
     ]
    }
   ],
   "source": [
    "x"
   ]
  },
  {
   "cell_type": "code",
   "execution_count": 16,
   "metadata": {},
   "outputs": [
    {
     "data": {
      "text/plain": [
       "array([ 0.0000000000000000e+00,  2.5935508590441136e-03,\n",
       "        9.6022084149289255e-03,  2.1252544184269362e-02,\n",
       "        3.0648238038148035e-02,  2.7381735832724796e-02,\n",
       "        6.4839877676904356e-03, -2.4592153784185500e-02,\n",
       "       -4.0548846007054384e-02,  8.8205852338880120e-03,\n",
       "        1.9892364157532877e-01,  6.0294283105162028e-01,\n",
       "        1.2189394446457806e+00,  1.8630714744361188e+00,\n",
       "        2.1241701368289401e+00,  1.5522194279698076e+00,\n",
       "        7.5080680181635329e-02, -1.7669252033385054e+00,\n",
       "       -3.1558615287344036e+00, -3.6182346905861436e+00,\n",
       "       -3.2802194084009808e+00, -2.5958727954484413e+00,\n",
       "       -1.9522785826801294e+00, -1.5000951545197772e+00,\n",
       "       -1.2138171713740713e+00, -1.0204373729797229e+00,\n",
       "       -8.7440478162136648e-01, -7.5981627763626602e-01,\n",
       "       -6.6822842058774956e-01, -5.9160397709649970e-01,\n",
       "       -5.2528085093803711e-01, -4.6623104000660281e-01,\n",
       "       -4.1144403126518747e-01, -3.6072617469637441e-01,\n",
       "       -3.1569153024235136e-01, -2.7445368687148641e-01,\n",
       "       -2.3237585810832756e-01, -1.8818391598247453e-01,\n",
       "       -1.4376388994039052e-01, -9.7876845960482406e-02,\n",
       "       -4.6311363168308778e-02,  9.1594959903807949e-03,\n",
       "        5.7799814987221532e-02,  9.1369039910114747e-02,\n",
       "        1.1308179470323698e-01,  1.2930321790347171e-01,\n",
       "        1.3936642417275036e-01,  1.4000992433734533e-01,\n",
       "        1.3442363488326953e-01,  1.3112281639182521e-01,\n",
       "        1.3484656543413426e-01,  1.4209847646529888e-01,\n",
       "        1.4643054338070499e-01,  1.4426861446064193e-01,\n",
       "        1.3422880144639132e-01,  1.1640422245807436e-01,\n",
       "        9.5459265120881875e-02,  7.9757480567243078e-02,\n",
       "        7.3501124207709934e-02,  7.2229215659493418e-02,\n",
       "        6.8673112699886407e-02,  6.0948704780028395e-02,\n",
       "        5.2633131926740351e-02,  4.6806375835382663e-02])"
      ]
     },
     "execution_count": 16,
     "metadata": {},
     "output_type": "execute_result"
    }
   ],
   "source": [
    "x"
   ]
  },
  {
   "cell_type": "code",
   "execution_count": null,
   "metadata": {},
   "outputs": [],
   "source": []
  }
 ],
 "metadata": {
  "kernelspec": {
   "display_name": "Python 3",
   "language": "python",
   "name": "python3"
  },
  "language_info": {
   "codemirror_mode": {
    "name": "ipython",
    "version": 3
   },
   "file_extension": ".py",
   "mimetype": "text/x-python",
   "name": "python",
   "nbconvert_exporter": "python",
   "pygments_lexer": "ipython3",
   "version": "3.7.6"
  }
 },
 "nbformat": 4,
 "nbformat_minor": 4
}
