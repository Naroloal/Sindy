{
 "cells": [
  {
   "cell_type": "code",
   "execution_count": 1,
   "metadata": {},
   "outputs": [],
   "source": [
    "import pandas as pd\n",
    "%matplotlib widget\n",
    "\n",
    "import copy\n",
    "import matplotlib.pyplot as plt\n",
    "from mpl_toolkits.mplot3d import Axes3D\n",
    "import numpy as np\n",
    "from scipy import cluster\n",
    "from scipy.integrate import cumtrapz,simps\n",
    "import scipy.interpolate\n",
    "from sklearn.cluster import KMeans\n",
    "from scipy.interpolate import UnivariateSpline\n",
    "\n",
    "from Funciones_auxiliares import plot_branch,get_cluster_indexs,plots_hierarchichal_clustering\n",
    "plt.close('all')"
   ]
  },
  {
   "cell_type": "code",
   "execution_count": 2,
   "metadata": {},
   "outputs": [],
   "source": [
    "data = '//home/lorenzo/Principal/Noise-Neuron discriminator/Datos/PCCIBNMZc'\n",
    "data = pd.read_pickle(data)\n",
    "#df = data[data.PatientExperiment.str.contains('HEC032|HEC031|HEC030')]\n",
    "#df.reset_index(inplace = True)\n",
    "Neurons = data[data.bNoise == 0]\n",
    "Neurons.reset_index(inplace = True)"
   ]
  },
  {
   "cell_type": "code",
   "execution_count": 3,
   "metadata": {
    "scrolled": true
   },
   "outputs": [
    {
     "data": {
      "application/vnd.jupyter.widget-view+json": {
       "model_id": "410062794bd54e3188f1e5f87bc1be02",
       "version_major": 2,
       "version_minor": 0
      },
      "text/plain": [
       "Canvas(toolbar=Toolbar(toolitems=[('Home', 'Reset original view', 'home', 'home'), ('Back', 'Back to previous …"
      ]
     },
     "metadata": {},
     "output_type": "display_data"
    },
    {
     "data": {
      "text/plain": [
       "[<matplotlib.lines.Line2D at 0x7ff03c83d590>]"
      ]
     },
     "execution_count": 3,
     "metadata": {},
     "output_type": "execute_result"
    }
   ],
   "source": [
    "'''Ejemplo de media neuronal'''\n",
    "neuron = Neurons.loc[32]\n",
    "plt.plot(neuron.Mean)"
   ]
  },
  {
   "cell_type": "code",
   "execution_count": 4,
   "metadata": {},
   "outputs": [
    {
     "data": {
      "application/vnd.jupyter.widget-view+json": {
       "model_id": "3abd0627684f4835a08b56287fb4ec71",
       "version_major": 2,
       "version_minor": 0
      },
      "text/plain": [
       "Canvas(toolbar=Toolbar(toolitems=[('Home', 'Reset original view', 'home', 'home'), ('Back', 'Back to previous …"
      ]
     },
     "metadata": {},
     "output_type": "display_data"
    }
   ],
   "source": [
    "df = Neurons.copy()\n",
    "fig,axes,fl = plots_hierarchichal_clustering(df)\n"
   ]
  },
  {
   "cell_type": "code",
   "execution_count": 5,
   "metadata": {},
   "outputs": [],
   "source": [
    "Cluster_selected = get_cluster_indexs(5,fl)\n",
    "Emb = Neurons.loc[Cluster_selected]\n",
    "x = np.concatenate(Emb.Mean.values)\n",
    "x = x[0:64]\n",
    "x = (x - np.mean(x))/np.std(x)\n",
    "x = x - x[0]\n"
   ]
  },
  {
   "cell_type": "code",
   "execution_count": 6,
   "metadata": {},
   "outputs": [
    {
     "data": {
      "application/vnd.jupyter.widget-view+json": {
       "model_id": "ece9a05f6ded4fac93b510dec45e5760",
       "version_major": 2,
       "version_minor": 0
      },
      "text/plain": [
       "Canvas(toolbar=Toolbar(toolitems=[('Home', 'Reset original view', 'home', 'home'), ('Back', 'Back to previous …"
      ]
     },
     "metadata": {},
     "output_type": "display_data"
    },
    {
     "data": {
      "text/plain": [
       "<matplotlib.legend.Legend at 0x7ff0403a7390>"
      ]
     },
     "execution_count": 6,
     "metadata": {},
     "output_type": "execute_result"
    }
   ],
   "source": [
    "\n",
    "t = np.linspace(0,len(x) - 1.0001,10000)\n",
    "t2 = np.arange(len(x))\n",
    "x_interp = UnivariateSpline(t2,x,s = 0)\n",
    "x_punto_interp = x_interp.derivative()\n",
    "x_puntopunto_interp = x_interp.derivative(2)\n",
    "\n",
    "x_interp = x_interp(t)\n",
    "x_punto_interp = x_punto_interp(t)\n",
    "x_puntopunto_interp = x_puntopunto_interp(t)\n",
    "\n",
    "\n",
    "x_punto = np.gradient(x)\n",
    "x_puntopunto = np.gradient(x_punto)\n",
    "\n",
    "\n",
    "x_punto_integrated = cumtrapz(x_puntopunto)\n",
    "x_integrated = cumtrapz(x_punto_integrated)\n",
    "\n",
    "x_punto_integrated_interp= cumtrapz(x_puntopunto_interp)\n",
    "x_integrated_interp= cumtrapz(x_punto_integrated_interp)\n",
    "\n",
    "fig = plt.figure()\n",
    "axes = fig.subplots(2,2)\n",
    "axes[0][0].scatter(t2,x,label = 'senial original')\n",
    "axes[0][0].plot(x_integrated,color = 'r',label = 'senial integrada')\n",
    "axes[0][1].scatter(t,x_interp,color = 'g', marker = '.',label = 'senial interpolada')\n",
    "axes[0][1].plot(t[1:-1],x_integrated_interp,color = 'c',label = 'senial interpolada integrada')\n",
    "\n",
    "axes[1][0].plot(x_punto,label = 'x_punto')\n",
    "axes[1][0].plot(x_puntopunto,label = 'x_puntopunto')\n",
    "axes[1][1].plot(t,x_punto_interp,label = 'x_punto interp')\n",
    "axes[1][1].plot(t,x_puntopunto_interp,label = 'x_puntopunto interp')\n",
    "axes[0][0].legend()\n",
    "axes[0][1].legend()\n",
    "axes[1][0].legend()\n",
    "axes[1][1].legend()"
   ]
  },
  {
   "cell_type": "code",
   "execution_count": 7,
   "metadata": {},
   "outputs": [
    {
     "data": {
      "application/vnd.jupyter.widget-view+json": {
       "model_id": "0c2723439c7c4ffab0e75944c5a0f625",
       "version_major": 2,
       "version_minor": 0
      },
      "text/plain": [
       "Canvas(toolbar=Toolbar(toolitems=[('Home', 'Reset original view', 'home', 'home'), ('Back', 'Back to previous …"
      ]
     },
     "metadata": {},
     "output_type": "display_data"
    },
    {
     "data": {
      "text/plain": [
       "[<matplotlib.lines.Line2D at 0x7ff038728c10>]"
      ]
     },
     "execution_count": 7,
     "metadata": {},
     "output_type": "execute_result"
    }
   ],
   "source": [
    "fig = plt.figure()\n",
    "#ax = fig.gca(projection = '3d')\n",
    "#ax.plot(x_interp,x_punto_interp)\n",
    "#ax.set_xlabel('x')\n",
    "#ax.set_y\n",
    "#label('$\\dot{x}$')\n",
    "plt.plot(x_interp,x_punto_interp)\n"
   ]
  },
  {
   "cell_type": "code",
   "execution_count": 8,
   "metadata": {
    "scrolled": true
   },
   "outputs": [
    {
     "data": {
      "text/html": [
       "<div>\n",
       "<style scoped>\n",
       "    .dataframe tbody tr th:only-of-type {\n",
       "        vertical-align: middle;\n",
       "    }\n",
       "\n",
       "    .dataframe tbody tr th {\n",
       "        vertical-align: top;\n",
       "    }\n",
       "\n",
       "    .dataframe thead th {\n",
       "        text-align: right;\n",
       "    }\n",
       "</style>\n",
       "<table border=\"1\" class=\"dataframe\">\n",
       "  <thead>\n",
       "    <tr style=\"text-align: right;\">\n",
       "      <th></th>\n",
       "      <th>index</th>\n",
       "      <th>PatientExperiment</th>\n",
       "      <th>Channel</th>\n",
       "      <th>Cluster</th>\n",
       "      <th>ISI</th>\n",
       "      <th>Bulk</th>\n",
       "      <th>bNoise</th>\n",
       "      <th>Mean</th>\n",
       "      <th>ZeroCrossings</th>\n",
       "    </tr>\n",
       "  </thead>\n",
       "  <tbody>\n",
       "    <tr>\n",
       "      <th>0</th>\n",
       "      <td>3</td>\n",
       "      <td>HEC016\\016context1\\016context1</td>\n",
       "      <td>1</td>\n",
       "      <td>2</td>\n",
       "      <td>[0, 0, 0, 0, 0, 0, 0, 0, 0, 0, 0, 0, 0, 0, 0, ...</td>\n",
       "      <td>[[-9.910404058695178, -10.706527972656263, -13...</td>\n",
       "      <td>0</td>\n",
       "      <td>[5.549115009633331, 6.0470913803953605, 5.9916...</td>\n",
       "      <td>2</td>\n",
       "    </tr>\n",
       "    <tr>\n",
       "      <th>1</th>\n",
       "      <td>12</td>\n",
       "      <td>HEC016\\016context1\\016context1</td>\n",
       "      <td>2</td>\n",
       "      <td>2</td>\n",
       "      <td>[0, 0, 1, 0, 0, 2, 0, 1, 1, 3, 2, 1, 3, 1, 2, ...</td>\n",
       "      <td>[[13.198738217761697, 11.760198708498171, 8.78...</td>\n",
       "      <td>0</td>\n",
       "      <td>[13.243695374870788, 13.079745522544341, 12.71...</td>\n",
       "      <td>2</td>\n",
       "    </tr>\n",
       "    <tr>\n",
       "      <th>2</th>\n",
       "      <td>34</td>\n",
       "      <td>HEC017\\017context2\\017context2_prescr</td>\n",
       "      <td>113</td>\n",
       "      <td>2</td>\n",
       "      <td>[0, 3, 1, 1, 0, 0, 0, 1, 0, 0, 0, 0, 1, 0, 1, ...</td>\n",
       "      <td>[[18.892933610485304, 15.485716617075768, 8.32...</td>\n",
       "      <td>0</td>\n",
       "      <td>[6.993260836407021, 6.865110211253, 6.51757150...</td>\n",
       "      <td>2</td>\n",
       "    </tr>\n",
       "    <tr>\n",
       "      <th>3</th>\n",
       "      <td>35</td>\n",
       "      <td>HEC017\\017context2\\017context2_prescr</td>\n",
       "      <td>113</td>\n",
       "      <td>3</td>\n",
       "      <td>[0, 0, 0, 0, 0, 1, 0, 1, 0, 0, 0, 0, 0, 0, 0, ...</td>\n",
       "      <td>[[8.607666061103055, 4.40269092990618, 2.82740...</td>\n",
       "      <td>0</td>\n",
       "      <td>[2.722673147546738, 2.3590640477204063, 2.0802...</td>\n",
       "      <td>6</td>\n",
       "    </tr>\n",
       "    <tr>\n",
       "      <th>4</th>\n",
       "      <td>47</td>\n",
       "      <td>HEC017\\017context2\\017context2_prescr</td>\n",
       "      <td>118</td>\n",
       "      <td>3</td>\n",
       "      <td>[0, 4, 1, 0, 2, 0, 0, 0, 0, 0, 0, 1, 0, 0, 0, ...</td>\n",
       "      <td>[[5.702971353263122, 5.288244296823778, 3.4659...</td>\n",
       "      <td>0</td>\n",
       "      <td>[4.340277642514026, 4.058565844662801, 3.92196...</td>\n",
       "      <td>2</td>\n",
       "    </tr>\n",
       "  </tbody>\n",
       "</table>\n",
       "</div>"
      ],
      "text/plain": [
       "   index                      PatientExperiment Channel Cluster  \\\n",
       "0      3         HEC016\\016context1\\016context1       1       2   \n",
       "1     12         HEC016\\016context1\\016context1       2       2   \n",
       "2     34  HEC017\\017context2\\017context2_prescr     113       2   \n",
       "3     35  HEC017\\017context2\\017context2_prescr     113       3   \n",
       "4     47  HEC017\\017context2\\017context2_prescr     118       3   \n",
       "\n",
       "                                                 ISI  \\\n",
       "0  [0, 0, 0, 0, 0, 0, 0, 0, 0, 0, 0, 0, 0, 0, 0, ...   \n",
       "1  [0, 0, 1, 0, 0, 2, 0, 1, 1, 3, 2, 1, 3, 1, 2, ...   \n",
       "2  [0, 3, 1, 1, 0, 0, 0, 1, 0, 0, 0, 0, 1, 0, 1, ...   \n",
       "3  [0, 0, 0, 0, 0, 1, 0, 1, 0, 0, 0, 0, 0, 0, 0, ...   \n",
       "4  [0, 4, 1, 0, 2, 0, 0, 0, 0, 0, 0, 1, 0, 0, 0, ...   \n",
       "\n",
       "                                                Bulk bNoise  \\\n",
       "0  [[-9.910404058695178, -10.706527972656263, -13...      0   \n",
       "1  [[13.198738217761697, 11.760198708498171, 8.78...      0   \n",
       "2  [[18.892933610485304, 15.485716617075768, 8.32...      0   \n",
       "3  [[8.607666061103055, 4.40269092990618, 2.82740...      0   \n",
       "4  [[5.702971353263122, 5.288244296823778, 3.4659...      0   \n",
       "\n",
       "                                                Mean  ZeroCrossings  \n",
       "0  [5.549115009633331, 6.0470913803953605, 5.9916...              2  \n",
       "1  [13.243695374870788, 13.079745522544341, 12.71...              2  \n",
       "2  [6.993260836407021, 6.865110211253, 6.51757150...              2  \n",
       "3  [2.722673147546738, 2.3590640477204063, 2.0802...              6  \n",
       "4  [4.340277642514026, 4.058565844662801, 3.92196...              2  "
      ]
     },
     "execution_count": 8,
     "metadata": {},
     "output_type": "execute_result"
    }
   ],
   "source": [
    "Neurons.head()"
   ]
  },
  {
   "cell_type": "markdown",
   "metadata": {},
   "source": [
    "# Sindy"
   ]
  },
  {
   "cell_type": "markdown",
   "metadata": {},
   "source": [
    "Definimos Theta"
   ]
  },
  {
   "cell_type": "code",
   "execution_count": 9,
   "metadata": {},
   "outputs": [],
   "source": [
    "x = x_interp\n",
    "x_punto = x_punto_interp\n",
    "x_puntopunto = x_puntopunto_interp\n",
    "degree = 10\n",
    "idx = np.arange(1,degree,2)\n",
    "Theta = np.zeros([x.shape[0],degree])\n",
    "Theta[:,0] = np.ones(x.shape[0])\n",
    "Theta[:,1] = x\n",
    "Theta[:,2] = x_punto\n",
    "Theta[:,3] = x*x_punto\n",
    "Theta[:,4] = x_punto**2\n",
    "Theta[:,5] = x**3\n",
    "Theta[:,6] = x**2*x_punto\n",
    "Theta[:,7] = x**2\n",
    "Theta[:,8] = x_punto**3\n",
    "Theta[:,9] = x**4"
   ]
  },
  {
   "cell_type": "markdown",
   "metadata": {},
   "source": [
    "Lasso"
   ]
  },
  {
   "cell_type": "code",
   "execution_count": 10,
   "metadata": {},
   "outputs": [
    {
     "name": "stdout",
     "output_type": "stream",
     "text": [
      "(10000, 10) 10000\n"
     ]
    }
   ],
   "source": [
    "from sklearn.linear_model import Lasso\n",
    "from scipy.integrate import odeint\n",
    "\n",
    "classifier = Lasso(alpha=0.000000000001,max_iter=1000000)\n",
    "classifier.fit(Theta,x_puntopunto)\n",
    "print(Theta.shape,len(x_puntopunto))"
   ]
  },
  {
   "cell_type": "markdown",
   "metadata": {},
   "source": [
    "Vector de coeficientes ($\\eta$)"
   ]
  },
  {
   "cell_type": "code",
   "execution_count": 105,
   "metadata": {},
   "outputs": [
    {
     "name": "stdout",
     "output_type": "stream",
     "text": [
      "[ 0.          0.04257972  0.29132122  0.20846416 -0.13324995 -0.05847057\n",
      " -0.01316826 -0.06451597 -0.11427324 -0.00517077]\n"
     ]
    }
   ],
   "source": [
    "coef_vector = copy.copy(classifier.coef_)\n",
    "print(coef_vector)"
   ]
  },
  {
   "cell_type": "markdown",
   "metadata": {},
   "source": [
    "Ecuaciones diferenciales"
   ]
  },
  {
   "cell_type": "code",
   "execution_count": 12,
   "metadata": {},
   "outputs": [],
   "source": [
    "def f(X,t):\n",
    "    r,rpunto = X\n",
    "    u = np.array([1,r,rpunto,r*rpunto,rpunto**2,r**3,rpunto*r**2,r**2,rpunto**3,r**4])\n",
    "    \n",
    "    drdt = rpunto\n",
    "    drpunto_dt = np.dot(coef_vector,u)\n",
    "    return drdt,drpunto_dt"
   ]
  },
  {
   "cell_type": "markdown",
   "metadata": {},
   "source": [
    "Integramos las ecuaciones y graficamos"
   ]
  },
  {
   "cell_type": "code",
   "execution_count": 13,
   "metadata": {},
   "outputs": [
    {
     "name": "stdout",
     "output_type": "stream",
     "text": [
      "Initial conditions: X =  1.3447872870528276e-20  X_punto =  0.0009942504213135525\n"
     ]
    },
    {
     "data": {
      "application/vnd.jupyter.widget-view+json": {
       "model_id": "e5f0b4348cba44ee9cc3b994ea07eed9",
       "version_major": 2,
       "version_minor": 0
      },
      "text/plain": [
       "Canvas(toolbar=Toolbar(toolitems=[('Home', 'Reset original view', 'home', 'home'), ('Back', 'Back to previous …"
      ]
     },
     "metadata": {},
     "output_type": "display_data"
    },
    {
     "data": {
      "text/plain": [
       "[<matplotlib.lines.Line2D at 0x7ff038737110>]"
      ]
     },
     "execution_count": 13,
     "metadata": {},
     "output_type": "execute_result"
    }
   ],
   "source": [
    "X0 = (x[0],x_punto[0])\n",
    "print('Initial conditions: X = ',X0[0],' X_punto = ',X0[1])\n",
    "t = np.linspace(0,64,100000)\n",
    "t2 = np.linspace(0,64,len(x))\n",
    "tray = odeint(f,X0,t).T\n",
    "\n",
    "fig = plt.figure()\n",
    "\n",
    "plt.plot(t,tray[0])\n",
    "plt.plot(t2,x)\n"
   ]
  },
  {
   "cell_type": "code",
   "execution_count": 14,
   "metadata": {},
   "outputs": [
    {
     "data": {
      "application/vnd.jupyter.widget-view+json": {
       "model_id": "a4075632a0e7480c9392ba9338b085f9",
       "version_major": 2,
       "version_minor": 0
      },
      "text/plain": [
       "Canvas(toolbar=Toolbar(toolitems=[('Home', 'Reset original view', 'home', 'home'), ('Back', 'Back to previous …"
      ]
     },
     "metadata": {},
     "output_type": "display_data"
    }
   ],
   "source": [
    "t = np.linspace(0,64,100000)\n",
    "t2 = np.linspace(64,0,1000)\n",
    "\n",
    "X0 = (0,.010)\n",
    "tray = odeint(f,X0,t).T\n",
    "\n",
    "X1 = (-1,.01)\n",
    "tray1 = odeint(f,X1,t).T\n",
    "\n",
    "X2 = (.1,.01)\n",
    "tray2 = odeint(f,X2,t).T\n",
    "\n",
    "X3 = (.2,.01)\n",
    "tray3 = odeint(f,X3,t).T\n",
    "\n",
    "X4 = 0.,.01\n",
    "tray4 = odeint(f,X4,t2).T\n",
    "\n",
    "plt.figure()\n",
    "plt.plot(tray[0],tray[1])\n",
    "plt.plot(tray1[0],tray1[1])\n",
    "plt.plot(tray2[0],tray2[1])\n",
    "plt.plot(tray3[0],tray3[1])\n",
    "plt.plot(tray4[0],tray4[1])\n",
    "\n",
    "a = tray4[:,-1]\n"
   ]
  },
  {
   "cell_type": "code",
   "execution_count": 15,
   "metadata": {},
   "outputs": [
    {
     "data": {
      "application/vnd.jupyter.widget-view+json": {
       "model_id": "ae906660431b4471a4a4c61788847b23",
       "version_major": 2,
       "version_minor": 0
      },
      "text/plain": [
       "Canvas(toolbar=Toolbar(toolitems=[('Home', 'Reset original view', 'home', 'home'), ('Back', 'Back to previous …"
      ]
     },
     "metadata": {},
     "output_type": "display_data"
    },
    {
     "data": {
      "text/plain": [
       "<matplotlib.collections.PathCollection at 0x7ff038514290>"
      ]
     },
     "execution_count": 15,
     "metadata": {},
     "output_type": "execute_result"
    }
   ],
   "source": [
    "coef_vector = copy.copy(classifier.coef_)\n",
    "#coef_vector[2] = .28\n",
    "#coef_vector[1] = 0.043\n",
    "#coef_vector[3] = .235\n",
    "#coef_vector[8] = -.1\n",
    "t = np.linspace(0,100,10000)\n",
    "cross = (-0.03,0.056)\n",
    "ic = [cross + 0.00*(np.random.random(2) - 1/2) for i in range(1)]\n",
    "plt.close('all')\n",
    "plt.figure(90,figsize = (10,10))\n",
    "for i in ic:\n",
    "    tray = odeint(f,i,t).T\n",
    "    plt.plot(tray[0],tray[1])\n",
    "plt.plot(x,x_punto,'red')\n",
    "plt.scatter(cross[0],cross[1],color = 'red')\n"
   ]
  },
  {
   "cell_type": "code",
   "execution_count": 109,
   "metadata": {},
   "outputs": [
    {
     "name": "stderr",
     "output_type": "stream",
     "text": [
      "/home/lorenzo/anaconda3/lib/python3.7/site-packages/ipykernel_launcher.py:4: RuntimeWarning: More than 20 figures have been opened. Figures created through the pyplot interface (`matplotlib.pyplot.figure`) are retained until explicitly closed and may consume too much memory. (To control this warning, see the rcParam `figure.max_open_warning`).\n",
      "  after removing the cwd from sys.path.\n"
     ]
    },
    {
     "data": {
      "application/vnd.jupyter.widget-view+json": {
       "model_id": "7ee6c826ccff4e64a83ae4071a6f6a27",
       "version_major": 2,
       "version_minor": 0
      },
      "text/plain": [
       "Canvas(toolbar=Toolbar(toolitems=[('Home', 'Reset original view', 'home', 'home'), ('Back', 'Back to previous …"
      ]
     },
     "metadata": {},
     "output_type": "display_data"
    },
    {
     "data": {
      "text/plain": [
       "(-0.03, 0.056)"
      ]
     },
     "execution_count": 109,
     "metadata": {},
     "output_type": "execute_result"
    }
   ],
   "source": [
    "cross = (-0.03, 0.056)\n",
    "t = np.linspace(0,64,10000)\n",
    "coef_vector = copy.copy(classifier.coef_)\n",
    "plt.figure(figsize = (10,10))\n",
    "#Movemos mu1\n",
    "mu1_list = np.linspace(0.055283522241592,0.055283522241593,10)\n",
    "for mu1 in mu1_list:\n",
    "    coef_vector[1] = mu1\n",
    "    tray = odeint(f,cross,t).T\n",
    "    plt.plot(t,tray[0],label = '$\\mu$ = {}'.format(mu1))\n",
    "plt.plot(t,x)\n",
    "plt.legend()\n",
    "cross"
   ]
  },
  {
   "cell_type": "code",
   "execution_count": 107,
   "metadata": {},
   "outputs": [
    {
     "name": "stderr",
     "output_type": "stream",
     "text": [
      "/home/lorenzo/anaconda3/lib/python3.7/site-packages/ipykernel_launcher.py:3: RuntimeWarning: More than 20 figures have been opened. Figures created through the pyplot interface (`matplotlib.pyplot.figure`) are retained until explicitly closed and may consume too much memory. (To control this warning, see the rcParam `figure.max_open_warning`).\n",
      "  This is separate from the ipykernel package so we can avoid doing imports until\n"
     ]
    },
    {
     "data": {
      "application/vnd.jupyter.widget-view+json": {
       "model_id": "c22d428533804611917c1a0969feab01",
       "version_major": 2,
       "version_minor": 0
      },
      "text/plain": [
       "Canvas(toolbar=Toolbar(toolitems=[('Home', 'Reset original view', 'home', 'home'), ('Back', 'Back to previous …"
      ]
     },
     "metadata": {},
     "output_type": "display_data"
    },
    {
     "data": {
      "text/plain": [
       "(-0.03, 0.056)"
      ]
     },
     "execution_count": 107,
     "metadata": {},
     "output_type": "execute_result"
    }
   ],
   "source": [
    "cross = (-0.03, 0.056)\n",
    "t = np.linspace(0,64,10000)\n",
    "plt.figure(figsize = (15,15))\n",
    "coef_vector = copy.copy(classifier.coef_)\n",
    "#Movemos mu2 con mu1 = 0.55\n",
    "coef_vector2[1] = 0.055283522241592\n",
    "mu2_list = np.linspace(0.29099293808833,0.3,5)\n",
    "for mu2 in mu2_list:\n",
    "    coef_vector[2] = mu2\n",
    "    tray = odeint(f,cross,t).T\n",
    "    plt.plot(t,tray[0],label = '$\\mu$ = {}'.format(mu2))\n",
    "plt.plot(t,x)\n",
    "plt.legend()\n",
    "cross"
   ]
  },
  {
   "cell_type": "code",
   "execution_count": 99,
   "metadata": {},
   "outputs": [
    {
     "name": "stderr",
     "output_type": "stream",
     "text": [
      "/home/lorenzo/anaconda3/lib/python3.7/site-packages/ipykernel_launcher.py:3: RuntimeWarning: More than 20 figures have been opened. Figures created through the pyplot interface (`matplotlib.pyplot.figure`) are retained until explicitly closed and may consume too much memory. (To control this warning, see the rcParam `figure.max_open_warning`).\n",
      "  This is separate from the ipykernel package so we can avoid doing imports until\n"
     ]
    },
    {
     "data": {
      "application/vnd.jupyter.widget-view+json": {
       "model_id": "70d20f3a48994477a9e65f21d07ff0d5",
       "version_major": 2,
       "version_minor": 0
      },
      "text/plain": [
       "Canvas(toolbar=Toolbar(toolitems=[('Home', 'Reset original view', 'home', 'home'), ('Back', 'Back to previous …"
      ]
     },
     "metadata": {},
     "output_type": "display_data"
    },
    {
     "data": {
      "text/plain": [
       "(-0.03, 0.056)"
      ]
     },
     "execution_count": 99,
     "metadata": {},
     "output_type": "execute_result"
    }
   ],
   "source": [
    "cross = (-0.03, 0.056)\n",
    "t = np.linspace(0,64,10000)\n",
    "plt.figure(figsize = (15,15))\n",
    "#Movemos mu2 con mu1 = 0.55,mu2 = 0.291\n",
    "coef_vector[1] = .055\n",
    "coef_vector[2] = 0.29099293808847\n",
    "mu3_list = np.linspace(0.207,0.209,10)\n",
    "for mu3 in mu3_list:\n",
    "    coef_vector[3] = mu3\n",
    "    tray = odeint(f,cross,t).T\n",
    "    plt.plot(t,tray[0],label = '$\\mu$ = {}'.format(mu3))\n",
    "plt.plot(t,x)\n",
    "plt.legend()\n",
    "cross"
   ]
  },
  {
   "cell_type": "code",
   "execution_count": 23,
   "metadata": {},
   "outputs": [
    {
     "data": {
      "application/vnd.jupyter.widget-view+json": {
       "model_id": "115bcb8319fb4841a0b6422194432f26",
       "version_major": 2,
       "version_minor": 0
      },
      "text/plain": [
       "Canvas(toolbar=Toolbar(toolitems=[('Home', 'Reset original view', 'home', 'home'), ('Back', 'Back to previous …"
      ]
     },
     "metadata": {},
     "output_type": "display_data"
    },
    {
     "data": {
      "text/plain": [
       "(-0.03, 0.056)"
      ]
     },
     "execution_count": 23,
     "metadata": {},
     "output_type": "execute_result"
    }
   ],
   "source": [
    "cross = (-0.03, 0.056)\n",
    "t = np.linspace(0,100,10000)\n",
    "plt.figure(figsize = (15,15))\n",
    "#Movemos mu2 con mu1 = 0.55,mu2 = 0.291,mu3 = 0.2083\n",
    "coef_vector[1] = .055\n",
    "coef_vector[2] = .291\n",
    "coef_vector[3] = 0.2083\n",
    "mu4_list = np.linspace(-0.141,-0.144,10)\n",
    "for mu4 in mu4_list:\n",
    "    coef_vector[4] = mu4\n",
    "    tray = odeint(f,cross,t).T\n",
    "    plt.plot(t,tray[0],label = '$\\mu$ = {}'.format(mu4))\n",
    "plt.plot(t,x)\n",
    "plt.legend()\n",
    "cross"
   ]
  },
  {
   "cell_type": "code",
   "execution_count": 20,
   "metadata": {},
   "outputs": [
    {
     "data": {
      "application/vnd.jupyter.widget-view+json": {
       "model_id": "ff53b04c03ee47a68f86f29a04069088",
       "version_major": 2,
       "version_minor": 0
      },
      "text/plain": [
       "Canvas(toolbar=Toolbar(toolitems=[('Home', 'Reset original view', 'home', 'home'), ('Back', 'Back to previous …"
      ]
     },
     "metadata": {},
     "output_type": "display_data"
    },
    {
     "data": {
      "text/plain": [
       "(-0.03, 0.056)"
      ]
     },
     "execution_count": 20,
     "metadata": {},
     "output_type": "execute_result"
    }
   ],
   "source": [
    "cross = (-0.03, 0.056)\n",
    "t = np.linspace(0,100,10000)\n",
    "plt.figure(figsize = (15,15))\n",
    "#Movemos mu2 con mu1 = 0.55,mu2 = 0.291,mu3 = 0.2083,mu4 = -0.16\n",
    "coef_vector[1] = .055\n",
    "coef_vector[2] = .291\n",
    "coef_vector[3] = 0.2083\n",
    "coef_vector[4] = -0.1413\n",
    "\n",
    "mu5_list = np.linspace(-0.05848,-0.05847,10)\n",
    "for mu5 in mu5_list:\n",
    "    coef_vector[5] = mu5\n",
    "    tray = odeint(f,cross,t).T\n",
    "    plt.plot(t,tray[0],label = '$\\mu$ = {}'.format(mu5))\n",
    "plt.plot(t,x)\n",
    "plt.legend()\n",
    "cross"
   ]
  },
  {
   "cell_type": "code",
   "execution_count": 21,
   "metadata": {},
   "outputs": [
    {
     "data": {
      "application/vnd.jupyter.widget-view+json": {
       "model_id": "baa7ae120bc9471e84aaaec953518d8b",
       "version_major": 2,
       "version_minor": 0
      },
      "text/plain": [
       "Canvas(toolbar=Toolbar(toolitems=[('Home', 'Reset original view', 'home', 'home'), ('Back', 'Back to previous …"
      ]
     },
     "metadata": {},
     "output_type": "display_data"
    },
    {
     "data": {
      "text/plain": [
       "(-0.03, 0.056)"
      ]
     },
     "execution_count": 21,
     "metadata": {},
     "output_type": "execute_result"
    }
   ],
   "source": [
    "cross = (-0.03, 0.056)\n",
    "t = np.linspace(0,64,10000)\n",
    "plt.figure(figsize = (15,15))\n",
    "#Movemos mu2 con mu1 = 0.55,mu2 = 0.291,mu3 = 0.2083,mu4 = -0.16,mu5 = -0.058477\n",
    "coef_vector[1] = .055\n",
    "coef_vector[2] = .291\n",
    "coef_vector[3] = 0.2083\n",
    "coef_vector[4] = -0.1413\n",
    "coef_vector[5] = -0.058477\n",
    "mu6_list = np.linspace(-0.01317,-0.013166,10)\n",
    "for mu6 in mu6_list:\n",
    "    coef_vector[6] = mu6\n",
    "    tray = odeint(f,cross,t).T\n",
    "    plt.plot(t,tray[0],label = '$\\mu$ = {}'.format(mu6))\n",
    "plt.plot(t,x)\n",
    "plt.legend()\n",
    "cross"
   ]
  },
  {
   "cell_type": "code",
   "execution_count": 22,
   "metadata": {},
   "outputs": [
    {
     "data": {
      "application/vnd.jupyter.widget-view+json": {
       "model_id": "539844e8afd84f7fbec712f2bdc50ca7",
       "version_major": 2,
       "version_minor": 0
      },
      "text/plain": [
       "Canvas(toolbar=Toolbar(toolitems=[('Home', 'Reset original view', 'home', 'home'), ('Back', 'Back to previous …"
      ]
     },
     "metadata": {},
     "output_type": "display_data"
    },
    {
     "data": {
      "text/plain": [
       "(-0.03, 0.056)"
      ]
     },
     "execution_count": 22,
     "metadata": {},
     "output_type": "execute_result"
    }
   ],
   "source": [
    "cross = (-0.03, 0.056)\n",
    "t = np.linspace(0,64,10000)\n",
    "plt.figure(figsize = (15,15))\n",
    "#Movemos mu2 con mu1 = 0.55,mu2 = 0.291,mu3 = 0.2083,mu4 = -0.16,mu5 = -0.058477,mu6 = -0.013169\n",
    "coef_vector[1] = .055\n",
    "coef_vector[2] = .291\n",
    "coef_vector[3] = 0.2083\n",
    "coef_vector[4] = -0.1413\n",
    "coef_vector[5] = -0.058477\n",
    "coef_vector[6] = -0.013169\n",
    "mu7_list = np.linspace(-0.0645167,-0.06451,10)\n",
    "for mu7 in mu7_list:\n",
    "    coef_vector[7] = mu7\n",
    "    tray = odeint(f,cross,t).T\n",
    "    plt.plot(t,tray[0],label = '$\\mu$ = {}'.format(mu7))\n",
    "plt.plot(t,x)\n",
    "plt.legend()\n",
    "cross"
   ]
  },
  {
   "cell_type": "code",
   "execution_count": 385,
   "metadata": {},
   "outputs": [
    {
     "name": "stderr",
     "output_type": "stream",
     "text": [
      "/home/lorenzo/anaconda3/lib/python3.7/site-packages/ipykernel_launcher.py:1: RuntimeWarning: More than 20 figures have been opened. Figures created through the pyplot interface (`matplotlib.pyplot.figure`) are retained until explicitly closed and may consume too much memory. (To control this warning, see the rcParam `figure.max_open_warning`).\n",
      "  \"\"\"Entry point for launching an IPython kernel.\n"
     ]
    },
    {
     "data": {
      "application/vnd.jupyter.widget-view+json": {
       "model_id": "ec0fe58072994b16a42e92e4ee4e47c5",
       "version_major": 2,
       "version_minor": 0
      },
      "text/plain": [
       "Canvas(toolbar=Toolbar(toolitems=[('Home', 'Reset original view', 'home', 'home'), ('Back', 'Back to previous …"
      ]
     },
     "metadata": {},
     "output_type": "display_data"
    },
    {
     "data": {
      "text/plain": [
       "[<matplotlib.lines.Line2D at 0x7f53d5b80b50>]"
      ]
     },
     "execution_count": 385,
     "metadata": {},
     "output_type": "execute_result"
    }
   ],
   "source": [
    "plt.figure()\n",
    "plt.plot(x,x_punto)\n",
    "plt.plot(tray[0],tray[1])"
   ]
  },
  {
   "cell_type": "code",
   "execution_count": 18,
   "metadata": {},
   "outputs": [],
   "source": [
    "x = x_interp\n",
    "x_punto = x_punto_interp\n",
    "x_puntopunto = x_puntopunto_interp\n",
    "degree = 7\n",
    "idx = np.arange(1,degree,2)\n",
    "Theta = np.zeros([x.shape[0],degree])\n",
    "Theta[:,0] = np.ones(x.shape[0])\n",
    "Theta[:,1] = x\n",
    "Theta[:,2] = x_punto\n",
    "Theta[:,3] = x*x_punto\n",
    "Theta[:,4] = x_punto**2\n",
    "Theta[:,5] = x**3\n",
    "Theta[:,6] = x**2*x_punto"
   ]
  },
  {
   "cell_type": "code",
   "execution_count": 19,
   "metadata": {},
   "outputs": [
    {
     "name": "stdout",
     "output_type": "stream",
     "text": [
      "(10000, 7) 10000\n"
     ]
    }
   ],
   "source": [
    "classifier = Lasso(alpha=0.000000001,max_iter=10000000)\n",
    "classifier.fit(Theta,x_puntopunto)\n",
    "print(Theta.shape,len(x_puntopunto))"
   ]
  },
  {
   "cell_type": "code",
   "execution_count": 20,
   "metadata": {},
   "outputs": [
    {
     "name": "stdout",
     "output_type": "stream",
     "text": [
      "[ 0.         -0.09843611 -0.11180471  0.29717996 -0.18435317 -0.01180283\n",
      "  0.04806139]\n"
     ]
    }
   ],
   "source": [
    "coef_vector = classifier.coef_\n",
    "print(coef_vector)"
   ]
  },
  {
   "cell_type": "code",
   "execution_count": 21,
   "metadata": {},
   "outputs": [],
   "source": [
    "def f(X,t):\n",
    "    r,rpunto = X\n",
    "    u = np.array([1,r,rpunto,r*rpunto,rpunto**2,r**3,rpunto*r**2])\n",
    "    \n",
    "    drdt = rpunto\n",
    "    drpunto_dt = np.dot(coef_vector,u)\n",
    "    return drdt,drpunto_dt"
   ]
  },
  {
   "cell_type": "code",
   "execution_count": 22,
   "metadata": {},
   "outputs": [
    {
     "name": "stdout",
     "output_type": "stream",
     "text": [
      "Initial conditions: X =  1.3447872870528276e-20  X_punto =  0.0009942504213135525\n"
     ]
    },
    {
     "data": {
      "application/vnd.jupyter.widget-view+json": {
       "model_id": "3a0e10bf531e4a07b10e5c727bcea9c4",
       "version_major": 2,
       "version_minor": 0
      },
      "text/plain": [
       "Canvas(toolbar=Toolbar(toolitems=[('Home', 'Reset original view', 'home', 'home'), ('Back', 'Back to previous …"
      ]
     },
     "metadata": {},
     "output_type": "display_data"
    },
    {
     "data": {
      "text/plain": [
       "[<matplotlib.lines.Line2D at 0x7f2ce7a96ad0>]"
      ]
     },
     "execution_count": 22,
     "metadata": {},
     "output_type": "execute_result"
    }
   ],
   "source": [
    "X0 = (x[0],x_punto[0])\n",
    "print('Initial conditions: X = ',X0[0],' X_punto = ',X0[1])\n",
    "t = np.linspace(0,64,100000)\n",
    "t2 = np.linspace(0,64,len(x))\n",
    "tray = odeint(f,X0,t).T\n",
    "\n",
    "fig = plt.figure()\n",
    "\n",
    "plt.plot(t,tray[0])\n",
    "plt.plot(t2,x)\n"
   ]
  },
  {
   "cell_type": "code",
   "execution_count": null,
   "metadata": {},
   "outputs": [],
   "source": []
  },
  {
   "cell_type": "code",
   "execution_count": 23,
   "metadata": {},
   "outputs": [
    {
     "data": {
      "application/vnd.jupyter.widget-view+json": {
       "model_id": "a919108798dd47bcb4e9f7472119cd49",
       "version_major": 2,
       "version_minor": 0
      },
      "text/plain": [
       "Canvas(toolbar=Toolbar(toolitems=[('Home', 'Reset original view', 'home', 'home'), ('Back', 'Back to previous …"
      ]
     },
     "metadata": {},
     "output_type": "display_data"
    },
    {
     "data": {
      "text/plain": [
       "[<matplotlib.lines.Line2D at 0x7f2ce7a430d0>]"
      ]
     },
     "execution_count": 23,
     "metadata": {},
     "output_type": "execute_result"
    }
   ],
   "source": [
    "t = np.linspace(0,64,10000)\n",
    "t2 = np.linspace(90,0,10000)\n",
    "X0 = (-1.1,.010)\n",
    "tray = odeint(f,X0,t).T\n",
    "\n",
    "X1 = (-1,.01)\n",
    "tray1 = odeint(f,X1,t).T\n",
    "\n",
    "X2 = (-.9,.01)\n",
    "tray2 = odeint(f,X2,t).T\n",
    "\n",
    "X3 = (-2,-1)\n",
    "tray3 = odeint(f,X3,t).T\n",
    "\n",
    "x4 = tray[:,-1]\n",
    "tray4 = odeint(f,x4,t2).T\n",
    "\n",
    "\n",
    "plt.figure()\n",
    "plt.plot(tray[0],tray[1])\n",
    "plt.plot(tray1[0],tray1[1])\n",
    "plt.plot(tray2[0],tray2[1])\n",
    "plt.plot(tray3[0],tray3[1])\n",
    "plt.plot(tray4[0],tray4[1])\n",
    "\n",
    "plt.plot(x,x_punto)"
   ]
  },
  {
   "cell_type": "markdown",
   "metadata": {},
   "source": [
    "# Probemos con otra neurona"
   ]
  },
  {
   "cell_type": "code",
   "execution_count": 24,
   "metadata": {},
   "outputs": [],
   "source": [
    "Cluster_selected = get_cluster_indexs(10,fl)\n",
    "Emb = Neurons.loc[Cluster_selected]\n",
    "x = np.concatenate(Emb.Mean.values)\n",
    "x = x[1:64]\n",
    "x = (x - np.mean(x))/np.std(x)\n",
    "x = x - x[0]\n"
   ]
  },
  {
   "cell_type": "code",
   "execution_count": 25,
   "metadata": {},
   "outputs": [
    {
     "data": {
      "application/vnd.jupyter.widget-view+json": {
       "model_id": "b6957e96eb7f4f15849f140fc3379416",
       "version_major": 2,
       "version_minor": 0
      },
      "text/plain": [
       "Canvas(toolbar=Toolbar(toolitems=[('Home', 'Reset original view', 'home', 'home'), ('Back', 'Back to previous …"
      ]
     },
     "metadata": {},
     "output_type": "display_data"
    },
    {
     "data": {
      "text/plain": [
       "<matplotlib.legend.Legend at 0x7f2ce7889710>"
      ]
     },
     "execution_count": 25,
     "metadata": {},
     "output_type": "execute_result"
    }
   ],
   "source": [
    "\n",
    "t = np.linspace(0,len(x),100000)\n",
    "t2 = np.arange(len(x))\n",
    "x_interp = UnivariateSpline(t2,x,s = 0)\n",
    "x_punto_interp = x_interp.derivative()\n",
    "x_puntopunto_interp = x_interp.derivative(2)\n",
    "\n",
    "x_interp = x_interp(t)\n",
    "x_punto_interp = x_punto_interp(t)\n",
    "x_puntopunto_interp = x_puntopunto_interp(t)\n",
    "\n",
    "\n",
    "x_punto = np.gradient(x)\n",
    "x_puntopunto = np.gradient(x_punto)\n",
    "\n",
    "\n",
    "x_punto_integrated = cumtrapz(x_puntopunto)\n",
    "x_integrated = cumtrapz(x_punto_integrated)\n",
    "\n",
    "x_punto_integrated_interp= cumtrapz(x_puntopunto_interp)\n",
    "x_integrated_interp= cumtrapz(x_punto_integrated_interp)\n",
    "\n",
    "fig = plt.figure()\n",
    "axes = fig.subplots(2,2)\n",
    "axes[0][0].scatter(t2,x,label = 'senial original')\n",
    "axes[0][0].plot(x_integrated,color = 'r',label = 'senial integrada')\n",
    "axes[0][1].scatter(t,x_interp,color = 'g', marker = '.',label = 'senial interpolada')\n",
    "axes[0][1].plot(t[1:-1],x_integrated_interp,color = 'c',label = 'senial interpolada integrada')\n",
    "\n",
    "axes[1][0].plot(x_punto,label = 'x_punto')\n",
    "axes[1][0].plot(x_puntopunto,label = 'x_puntopunto')\n",
    "axes[1][1].plot(t,x_punto_interp,label = 'x_punto interp')\n",
    "axes[1][1].plot(t,x_puntopunto_interp,label = 'x_puntopunto interp')\n",
    "axes[0][0].legend()\n",
    "axes[0][1].legend()\n",
    "axes[1][0].legend()\n",
    "axes[1][1].legend()"
   ]
  },
  {
   "cell_type": "code",
   "execution_count": 26,
   "metadata": {},
   "outputs": [],
   "source": [
    "x = x_interp\n",
    "x_punto = x_punto_interp\n",
    "x_puntopunto = x_puntopunto_interp\n",
    "degree = 10\n",
    "idx = np.arange(1,degree,2)\n",
    "Theta = np.zeros([x.shape[0],degree])\n",
    "Theta[:,0] = np.ones(x.shape[0])\n",
    "Theta[:,1] = x\n",
    "Theta[:,2] = x_punto\n",
    "Theta[:,3] = x*x_punto\n",
    "Theta[:,4] = x_punto**2\n",
    "Theta[:,5] = x**3\n",
    "Theta[:,6] = x**2*x_punto\n",
    "Theta[:,7] = x**2\n",
    "Theta[:,8] = x_punto**3\n",
    "Theta[:,9] = x**4"
   ]
  },
  {
   "cell_type": "markdown",
   "metadata": {},
   "source": [
    "Lasso"
   ]
  },
  {
   "cell_type": "code",
   "execution_count": 27,
   "metadata": {},
   "outputs": [
    {
     "name": "stdout",
     "output_type": "stream",
     "text": [
      "(100000, 10) 100000\n"
     ]
    }
   ],
   "source": [
    "from sklearn.linear_model import Lasso\n",
    "from scipy.integrate import odeint\n",
    "classifier = Lasso(alpha=0.000001,max_iter=1000000)\n",
    "classifier.fit(Theta,x_puntopunto)\n",
    "print(Theta.shape,len(x_puntopunto))"
   ]
  },
  {
   "cell_type": "markdown",
   "metadata": {},
   "source": [
    "Vector de coeficientes ($\\eta$)"
   ]
  },
  {
   "cell_type": "code",
   "execution_count": 28,
   "metadata": {},
   "outputs": [
    {
     "name": "stdout",
     "output_type": "stream",
     "text": [
      "[ 0.          0.05155227  0.44021962  0.07512939 -0.43876236 -0.04946516\n",
      " -0.03408778 -0.0546355  -0.81142663 -0.00512404]\n"
     ]
    }
   ],
   "source": [
    "coef_vector = classifier.coef_\n",
    "print(coef_vector)"
   ]
  },
  {
   "cell_type": "markdown",
   "metadata": {},
   "source": [
    "Ecuaciones diferenciales"
   ]
  },
  {
   "cell_type": "code",
   "execution_count": 29,
   "metadata": {},
   "outputs": [],
   "source": [
    "def f(X,t):\n",
    "    r,rpunto = X\n",
    "    u = np.array([1,r,rpunto,r*rpunto,rpunto**2,r**3,rpunto*r**2,r**2,rpunto**3,r**4])\n",
    "    \n",
    "    drdt = rpunto\n",
    "    drpunto_dt = np.dot(coef_vector,u)\n",
    "    return drdt,drpunto_dt"
   ]
  },
  {
   "cell_type": "markdown",
   "metadata": {},
   "source": [
    "Integramos las ecuaciones y graficamos"
   ]
  },
  {
   "cell_type": "code",
   "execution_count": 30,
   "metadata": {},
   "outputs": [
    {
     "name": "stdout",
     "output_type": "stream",
     "text": [
      "Initial conditions: X =  -2.689574574105655e-19  X_punto =  -0.04288473923798376\n"
     ]
    },
    {
     "data": {
      "application/vnd.jupyter.widget-view+json": {
       "model_id": "9416e03da59f44689ad5fd0b521685e1",
       "version_major": 2,
       "version_minor": 0
      },
      "text/plain": [
       "Canvas(toolbar=Toolbar(toolitems=[('Home', 'Reset original view', 'home', 'home'), ('Back', 'Back to previous …"
      ]
     },
     "metadata": {},
     "output_type": "display_data"
    },
    {
     "data": {
      "text/plain": [
       "[<matplotlib.lines.Line2D at 0x7f2ce78b0450>]"
      ]
     },
     "execution_count": 30,
     "metadata": {},
     "output_type": "execute_result"
    }
   ],
   "source": [
    "X0 = (x[0],x_punto[0])\n",
    "print('Initial conditions: X = ',X0[0],' X_punto = ',X0[1])\n",
    "t = np.linspace(0,64,100000)\n",
    "t2 = np.linspace(0,64,len(x))\n",
    "tray = odeint(f,X0,t).T\n",
    "\n",
    "fig = plt.figure()\n",
    "\n",
    "plt.plot(t,tray[0])\n",
    "plt.plot(t2,x)\n"
   ]
  },
  {
   "cell_type": "code",
   "execution_count": 31,
   "metadata": {},
   "outputs": [
    {
     "data": {
      "application/vnd.jupyter.widget-view+json": {
       "model_id": "ef0a0e2c5a7a4ae48a28b0713f5af2de",
       "version_major": 2,
       "version_minor": 0
      },
      "text/plain": [
       "Canvas(toolbar=Toolbar(toolitems=[('Home', 'Reset original view', 'home', 'home'), ('Back', 'Back to previous …"
      ]
     },
     "metadata": {},
     "output_type": "display_data"
    }
   ],
   "source": [
    "t = np.linspace(0,64,1000)\n",
    "t2 = np.linspace(64,0,1000)\n",
    "\n",
    "t = t2\n",
    "X0 = (x[0],x_punto[0])\n",
    "tray = odeint(f,X0,t).T\n",
    "\n",
    "X1 = (-.1,.01)\n",
    "tray1 = odeint(f,X1,t).T\n",
    "\n",
    "X2 = (1,.01)\n",
    "tray2 = odeint(f,X2,t).T\n",
    "\n",
    "X3 = (-.5,.01)\n",
    "tray3 = odeint(f,X3,t).T\n",
    "\n",
    "\n",
    "\n",
    "plt.figure()\n",
    "plt.plot(tray[0],tray[1])\n",
    "plt.plot(tray1[0],tray1[1])\n",
    "plt.plot(tray2[0],tray2[1])\n",
    "plt.plot(tray3[0],tray3[1])\n",
    "\n",
    "a = tray[:,-1]\n",
    "a2 = tray3[:,-1]\n"
   ]
  },
  {
   "cell_type": "code",
   "execution_count": 32,
   "metadata": {},
   "outputs": [
    {
     "data": {
      "application/vnd.jupyter.widget-view+json": {
       "model_id": "7f3c3668773e40c2a034d373643859e9",
       "version_major": 2,
       "version_minor": 0
      },
      "text/plain": [
       "Canvas(toolbar=Toolbar(toolitems=[('Home', 'Reset original view', 'home', 'home'), ('Back', 'Back to previous …"
      ]
     },
     "metadata": {},
     "output_type": "display_data"
    }
   ],
   "source": [
    "t = np.linspace(0,1000,10000)\n",
    "ic = [a + 0.4*(np.random.random(2) - 1/2) for i in range(10)]\n",
    "plt.close('all')\n",
    "plt.figure(90)\n",
    "for i in ic:\n",
    "    tray = odeint(f,i,t).T\n",
    "    plt.plot(tray[0],tray[1])\n",
    "    \n",
    "t = np.linspace(0,1000,10000)\n",
    "ic = [a2 +.5*(np.random.random(2) - 1/2) for i in range(10)]\n",
    "for i in ic:\n",
    "    tray = odeint(f,i,t).T\n",
    "    plt.plot(tray[0],tray[1])"
   ]
  },
  {
   "cell_type": "markdown",
   "metadata": {},
   "source": [
    "EL foco es un foco repulsor"
   ]
  },
  {
   "cell_type": "code",
   "execution_count": 33,
   "metadata": {},
   "outputs": [
    {
     "data": {
      "application/vnd.jupyter.widget-view+json": {
       "model_id": "d90315055044445588674771dd4e54cb",
       "version_major": 2,
       "version_minor": 0
      },
      "text/plain": [
       "Canvas(toolbar=Toolbar(toolitems=[('Home', 'Reset original view', 'home', 'home'), ('Back', 'Back to previous …"
      ]
     },
     "metadata": {},
     "output_type": "display_data"
    },
    {
     "data": {
      "text/plain": [
       "[<matplotlib.lines.Line2D at 0x7f2ce43cea50>]"
      ]
     },
     "execution_count": 33,
     "metadata": {},
     "output_type": "execute_result"
    }
   ],
   "source": [
    "t = np.linspace(0,100,100000)\n",
    "ic = [a + 0.4*(np.random.random(2) - 1/2) for i in range(1)]\n",
    "plt.close('all')\n",
    "plt.figure(90)\n",
    "for i in ic:\n",
    "    tray = odeint(f,i,t).T\n",
    "    plt.plot(t,tray[0])\n",
    "\n",
    "ic = [a2 +1*(np.random.random(2) - 1/2) for i in range(1)]\n",
    "for i in ic:\n",
    "    tray = odeint(f,i,t).T\n",
    "    plt.plot(t,tray[0])\n",
    "plt.plot(t,x)"
   ]
  },
  {
   "cell_type": "markdown",
   "metadata": {},
   "source": [
    "# Una neurona mas"
   ]
  },
  {
   "cell_type": "code",
   "execution_count": 34,
   "metadata": {},
   "outputs": [],
   "source": [
    "Cluster_selected = get_cluster_indexs(24,fl)\n",
    "Emb = Neurons.loc[Cluster_selected]\n",
    "x = np.concatenate(Emb.Mean.values)\n",
    "x = x[1:64]\n",
    "x = (x - np.mean(x))/np.std(x)\n",
    "x = x - x[0]\n"
   ]
  },
  {
   "cell_type": "code",
   "execution_count": 35,
   "metadata": {},
   "outputs": [
    {
     "data": {
      "application/vnd.jupyter.widget-view+json": {
       "model_id": "b166da0ead9849658e3e864a833b0d14",
       "version_major": 2,
       "version_minor": 0
      },
      "text/plain": [
       "Canvas(toolbar=Toolbar(toolitems=[('Home', 'Reset original view', 'home', 'home'), ('Back', 'Back to previous …"
      ]
     },
     "metadata": {},
     "output_type": "display_data"
    },
    {
     "data": {
      "text/plain": [
       "<matplotlib.legend.Legend at 0x7f2ce4222610>"
      ]
     },
     "execution_count": 35,
     "metadata": {},
     "output_type": "execute_result"
    }
   ],
   "source": [
    "\n",
    "t = np.linspace(0,len(x),100000)\n",
    "t2 = np.arange(len(x))\n",
    "x_interp = UnivariateSpline(t2,x,s = 0)\n",
    "x_punto_interp = x_interp.derivative()\n",
    "x_puntopunto_interp = x_interp.derivative(2)\n",
    "\n",
    "x_interp = x_interp(t)\n",
    "x_punto_interp = x_punto_interp(t)\n",
    "x_puntopunto_interp = x_puntopunto_interp(t)\n",
    "\n",
    "\n",
    "x_punto = np.gradient(x)\n",
    "x_puntopunto = np.gradient(x_punto)\n",
    "\n",
    "\n",
    "x_punto_integrated = cumtrapz(x_puntopunto)\n",
    "x_integrated = cumtrapz(x_punto_integrated)\n",
    "\n",
    "x_punto_integrated_interp= cumtrapz(x_puntopunto_interp)\n",
    "x_integrated_interp= cumtrapz(x_punto_integrated_interp)\n",
    "\n",
    "fig = plt.figure()\n",
    "axes = fig.subplots(2,2)\n",
    "axes[0][0].scatter(t2,x,label = 'senial original')\n",
    "axes[0][0].plot(x_integrated,color = 'r',label = 'senial integrada')\n",
    "axes[0][1].scatter(t,x_interp,color = 'g', marker = '.',label = 'senial interpolada')\n",
    "axes[0][1].plot(t[1:-1],x_integrated_interp,color = 'c',label = 'senial interpolada integrada')\n",
    "\n",
    "axes[1][0].plot(x_punto,label = 'x_punto')\n",
    "axes[1][0].plot(x_puntopunto,label = 'x_puntopunto')\n",
    "axes[1][1].plot(t,x_punto_interp,label = 'x_punto interp')\n",
    "axes[1][1].plot(t,x_puntopunto_interp,label = 'x_puntopunto interp')\n",
    "axes[0][0].legend()\n",
    "axes[0][1].legend()\n",
    "axes[1][0].legend()\n",
    "axes[1][1].legend()"
   ]
  },
  {
   "cell_type": "code",
   "execution_count": 36,
   "metadata": {},
   "outputs": [],
   "source": [
    "x = x_interp\n",
    "x_punto = x_punto_interp\n",
    "x_puntopunto = x_puntopunto_interp\n",
    "degree = 10\n",
    "idx = np.arange(1,degree,2)\n",
    "Theta = np.zeros([x.shape[0],degree])\n",
    "Theta[:,0] = np.ones(x.shape[0])\n",
    "Theta[:,1] = x\n",
    "Theta[:,2] = x_punto\n",
    "Theta[:,3] = x*x_punto\n",
    "Theta[:,4] = x_punto**2\n",
    "Theta[:,5] = x**3\n",
    "Theta[:,6] = x**2*x_punto\n",
    "Theta[:,7] = x**2\n",
    "Theta[:,8] = x_punto**3\n",
    "Theta[:,9] = x**4"
   ]
  },
  {
   "cell_type": "markdown",
   "metadata": {},
   "source": [
    "Lasso"
   ]
  },
  {
   "cell_type": "code",
   "execution_count": 37,
   "metadata": {},
   "outputs": [
    {
     "name": "stdout",
     "output_type": "stream",
     "text": [
      "(100000, 10) 100000\n"
     ]
    },
    {
     "name": "stderr",
     "output_type": "stream",
     "text": [
      "/home/lorenzo/anaconda3/lib/python3.7/site-packages/sklearn/linear_model/_coordinate_descent.py:476: ConvergenceWarning: Objective did not converge. You might want to increase the number of iterations. Duality gap: 21.04400919268219, tolerance: 0.13212147197042645\n",
      "  positive)\n"
     ]
    }
   ],
   "source": [
    "from sklearn.linear_model import Lasso\n",
    "from scipy.integrate import odeint\n",
    "classifier = Lasso(alpha=0.0000001,max_iter=100000)\n",
    "classifier.fit(Theta,x_puntopunto)\n",
    "print(Theta.shape,len(x_puntopunto))"
   ]
  },
  {
   "cell_type": "markdown",
   "metadata": {},
   "source": [
    "Vector de coeficientes ($\\eta$)"
   ]
  },
  {
   "cell_type": "code",
   "execution_count": 38,
   "metadata": {},
   "outputs": [
    {
     "name": "stdout",
     "output_type": "stream",
     "text": [
      "[ 0.         -0.05209535  0.34361056  0.28813098 -0.58926565 -0.10090937\n",
      "  0.04591659 -0.16573967 -0.2793489  -0.01342172]\n"
     ]
    }
   ],
   "source": [
    "coef_vector = classifier.coef_\n",
    "print(coef_vector)"
   ]
  },
  {
   "cell_type": "markdown",
   "metadata": {},
   "source": [
    "Ecuaciones diferenciales"
   ]
  },
  {
   "cell_type": "code",
   "execution_count": 39,
   "metadata": {},
   "outputs": [],
   "source": [
    "def f(X,t):\n",
    "    r,rpunto = X\n",
    "    u = np.array([1,r,rpunto,r*rpunto,rpunto**2,r**3,rpunto*r**2,r**2,rpunto**3,r**4])\n",
    "    \n",
    "    drdt = rpunto\n",
    "    drpunto_dt = np.dot(coef_vector,u)\n",
    "    return drdt,drpunto_dt"
   ]
  },
  {
   "cell_type": "markdown",
   "metadata": {},
   "source": [
    "Integramos las ecuaciones y graficamos"
   ]
  },
  {
   "cell_type": "code",
   "execution_count": 40,
   "metadata": {},
   "outputs": [
    {
     "name": "stdout",
     "output_type": "stream",
     "text": [
      "Initial conditions: X =  -0.001  X_punto =  3e-06\n"
     ]
    },
    {
     "data": {
      "application/vnd.jupyter.widget-view+json": {
       "model_id": "bdb427c786b64cfd991f3fc80f22a7f9",
       "version_major": 2,
       "version_minor": 0
      },
      "text/plain": [
       "Canvas(toolbar=Toolbar(toolitems=[('Home', 'Reset original view', 'home', 'home'), ('Back', 'Back to previous …"
      ]
     },
     "metadata": {},
     "output_type": "display_data"
    },
    {
     "data": {
      "text/plain": [
       "[<matplotlib.lines.Line2D at 0x7f2ce4249490>]"
      ]
     },
     "execution_count": 40,
     "metadata": {},
     "output_type": "execute_result"
    }
   ],
   "source": [
    "X0 = (-.001, 0.000003)\n",
    "print('Initial conditions: X = ',X0[0],' X_punto = ',X0[1])\n",
    "t = np.linspace(0,64,10000)\n",
    "t2 = np.linspace(0,64,len(x))\n",
    "tray = odeint(f,X0,t).T\n",
    "\n",
    "fig = plt.figure()\n",
    "\n",
    "plt.plot(t,tray[0])\n",
    "plt.plot(t2,x)\n"
   ]
  },
  {
   "cell_type": "code",
   "execution_count": 41,
   "metadata": {},
   "outputs": [
    {
     "data": {
      "application/vnd.jupyter.widget-view+json": {
       "model_id": "387cd19ca486473a84bd15e31a8f6255",
       "version_major": 2,
       "version_minor": 0
      },
      "text/plain": [
       "Canvas(toolbar=Toolbar(toolitems=[('Home', 'Reset original view', 'home', 'home'), ('Back', 'Back to previous …"
      ]
     },
     "metadata": {},
     "output_type": "display_data"
    }
   ],
   "source": [
    "t = np.linspace(0,1,1000)\n",
    "t2 = np.linspace(150,0,1000)\n",
    "\n",
    "\n",
    "X0 = (x[0],x_punto[0])\n",
    "tray = odeint(f,X0,t2).T\n",
    "\n",
    "X1 = (-.1,.01)\n",
    "tray1 = odeint(f,X1,t2).T\n",
    "\n",
    "X2 = (1,.01)\n",
    "tray2 = odeint(f,X2,t).T\n",
    "\n",
    "X3 = (-.5,.01)\n",
    "tray3 = odeint(f,X3,t2).T\n",
    "\n",
    "\n",
    "\n",
    "plt.figure()\n",
    "plt.plot(tray[0],tray[1])\n",
    "plt.plot(tray1[0],tray1[1])\n",
    "plt.plot(tray2[0],tray2[1])\n",
    "plt.plot(tray3[0],tray3[1])\n",
    "\n",
    "a = tray[:,-1]\n",
    "a2 = tray3[:,-1]\n"
   ]
  },
  {
   "cell_type": "code",
   "execution_count": null,
   "metadata": {},
   "outputs": [],
   "source": []
  },
  {
   "cell_type": "code",
   "execution_count": null,
   "metadata": {},
   "outputs": [],
   "source": []
  }
 ],
 "metadata": {
  "kernelspec": {
   "display_name": "Python 3",
   "language": "python",
   "name": "python3"
  },
  "language_info": {
   "codemirror_mode": {
    "name": "ipython",
    "version": 3
   },
   "file_extension": ".py",
   "mimetype": "text/x-python",
   "name": "python",
   "nbconvert_exporter": "python",
   "pygments_lexer": "ipython3",
   "version": "3.7.6"
  }
 },
 "nbformat": 4,
 "nbformat_minor": 4
}
